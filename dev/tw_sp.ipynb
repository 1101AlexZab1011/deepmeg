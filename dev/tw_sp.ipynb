{
 "cells": [
  {
   "attachments": {},
   "cell_type": "markdown",
   "metadata": {},
   "source": [
    "## Import data, set logging level"
   ]
  },
  {
   "cell_type": "code",
   "execution_count": 1,
   "metadata": {},
   "outputs": [],
   "source": [
    "from mne.datasets import multimodal\n",
    "import mne\n",
    "mne.set_log_level(verbose='CRITICAL')\n",
    "import os\n",
    "import sys\n",
    "sys.path.insert(1, os.path.realpath(os.path.pardir))\n",
    "from deepmeg.training.callbacks import Callback, EarlyStopping, L2Reg\n",
    "from deepmeg.training.trainers import Trainer\n",
    "from deepmeg.data.datasets import read_epochs_dataset, EpochsDataset\n",
    "from deepmeg.preprocessing.transforms import zscore\n",
    "from deepmeg.models import BaseModel\n",
    "import torch.nn.init as init\n",
    "\n",
    "import torch\n",
    "import torch.nn as nn\n",
    "from collections import defaultdict\n",
    "from deepmeg.data.utils import make_train_and_val_loaders\n",
    "from torch.utils.data import DataLoader, Dataset\n",
    "import torchmetrics\n",
    "from deepmeg.training.callbacks import PrintingCallback\n",
    "import matplotlib.pyplot as plt\n",
    "import numpy as np"
   ]
  },
  {
   "attachments": {},
   "cell_type": "markdown",
   "metadata": {},
   "source": [
    "## Read the dataset"
   ]
  },
  {
   "cell_type": "code",
   "execution_count": 2,
   "metadata": {},
   "outputs": [],
   "source": [
    "dataset = read_epochs_dataset('../data/multimodal.pt')\n",
    "\n",
    "train, test = torch.utils.data.random_split(dataset, [.7, .3])\n",
    "X, y = next(iter(DataLoader(test, len(test))))"
   ]
  },
  {
   "cell_type": "code",
   "execution_count": 3,
   "metadata": {},
   "outputs": [
    {
     "data": {
      "text/plain": [
       "torch.Size([282, 204, 301])"
      ]
     },
     "execution_count": 3,
     "metadata": {},
     "output_type": "execute_result"
    }
   ],
   "source": [
    "X.shape"
   ]
  },
  {
   "attachments": {},
   "cell_type": "markdown",
   "metadata": {},
   "source": [
    "## Create a model, inheriting from the BaseModel class.\n",
    "This model has a spatial filtering layer with a choice of each n-th output and a fully connected layer for predicting"
   ]
  },
  {
   "cell_type": "code",
   "execution_count": 4,
   "metadata": {},
   "outputs": [],
   "source": [
    "class TinyNet(BaseModel):\n",
    "\n",
    "    def __init__(\n",
    "        self,\n",
    "        n_channels: int,\n",
    "        n_latent: int,\n",
    "        n_times: int,\n",
    "        pool_factor: int,\n",
    "        n_outputs: int\n",
    "    ):\n",
    "        super().__init__()\n",
    "        self.pool_factor = pool_factor\n",
    "        self.unmixing_layer = nn.Conv1d(n_channels, n_latent, kernel_size=1, bias=False)\n",
    "        final_out_features = (n_times//pool_factor+1)*n_latent\n",
    "        self.fc_layer = nn.Linear(final_out_features, n_outputs)\n",
    "\n",
    "\n",
    "    def forward(self, x: torch.Tensor):\n",
    "        x = self.unmixing_layer(x)\n",
    "        x = x[:, :, ::self.pool_factor].contiguous()\n",
    "        x = torch.flatten(x, 1)\n",
    "        return self.fc_layer(x)"
   ]
  },
  {
   "cell_type": "code",
   "execution_count": 5,
   "metadata": {},
   "outputs": [],
   "source": [
    "class Fourier(nn.Module):\n",
    "    def __init__(self, n_points, n_components):\n",
    "        super().__init__()\n",
    "        self.n_points = n_points\n",
    "        self.n_components = n_components\n",
    "        self.a = nn.Parameter(torch.empty(self.n_points, self.n_components, 1))\n",
    "        self.b = nn.Parameter(torch.empty(self.n_points, self.n_components, 1))\n",
    "        self.a0 = nn.Parameter(torch.empty(self.n_points, 1))\n",
    "        self.reset_parameters()\n",
    "\n",
    "    def reset_parameters(self) -> None:\n",
    "        init.uniform_(self.a, -0.01, 0.01)\n",
    "        init.uniform_(self.b, -0.01, 0.01)\n",
    "        init.uniform_(self.a0, -0.01, 0.01)\n",
    "\n",
    "    def forward(self, x):\n",
    "        out = (x@self.a0)/(2*self.n_points)*torch.ones_like(x)\n",
    "\n",
    "        for n in range(self.n_components):\n",
    "            out += (x@self.a[:, n])*torch.cos((2*np.pi*x*n)/self.n_points) + (x@self.b[:, n])*torch.sin((2*np.pi*x*n)/self.n_points)\n",
    "\n",
    "        return out\n",
    "\n",
    "\n",
    "class FourierNet(BaseModel):\n",
    "\n",
    "    def __init__(self, n_points, n_components):\n",
    "        super().__init__()\n",
    "        self.layer = Fourier(n_points, n_components)\n",
    "        self.bn = nn.BatchNorm1d(n_points)\n",
    "\n",
    "    def forward(self, x):\n",
    "        x = self.bn(x)\n",
    "        x = self.layer(x)\n",
    "        return x"
   ]
  },
  {
   "cell_type": "code",
   "execution_count": 3,
   "metadata": {},
   "outputs": [],
   "source": [
    "import sys\n",
    "\n",
    "class Net(BaseModel):\n",
    "\n",
    "    def __init__(\n",
    "        self,\n",
    "        n_channels: int,\n",
    "        n_components: int,\n",
    "        n_latent: int,\n",
    "        n_times: int,\n",
    "        pool_factor: int,\n",
    "        n_outputs: int\n",
    "    ):\n",
    "        super().__init__()\n",
    "        self.n_latent = n_latent\n",
    "        self.pool_factor = pool_factor\n",
    "        self.unmixing_layer = nn.ModuleList([\n",
    "            FourierNet(n_channels, n_components)\n",
    "            for _ in range(n_latent)])\n",
    "        final_out_features = (n_times//pool_factor+1)*n_latent\n",
    "        self.fc_layer = nn.Linear(final_out_features, n_outputs)\n",
    "\n",
    "\n",
    "    def forward(self, x: torch.Tensor):\n",
    "        x_dmx = torch.zeros((x.shape[0], self.n_latent, x.shape[-1]))\n",
    "\n",
    "        for n_latent in range(self.n_latent):\n",
    "            print(sys.getsizeof(x_dmx), sys.getsizeof(self))\n",
    "            for timepoint in range(\n",
    "                x.shape[-1]\n",
    "            ):\n",
    "                x_dmx[:, n_latent, timepoint] = (x[:, :, timepoint]*self.unmixing_layer[n_latent](x[:, :, timepoint])).sum(1)\n",
    "\n",
    "        x = x_dmx[:, :, ::self.pool_factor].contiguous()\n",
    "        x = torch.flatten(x, 1)\n",
    "        return self.fc_layer(x)"
   ]
  },
  {
   "cell_type": "code",
   "execution_count": 10,
   "metadata": {},
   "outputs": [],
   "source": [
    "model = Net(\n",
    "    n_channels=204, # ~ number of channels (gradiometers)\n",
    "    n_components=15,\n",
    "    n_latent=5, # ~ number of latent factors\n",
    "    n_times=301, # ~ number of samples in epoch after preprocessing\n",
    "    pool_factor=10, # ~ take each 10th sample from spatially filtered components\n",
    "    n_outputs=8 # ~ number of output classes (number of events in epochs)\n",
    ")"
   ]
  },
  {
   "cell_type": "code",
   "execution_count": null,
   "metadata": {},
   "outputs": [],
   "source": [
    "out = model(X)"
   ]
  },
  {
   "cell_type": "code",
   "execution_count": 3,
   "metadata": {},
   "outputs": [],
   "source": [
    "import sys\n",
    "\n",
    "class Fourier(nn.Module):\n",
    "    def __init__(self, n_points, n_components):\n",
    "        super().__init__()\n",
    "        self.n_points = n_points\n",
    "        self.n_components = n_components\n",
    "        self.a = nn.Parameter(torch.empty(self.n_points, self.n_components, 1))\n",
    "        self.b = nn.Parameter(torch.empty(self.n_points, self.n_components, 1))\n",
    "        self.a0 = nn.Parameter(torch.empty(self.n_points, 1))\n",
    "        self.reset_parameters()\n",
    "\n",
    "    def reset_parameters(self) -> None:\n",
    "        init.uniform_(self.a, -0.01, 0.01)\n",
    "        init.uniform_(self.b, -0.01, 0.01)\n",
    "        init.uniform_(self.a0, -0.01, 0.01)\n",
    "\n",
    "    def forward(self, x):\n",
    "        out = (x@self.a0)/(2*self.n_points)*torch.ones_like(x)\n",
    "\n",
    "        for n in range(self.n_components):\n",
    "            # out += (x@self.a[:, n])*torch.cos((2*np.pi*x*n)/self.n_points) + (x@self.b[:, n])*torch.sin((2*np.pi*x*n)/self.n_points)\n",
    "            # out = out + x@self.a[:, n]*torch.cos(x)\n",
    "            out.add_(x@self.a[:, n]*torch.cos(x))\n",
    "\n",
    "        return out\n",
    "\n",
    "\n",
    "class Branch(nn.Module):\n",
    "\n",
    "    def __init__(\n",
    "        self,\n",
    "        n_channels: int,\n",
    "        n_components: int\n",
    "    ):\n",
    "        super().__init__()\n",
    "        self.unmixing_layer = Fourier(n_channels, n_components)\n",
    "\n",
    "\n",
    "    def forward(self, x: torch.Tensor):\n",
    "        x_dmx = torch.zeros((x.shape[0], x.shape[-1]))\n",
    "\n",
    "        for timepoint in range(\n",
    "            x.shape[-1]\n",
    "        ):\n",
    "            x_dmx[:, timepoint] = (x[:, :, timepoint]*self.unmixing_layer(x[:, :, timepoint])).sum(1)\n",
    "        return x_dmx"
   ]
  },
  {
   "cell_type": "code",
   "execution_count": 4,
   "metadata": {},
   "outputs": [],
   "source": [
    "b = Branch(204, 15)"
   ]
  },
  {
   "cell_type": "code",
   "execution_count": 5,
   "metadata": {},
   "outputs": [],
   "source": [
    "with torch.no_grad():\n",
    "    out = b(X)"
   ]
  },
  {
   "cell_type": "code",
   "execution_count": 22,
   "metadata": {},
   "outputs": [
    {
     "data": {
      "text/plain": [
       "72"
      ]
     },
     "execution_count": 22,
     "metadata": {},
     "output_type": "execute_result"
    }
   ],
   "source": [
    "sys.getsizeof(b.unmixing_layer.layer.b)"
   ]
  },
  {
   "cell_type": "code",
   "execution_count": 14,
   "metadata": {},
   "outputs": [],
   "source": [
    "from copy import deepcopy"
   ]
  },
  {
   "cell_type": "code",
   "execution_count": 11,
   "metadata": {},
   "outputs": [],
   "source": [
    "\n",
    "g_2 = globals()\n",
    "\n"
   ]
  },
  {
   "cell_type": "code",
   "execution_count": null,
   "metadata": {},
   "outputs": [],
   "source": [
    "for (name, val1), val2 in zip(g_1.items(), g_2.values()):\n",
    "    print(name, sys.getsizeof(val1), sys.getsizeof(val2))"
   ]
  },
  {
   "cell_type": "code",
   "execution_count": 16,
   "metadata": {},
   "outputs": [],
   "source": [
    "del out"
   ]
  },
  {
   "cell_type": "code",
   "execution_count": 14,
   "metadata": {},
   "outputs": [
    {
     "data": {
      "text/plain": [
       "Fourier()"
      ]
     },
     "execution_count": 14,
     "metadata": {},
     "output_type": "execute_result"
    }
   ],
   "source": [
    "model.unmixing_layer[0]."
   ]
  },
  {
   "cell_type": "code",
   "execution_count": null,
   "metadata": {},
   "outputs": [
    {
     "data": {
      "text/plain": [
       "torch.Size([282, 1, 301])"
      ]
     },
     "execution_count": 14,
     "metadata": {},
     "output_type": "execute_result"
    }
   ],
   "source": [
    "out.shape"
   ]
  },
  {
   "cell_type": "code",
   "execution_count": 29,
   "metadata": {},
   "outputs": [
    {
     "data": {
      "text/plain": [
       "tensor([[2.1484e-32, 4.5716e-41]])"
      ]
     },
     "execution_count": 29,
     "metadata": {},
     "output_type": "execute_result"
    }
   ],
   "source": [
    "torch.empty((1, 2))"
   ]
  },
  {
   "cell_type": "code",
   "execution_count": 14,
   "metadata": {},
   "outputs": [],
   "source": [
    "# very simple function to plot history of the model training\n",
    "\n",
    "def plot_metrics(metrics: dict[str, np.ndarray]):\n",
    "    plot_dict = defaultdict(dict)\n",
    "\n",
    "    for metric, values in metrics.items():\n",
    "        metric_data = metric.split('_')\n",
    "        metric_name = '_'.join(metric_data[:-1])\n",
    "        metric_kind = metric_data[-1]\n",
    "        plot_dict[metric_name][metric_kind] = values\n",
    "\n",
    "    for metric_name, kind_dict in plot_dict.items():\n",
    "        legend = list()\n",
    "        for metric_kind, kind in kind_dict.items():\n",
    "            plt.plot(kind)\n",
    "            legend.append(metric_kind)\n",
    "        plt.title(metric_name)\n",
    "        plt.legend(legend)\n",
    "        plt.show()"
   ]
  },
  {
   "attachments": {},
   "cell_type": "markdown",
   "metadata": {},
   "source": [
    "## Compile the model"
   ]
  },
  {
   "cell_type": "code",
   "execution_count": 15,
   "metadata": {},
   "outputs": [],
   "source": [
    "model = TinyNet(\n",
    "    n_channels=204, # ~ number of channels (gradiometers)\n",
    "    n_latent=8, # ~ number of latent factors\n",
    "    n_times=301, # ~ number of samples in epoch after preprocessing\n",
    "    pool_factor=10, # ~ take each 10th sample from spatially filtered components\n",
    "    n_outputs=8 # ~ number of output classes (number of events in epochs)\n",
    ")\n",
    "\n",
    "# if you want to define optimizer, do not forget to specify model parameters (e.g., torch.optim.Adam(model.parameters()))\n",
    "optimizer = torch.optim.Adam\n",
    "\n",
    "loss = torch.nn.BCEWithLogitsLoss()\n",
    "metric = torchmetrics.functional.classification.binary_accuracy\n",
    "\n",
    "# in model compilation two callbacks are used: PrintingCallback is used to print training history and EarlyStopping is used to prevent overfitting\n",
    "model.compile(\n",
    "    optimizer,\n",
    "    loss,\n",
    "    metric,\n",
    "    callbacks=[\n",
    "        PrintingCallback(),\n",
    "        EarlyStopping(monitor='loss_val', restore_best_weights=False)\n",
    "    ]\n",
    ")"
   ]
  },
  {
   "attachments": {},
   "cell_type": "markdown",
   "metadata": {},
   "source": [
    "## Training the model"
   ]
  },
  {
   "cell_type": "code",
   "execution_count": 16,
   "metadata": {},
   "outputs": [
    {
     "name": "stdout",
     "output_type": "stream",
     "text": [
      "Epoch 0:  loss_train:  0.7123   |    binary_accuracy_train:  0.4852   |    loss_val:  0.7093   |    binary_accuracy_val:  0.4929\n",
      "Epoch 1:  loss_train:  0.7043   |    binary_accuracy_train:  0.5064   |    loss_val:  0.7048   |    binary_accuracy_val:  0.5053\n",
      "Epoch 2:  loss_train:  0.6965   |    binary_accuracy_train:  0.5286   |    loss_val:  0.7003   |    binary_accuracy_val:  0.5080\n",
      "Epoch 3:  loss_train:  0.6890   |    binary_accuracy_train:  0.5496   |    loss_val:  0.6959   |    binary_accuracy_val:  0.5225\n",
      "Epoch 4:  loss_train:  0.6815   |    binary_accuracy_train:  0.5708   |    loss_val:  0.6913   |    binary_accuracy_val:  0.5303\n",
      "Epoch 5:  loss_train:  0.6741   |    binary_accuracy_train:  0.5868   |    loss_val:  0.6866   |    binary_accuracy_val:  0.5407\n",
      "Epoch 6:  loss_train:  0.6666   |    binary_accuracy_train:  0.6011   |    loss_val:  0.6816   |    binary_accuracy_val:  0.5530\n",
      "Epoch 7:  loss_train:  0.6590   |    binary_accuracy_train:  0.6218   |    loss_val:  0.6764   |    binary_accuracy_val:  0.5688\n",
      "Epoch 8:  loss_train:  0.6512   |    binary_accuracy_train:  0.6351   |    loss_val:  0.6709   |    binary_accuracy_val:  0.5791\n",
      "Epoch 9:  loss_train:  0.6432   |    binary_accuracy_train:  0.6514   |    loss_val:  0.6652   |    binary_accuracy_val:  0.5853\n",
      "Epoch 10: loss_train:  0.6349   |    binary_accuracy_train:  0.6652   |    loss_val:  0.6591   |    binary_accuracy_val:  0.6065\n",
      "Epoch 11: loss_train:  0.6264   |    binary_accuracy_train:  0.6797   |    loss_val:  0.6528   |    binary_accuracy_val:  0.6216\n",
      "Epoch 12: loss_train:  0.6176   |    binary_accuracy_train:  0.6916   |    loss_val:  0.6462   |    binary_accuracy_val:  0.6292\n",
      "Epoch 13: loss_train:  0.6085   |    binary_accuracy_train:  0.7029   |    loss_val:  0.6394   |    binary_accuracy_val:  0.6382\n",
      "Epoch 14: loss_train:  0.5993   |    binary_accuracy_train:  0.7143   |    loss_val:  0.6324   |    binary_accuracy_val:  0.6437\n",
      "Epoch 15: loss_train:  0.5897   |    binary_accuracy_train:  0.7221   |    loss_val:  0.6253   |    binary_accuracy_val:  0.6541\n",
      "Epoch 16: loss_train:  0.5800   |    binary_accuracy_train:  0.7315   |    loss_val:  0.6180   |    binary_accuracy_val:  0.6603\n",
      "Epoch 17: loss_train:  0.5702   |    binary_accuracy_train:  0.7416   |    loss_val:  0.6106   |    binary_accuracy_val:  0.6631\n",
      "Epoch 18: loss_train:  0.5602   |    binary_accuracy_train:  0.7510   |    loss_val:  0.6032   |    binary_accuracy_val:  0.6714\n",
      "Epoch 19: loss_train:  0.5502   |    binary_accuracy_train:  0.7571   |    loss_val:  0.5958   |    binary_accuracy_val:  0.6783\n",
      "Epoch 20: loss_train:  0.5401   |    binary_accuracy_train:  0.7626   |    loss_val:  0.5885   |    binary_accuracy_val:  0.6879\n",
      "Epoch 21: loss_train:  0.5300   |    binary_accuracy_train:  0.7665   |    loss_val:  0.5813   |    binary_accuracy_val:  0.6961\n",
      "Epoch 22: loss_train:  0.5200   |    binary_accuracy_train:  0.7705   |    loss_val:  0.5743   |    binary_accuracy_val:  0.7037\n",
      "Epoch 23: loss_train:  0.5100   |    binary_accuracy_train:  0.7781   |    loss_val:  0.5674   |    binary_accuracy_val:  0.7105\n",
      "Epoch 24: loss_train:  0.5002   |    binary_accuracy_train:  0.7850   |    loss_val:  0.5607   |    binary_accuracy_val:  0.7174\n",
      "Epoch 25: loss_train:  0.4905   |    binary_accuracy_train:  0.7917   |    loss_val:  0.5542   |    binary_accuracy_val:  0.7201\n",
      "Epoch 26: loss_train:  0.4809   |    binary_accuracy_train:  0.7961   |    loss_val:  0.5478   |    binary_accuracy_val:  0.7222\n",
      "Epoch 27: loss_train:  0.4716   |    binary_accuracy_train:  0.7991   |    loss_val:  0.5416   |    binary_accuracy_val:  0.7324\n",
      "Epoch 28: loss_train:  0.4624   |    binary_accuracy_train:  0.8030   |    loss_val:  0.5356   |    binary_accuracy_val:  0.7345\n",
      "Epoch 29: loss_train:  0.4535   |    binary_accuracy_train:  0.8060   |    loss_val:  0.5296   |    binary_accuracy_val:  0.7360\n",
      "Epoch 30: loss_train:  0.4447   |    binary_accuracy_train:  0.8119   |    loss_val:  0.5237   |    binary_accuracy_val:  0.7353\n",
      "Epoch 31: loss_train:  0.4361   |    binary_accuracy_train:  0.8180   |    loss_val:  0.5179   |    binary_accuracy_val:  0.7415\n",
      "Epoch 32: loss_train:  0.4278   |    binary_accuracy_train:  0.8220   |    loss_val:  0.5121   |    binary_accuracy_val:  0.7429\n",
      "Epoch 33: loss_train:  0.4195   |    binary_accuracy_train:  0.8262   |    loss_val:  0.5063   |    binary_accuracy_val:  0.7462\n",
      "Epoch 34: loss_train:  0.4115   |    binary_accuracy_train:  0.8304   |    loss_val:  0.5005   |    binary_accuracy_val:  0.7463\n",
      "Epoch 35: loss_train:  0.4036   |    binary_accuracy_train:  0.8343   |    loss_val:  0.4948   |    binary_accuracy_val:  0.7490\n",
      "Epoch 36: loss_train:  0.3958   |    binary_accuracy_train:  0.8385   |    loss_val:  0.4890   |    binary_accuracy_val:  0.7497\n",
      "Epoch 37: loss_train:  0.3882   |    binary_accuracy_train:  0.8412   |    loss_val:  0.4833   |    binary_accuracy_val:  0.7517\n",
      "Epoch 38: loss_train:  0.3807   |    binary_accuracy_train:  0.8447   |    loss_val:  0.4776   |    binary_accuracy_val:  0.7586\n",
      "Epoch 39: loss_train:  0.3733   |    binary_accuracy_train:  0.8457   |    loss_val:  0.4718   |    binary_accuracy_val:  0.7599\n",
      "Epoch 40: loss_train:  0.3661   |    binary_accuracy_train:  0.8476   |    loss_val:  0.4661   |    binary_accuracy_val:  0.7619\n",
      "Epoch 41: loss_train:  0.3590   |    binary_accuracy_train:  0.8513   |    loss_val:  0.4604   |    binary_accuracy_val:  0.7659\n",
      "Epoch 42: loss_train:  0.3520   |    binary_accuracy_train:  0.8526   |    loss_val:  0.4547   |    binary_accuracy_val:  0.7707\n",
      "Epoch 43: loss_train:  0.3451   |    binary_accuracy_train:  0.8560   |    loss_val:  0.4491   |    binary_accuracy_val:  0.7741\n",
      "Epoch 44: loss_train:  0.3384   |    binary_accuracy_train:  0.8585   |    loss_val:  0.4435   |    binary_accuracy_val:  0.7783\n",
      "Epoch 45: loss_train:  0.3318   |    binary_accuracy_train:  0.8612   |    loss_val:  0.4379   |    binary_accuracy_val:  0.7804\n",
      "Epoch 46: loss_train:  0.3253   |    binary_accuracy_train:  0.8654   |    loss_val:  0.4325   |    binary_accuracy_val:  0.7851\n",
      "Epoch 47: loss_train:  0.3190   |    binary_accuracy_train:  0.8679   |    loss_val:  0.4271   |    binary_accuracy_val:  0.7892\n",
      "Epoch 48: loss_train:  0.3128   |    binary_accuracy_train:  0.8725   |    loss_val:  0.4219   |    binary_accuracy_val:  0.7933\n",
      "Epoch 49: loss_train:  0.3067   |    binary_accuracy_train:  0.8752   |    loss_val:  0.4168   |    binary_accuracy_val:  0.7995\n",
      "Epoch 50: loss_train:  0.3008   |    binary_accuracy_train:  0.8775   |    loss_val:  0.4119   |    binary_accuracy_val:  0.8036\n",
      "Epoch 51: loss_train:  0.2949   |    binary_accuracy_train:  0.8807   |    loss_val:  0.4071   |    binary_accuracy_val:  0.8043\n",
      "Epoch 52: loss_train:  0.2892   |    binary_accuracy_train:  0.8841   |    loss_val:  0.4025   |    binary_accuracy_val:  0.8111\n",
      "Epoch 53: loss_train:  0.2837   |    binary_accuracy_train:  0.8873   |    loss_val:  0.3980   |    binary_accuracy_val:  0.8131\n",
      "Epoch 54: loss_train:  0.2782   |    binary_accuracy_train:  0.8898   |    loss_val:  0.3938   |    binary_accuracy_val:  0.8118\n",
      "Epoch 55: loss_train:  0.2728   |    binary_accuracy_train:  0.8945   |    loss_val:  0.3896   |    binary_accuracy_val:  0.8145\n",
      "Epoch 56: loss_train:  0.2676   |    binary_accuracy_train:  0.8979   |    loss_val:  0.3857   |    binary_accuracy_val:  0.8180\n",
      "Epoch 57: loss_train:  0.2625   |    binary_accuracy_train:  0.9026   |    loss_val:  0.3819   |    binary_accuracy_val:  0.8207\n",
      "Epoch 58: loss_train:  0.2574   |    binary_accuracy_train:  0.9048   |    loss_val:  0.3782   |    binary_accuracy_val:  0.8220\n",
      "Epoch 59: loss_train:  0.2525   |    binary_accuracy_train:  0.9075   |    loss_val:  0.3747   |    binary_accuracy_val:  0.8261\n",
      "Epoch 60: loss_train:  0.2477   |    binary_accuracy_train:  0.9112   |    loss_val:  0.3714   |    binary_accuracy_val:  0.8282\n",
      "Epoch 61: loss_train:  0.2429   |    binary_accuracy_train:  0.9137   |    loss_val:  0.3681   |    binary_accuracy_val:  0.8289\n",
      "Epoch 62: loss_train:  0.2382   |    binary_accuracy_train:  0.9164   |    loss_val:  0.3650   |    binary_accuracy_val:  0.8316\n",
      "Epoch 63: loss_train:  0.2337   |    binary_accuracy_train:  0.9186   |    loss_val:  0.3621   |    binary_accuracy_val:  0.8330\n",
      "Epoch 64: loss_train:  0.2292   |    binary_accuracy_train:  0.9204   |    loss_val:  0.3592   |    binary_accuracy_val:  0.8336\n",
      "Epoch 65: loss_train:  0.2248   |    binary_accuracy_train:  0.9223   |    loss_val:  0.3564   |    binary_accuracy_val:  0.8371\n",
      "Epoch 66: loss_train:  0.2204   |    binary_accuracy_train:  0.9241   |    loss_val:  0.3538   |    binary_accuracy_val:  0.8392\n",
      "Epoch 67: loss_train:  0.2162   |    binary_accuracy_train:  0.9268   |    loss_val:  0.3512   |    binary_accuracy_val:  0.8412\n",
      "Epoch 68: loss_train:  0.2120   |    binary_accuracy_train:  0.9300   |    loss_val:  0.3488   |    binary_accuracy_val:  0.8446\n",
      "Epoch 69: loss_train:  0.2079   |    binary_accuracy_train:  0.9320   |    loss_val:  0.3464   |    binary_accuracy_val:  0.8460\n",
      "Epoch 70: loss_train:  0.2039   |    binary_accuracy_train:  0.9339   |    loss_val:  0.3441   |    binary_accuracy_val:  0.8460\n",
      "Epoch 71: loss_train:  0.2000   |    binary_accuracy_train:  0.9357   |    loss_val:  0.3419   |    binary_accuracy_val:  0.8473\n",
      "Epoch 72: loss_train:  0.1961   |    binary_accuracy_train:  0.9381   |    loss_val:  0.3397   |    binary_accuracy_val:  0.8480\n",
      "Epoch 73: loss_train:  0.1923   |    binary_accuracy_train:  0.9401   |    loss_val:  0.3376   |    binary_accuracy_val:  0.8473\n",
      "Epoch 74: loss_train:  0.1886   |    binary_accuracy_train:  0.9426   |    loss_val:  0.3356   |    binary_accuracy_val:  0.8473\n",
      "Epoch 75: loss_train:  0.1850   |    binary_accuracy_train:  0.9438   |    loss_val:  0.3336   |    binary_accuracy_val:  0.8494\n",
      "Epoch 76: loss_train:  0.1814   |    binary_accuracy_train:  0.9443   |    loss_val:  0.3317   |    binary_accuracy_val:  0.8480\n",
      "Epoch 77: loss_train:  0.1779   |    binary_accuracy_train:  0.9455   |    loss_val:  0.3298   |    binary_accuracy_val:  0.8487\n",
      "Epoch 78: loss_train:  0.1744   |    binary_accuracy_train:  0.9472   |    loss_val:  0.3280   |    binary_accuracy_val:  0.8487\n",
      "Epoch 79: loss_train:  0.1711   |    binary_accuracy_train:  0.9487   |    loss_val:  0.3262   |    binary_accuracy_val:  0.8487\n",
      "Epoch 80: loss_train:  0.1678   |    binary_accuracy_train:  0.9497   |    loss_val:  0.3245   |    binary_accuracy_val:  0.8507\n",
      "Epoch 81: loss_train:  0.1645   |    binary_accuracy_train:  0.9522   |    loss_val:  0.3228   |    binary_accuracy_val:  0.8521\n",
      "Epoch 82: loss_train:  0.1614   |    binary_accuracy_train:  0.9524   |    loss_val:  0.3212   |    binary_accuracy_val:  0.8535\n",
      "Epoch 83: loss_train:  0.1583   |    binary_accuracy_train:  0.9556   |    loss_val:  0.3196   |    binary_accuracy_val:  0.8535\n",
      "Epoch 84: loss_train:  0.1552   |    binary_accuracy_train:  0.9561   |    loss_val:  0.3180   |    binary_accuracy_val:  0.8542\n",
      "Epoch 85: loss_train:  0.1522   |    binary_accuracy_train:  0.9578   |    loss_val:  0.3165   |    binary_accuracy_val:  0.8563\n",
      "Epoch 86: loss_train:  0.1493   |    binary_accuracy_train:  0.9588   |    loss_val:  0.3150   |    binary_accuracy_val:  0.8563\n",
      "Epoch 87: loss_train:  0.1465   |    binary_accuracy_train:  0.9596   |    loss_val:  0.3136   |    binary_accuracy_val:  0.8576\n",
      "Epoch 88: loss_train:  0.1437   |    binary_accuracy_train:  0.9610   |    loss_val:  0.3121   |    binary_accuracy_val:  0.8583\n",
      "Epoch 89: loss_train:  0.1409   |    binary_accuracy_train:  0.9630   |    loss_val:  0.3108   |    binary_accuracy_val:  0.8576\n",
      "Epoch 90: loss_train:  0.1382   |    binary_accuracy_train:  0.9630   |    loss_val:  0.3094   |    binary_accuracy_val:  0.8583\n",
      "Epoch 91: loss_train:  0.1356   |    binary_accuracy_train:  0.9645   |    loss_val:  0.3081   |    binary_accuracy_val:  0.8570\n",
      "Epoch 92: loss_train:  0.1330   |    binary_accuracy_train:  0.9657   |    loss_val:  0.3068   |    binary_accuracy_val:  0.8570\n",
      "Epoch 93: loss_train:  0.1305   |    binary_accuracy_train:  0.9675   |    loss_val:  0.3056   |    binary_accuracy_val:  0.8570\n",
      "Epoch 94: loss_train:  0.1280   |    binary_accuracy_train:  0.9692   |    loss_val:  0.3044   |    binary_accuracy_val:  0.8570\n",
      "Epoch 95: loss_train:  0.1256   |    binary_accuracy_train:  0.9704   |    loss_val:  0.3032   |    binary_accuracy_val:  0.8577\n",
      "Epoch 96: loss_train:  0.1232   |    binary_accuracy_train:  0.9714   |    loss_val:  0.3021   |    binary_accuracy_val:  0.8591\n",
      "Epoch 97: loss_train:  0.1209   |    binary_accuracy_train:  0.9714   |    loss_val:  0.3010   |    binary_accuracy_val:  0.8591\n",
      "Epoch 98: loss_train:  0.1187   |    binary_accuracy_train:  0.9721   |    loss_val:  0.2999   |    binary_accuracy_val:  0.8605\n",
      "Epoch 99: loss_train:  0.1164   |    binary_accuracy_train:  0.9736   |    loss_val:  0.2989   |    binary_accuracy_val:  0.8618\n",
      "Epoch 100:loss_train:  0.1143   |    binary_accuracy_train:  0.9741   |    loss_val:  0.2979   |    binary_accuracy_val:  0.8618\n",
      "Epoch 101:loss_train:  0.1121   |    binary_accuracy_train:  0.9744   |    loss_val:  0.2970   |    binary_accuracy_val:  0.8631\n",
      "Epoch 102:loss_train:  0.1101   |    binary_accuracy_train:  0.9753   |    loss_val:  0.2961   |    binary_accuracy_val:  0.8652\n",
      "Epoch 103:loss_train:  0.1080   |    binary_accuracy_train:  0.9771   |    loss_val:  0.2952   |    binary_accuracy_val:  0.8666\n",
      "Epoch 104:loss_train:  0.1060   |    binary_accuracy_train:  0.9781   |    loss_val:  0.2943   |    binary_accuracy_val:  0.8673\n",
      "Epoch 105:loss_train:  0.1041   |    binary_accuracy_train:  0.9786   |    loss_val:  0.2935   |    binary_accuracy_val:  0.8673\n",
      "Epoch 106:loss_train:  0.1022   |    binary_accuracy_train:  0.9805   |    loss_val:  0.2928   |    binary_accuracy_val:  0.8673\n",
      "Epoch 107:loss_train:  0.1003   |    binary_accuracy_train:  0.9808   |    loss_val:  0.2920   |    binary_accuracy_val:  0.8687\n",
      "Epoch 108:loss_train:  0.0985   |    binary_accuracy_train:  0.9810   |    loss_val:  0.2913   |    binary_accuracy_val:  0.8680\n",
      "Epoch 109:loss_train:  0.0967   |    binary_accuracy_train:  0.9815   |    loss_val:  0.2906   |    binary_accuracy_val:  0.8686\n",
      "Epoch 110:loss_train:  0.0949   |    binary_accuracy_train:  0.9818   |    loss_val:  0.2900   |    binary_accuracy_val:  0.8693\n",
      "Epoch 111:loss_train:  0.0932   |    binary_accuracy_train:  0.9832   |    loss_val:  0.2894   |    binary_accuracy_val:  0.8707\n",
      "Epoch 112:loss_train:  0.0915   |    binary_accuracy_train:  0.9845   |    loss_val:  0.2888   |    binary_accuracy_val:  0.8707\n",
      "Epoch 113:loss_train:  0.0899   |    binary_accuracy_train:  0.9850   |    loss_val:  0.2883   |    binary_accuracy_val:  0.8727\n",
      "Epoch 114:loss_train:  0.0882   |    binary_accuracy_train:  0.9852   |    loss_val:  0.2877   |    binary_accuracy_val:  0.8734\n",
      "Epoch 115:loss_train:  0.0867   |    binary_accuracy_train:  0.9859   |    loss_val:  0.2872   |    binary_accuracy_val:  0.8727\n",
      "Epoch 116:loss_train:  0.0851   |    binary_accuracy_train:  0.9859   |    loss_val:  0.2868   |    binary_accuracy_val:  0.8727\n",
      "Epoch 117:loss_train:  0.0836   |    binary_accuracy_train:  0.9867   |    loss_val:  0.2863   |    binary_accuracy_val:  0.8720\n",
      "Epoch 118:loss_train:  0.0821   |    binary_accuracy_train:  0.9872   |    loss_val:  0.2859   |    binary_accuracy_val:  0.8747\n",
      "Epoch 119:loss_train:  0.0807   |    binary_accuracy_train:  0.9877   |    loss_val:  0.2855   |    binary_accuracy_val:  0.8734\n",
      "Epoch 120:loss_train:  0.0792   |    binary_accuracy_train:  0.9882   |    loss_val:  0.2852   |    binary_accuracy_val:  0.8720\n",
      "Epoch 121:loss_train:  0.0778   |    binary_accuracy_train:  0.9882   |    loss_val:  0.2848   |    binary_accuracy_val:  0.8720\n",
      "Epoch 122:loss_train:  0.0765   |    binary_accuracy_train:  0.9884   |    loss_val:  0.2845   |    binary_accuracy_val:  0.8720\n",
      "Epoch 123:loss_train:  0.0751   |    binary_accuracy_train:  0.9889   |    loss_val:  0.2842   |    binary_accuracy_val:  0.8720\n",
      "Epoch 124:loss_train:  0.0738   |    binary_accuracy_train:  0.9892   |    loss_val:  0.2839   |    binary_accuracy_val:  0.8720\n",
      "Epoch 125:loss_train:  0.0725   |    binary_accuracy_train:  0.9896   |    loss_val:  0.2837   |    binary_accuracy_val:  0.8734\n",
      "Epoch 126:loss_train:  0.0713   |    binary_accuracy_train:  0.9901   |    loss_val:  0.2835   |    binary_accuracy_val:  0.8754\n",
      "Epoch 127:loss_train:  0.0700   |    binary_accuracy_train:  0.9906   |    loss_val:  0.2833   |    binary_accuracy_val:  0.8754\n",
      "Epoch 128:loss_train:  0.0688   |    binary_accuracy_train:  0.9909   |    loss_val:  0.2831   |    binary_accuracy_val:  0.8754\n",
      "Epoch 129:loss_train:  0.0677   |    binary_accuracy_train:  0.9909   |    loss_val:  0.2829   |    binary_accuracy_val:  0.8747\n",
      "Epoch 130:loss_train:  0.0665   |    binary_accuracy_train:  0.9916   |    loss_val:  0.2828   |    binary_accuracy_val:  0.8754\n",
      "Epoch 131:loss_train:  0.0654   |    binary_accuracy_train:  0.9921   |    loss_val:  0.2827   |    binary_accuracy_val:  0.8747\n",
      "Epoch 132:loss_train:  0.0642   |    binary_accuracy_train:  0.9921   |    loss_val:  0.2826   |    binary_accuracy_val:  0.8747\n",
      "Epoch 133:loss_train:  0.0631   |    binary_accuracy_train:  0.9921   |    loss_val:  0.2825   |    binary_accuracy_val:  0.8747\n",
      "Epoch 134:loss_train:  0.0621   |    binary_accuracy_train:  0.9924   |    loss_val:  0.2824   |    binary_accuracy_val:  0.8747\n",
      "Epoch 135:loss_train:  0.0610   |    binary_accuracy_train:  0.9926   |    loss_val:  0.2824   |    binary_accuracy_val:  0.8747\n",
      "Epoch 136:loss_train:  0.0600   |    binary_accuracy_train:  0.9926   |    loss_val:  0.2823   |    binary_accuracy_val:  0.8761\n",
      "Epoch 137:loss_train:  0.0590   |    binary_accuracy_train:  0.9938   |    loss_val:  0.2823   |    binary_accuracy_val:  0.8761\n",
      "Epoch 138:loss_train:  0.0580   |    binary_accuracy_train:  0.9938   |    loss_val:  0.2823   |    binary_accuracy_val:  0.8761\n",
      "Epoch 139:loss_train:  0.0570   |    binary_accuracy_train:  0.9938   |    loss_val:  0.2824   |    binary_accuracy_val:  0.8761\n",
      "Epoch 140:loss_train:  0.0561   |    binary_accuracy_train:  0.9938   |    loss_val:  0.2824   |    binary_accuracy_val:  0.8768\n",
      "Epoch 141:loss_train:  0.0552   |    binary_accuracy_train:  0.9943   |    loss_val:  0.2825   |    binary_accuracy_val:  0.8789\n",
      "Epoch 142:loss_train:  0.0543   |    binary_accuracy_train:  0.9946   |    loss_val:  0.2825   |    binary_accuracy_val:  0.8782\n",
      "The training loop was completed at epoch 144 due to an interruption\n",
      " 95%|█████████▌| 143/150 [01:06<00:03,  2.16it/s]\n"
     ]
    },
    {
     "data": {
      "image/png": "[encoded data removed]",
      "text/plain": [
       "<Figure size 640x480 with 1 Axes>"
      ]
     },
     "metadata": {},
     "output_type": "display_data"
    },
    {
     "data": {
      "image/png": "[encoded data removed]",
      "text/plain": [
       "<Figure size 640x480 with 1 Axes>"
      ]
     },
     "metadata": {},
     "output_type": "display_data"
    }
   ],
   "source": [
    "history = model.fit(train, n_epochs=150, batch_size=200, val_batch_size=60, update_every_n_batches=10)\n",
    "plot_metrics(history)"
   ]
  },
  {
   "attachments": {},
   "cell_type": "markdown",
   "metadata": {},
   "source": [
    "## Evaluate the model"
   ]
  },
  {
   "cell_type": "code",
   "execution_count": 17,
   "metadata": {},
   "outputs": [
    {
     "name": "stdout",
     "output_type": "stream",
     "text": [
      "train_loss: 0.10703414881771262\n",
      "train_binary_accuracy: 0.9681599627841603\n",
      "loss: 0.33316386016932403\n",
      "binary_accuracy: 0.8620129932056774\n"
     ]
    }
   ],
   "source": [
    "train_result = model.evaluate(train)\n",
    "result = model.evaluate(test)\n",
    "\n",
    "for measure, value in train_result.items():\n",
    "    print(f'train_{measure}: {value}')\n",
    "\n",
    "for measure, value in result.items():\n",
    "    print(f'{measure}: {value}')"
   ]
  },
  {
   "attachments": {},
   "cell_type": "markdown",
   "metadata": {},
   "source": [
    "## Make prediction"
   ]
  },
  {
   "attachments": {},
   "cell_type": "markdown",
   "metadata": {},
   "source": [
    "#### Take a random sample from the test set"
   ]
  },
  {
   "cell_type": "code",
   "execution_count": 50,
   "metadata": {},
   "outputs": [
    {
     "name": "stdout",
     "output_type": "stream",
     "text": [
      "Sample 130\n"
     ]
    }
   ],
   "source": [
    "i = np.random.randint(len(test))\n",
    "print(f'Sample {i}')\n",
    "x, y = test[i]\n",
    "y = y.numpy()\n",
    "\n",
    "# unsqueezing due to the first dimension must be batch size\n",
    "x = torch.unsqueeze(x, 0)"
   ]
  },
  {
   "attachments": {},
   "cell_type": "markdown",
   "metadata": {},
   "source": [
    "#### Make a prediction, print the predicted value and the actual label"
   ]
  },
  {
   "cell_type": "code",
   "execution_count": 51,
   "metadata": {},
   "outputs": [
    {
     "name": "stdout",
     "output_type": "stream",
     "text": [
      "Prediction:  1.21 | -0.31 |  0.11 | -2.77 |  0.48 |  3.39 | -0.74 | -1.76\n",
      "Actual:      0.0  |  0.0  |  0.0  |  0.0  |  0.0  |  1.0  |  0.0  |  0.0 \n"
     ]
    }
   ],
   "source": [
    "y_pred = np.round(torch.squeeze(model(x)).detach().numpy(), 2)\n",
    "\n",
    "print(f'Prediction: {\" | \".join([str(sample).center(5, \" \") for sample in y_pred])}')\n",
    "print(f'Actual:     {\" | \".join([str(sample).center(5, \" \") for sample in y])}')"
   ]
  },
  {
   "attachments": {},
   "cell_type": "markdown",
   "metadata": {},
   "source": [
    "## Save model weights"
   ]
  },
  {
   "cell_type": "code",
   "execution_count": 52,
   "metadata": {},
   "outputs": [],
   "source": [
    "# make sure that this path exists!\n",
    "model.save('../models/tinynet.pt')"
   ]
  },
  {
   "attachments": {},
   "cell_type": "markdown",
   "metadata": {},
   "source": [
    "## Create a new model and load weights"
   ]
  },
  {
   "cell_type": "code",
   "execution_count": 53,
   "metadata": {},
   "outputs": [],
   "source": [
    "other_model = TinyNet(204, 8, 301, 10, 8)\n",
    "other_model.load('../models/tinynet.pt')"
   ]
  },
  {
   "attachments": {},
   "cell_type": "markdown",
   "metadata": {},
   "source": [
    "## Evaluate the loaded model"
   ]
  },
  {
   "cell_type": "code",
   "execution_count": 55,
   "metadata": {},
   "outputs": [
    {
     "name": "stdout",
     "output_type": "stream",
     "text": [
      "train_loss: 0.4911928854205392\n",
      "train_binary_accuracy: 0.7855550700967963\n",
      "loss: 0.5828646475618536\n",
      "binary_accuracy: 0.6903409145095132\n"
     ]
    }
   ],
   "source": [
    "loss = torch.nn.BCEWithLogitsLoss()\n",
    "metric = torchmetrics.functional.classification.binary_accuracy\n",
    "\n",
    "# To make predictions and estimate loss, we only need to compile them. We don't need the rest of the parameters\n",
    "other_model.compile(\n",
    "    loss=loss,\n",
    "    metrics=metric\n",
    ")\n",
    "\n",
    "train_result = other_model.evaluate(train)\n",
    "result = other_model.evaluate(test)\n",
    "\n",
    "for measure, value in train_result.items():\n",
    "    print(f'train_{measure}: {value}')\n",
    "\n",
    "for measure, value in result.items():\n",
    "    print(f'{measure}: {value}')"
   ]
  },
  {
   "attachments": {},
   "cell_type": "markdown",
   "metadata": {},
   "source": [
    "## Continue training"
   ]
  },
  {
   "attachments": {},
   "cell_type": "markdown",
   "metadata": {},
   "source": [
    "#### Recompile the model with new parameters"
   ]
  },
  {
   "cell_type": "code",
   "execution_count": 58,
   "metadata": {},
   "outputs": [],
   "source": [
    "optimizer = torch.optim.AdamW(other_model.parameters(), lr=3e-3, eps=1e-10) # Let's make another optimizer, and define it\n",
    "loss = torch.nn.CrossEntropyLoss() # Let's try another loss function\n",
    "\n",
    "other_model.compile(\n",
    "    optimizer,\n",
    "    loss,\n",
    "    metric, # We do not change metric\n",
    "    callbacks=[\n",
    "        PrintingCallback(), # Callback for printing\n",
    "        EarlyStopping(\n",
    "            monitor='loss_val'\n",
    "        ), # Callback for early stopping, but with restoring weights\n",
    "        L2Reg(\n",
    "            [ # to see list of layer names use list(model.state_dict().keys())\n",
    "                'unmixing_layer.weight',\n",
    "                'fc_layer.weight',\n",
    "                'fc_layer.bias'\n",
    "            ],\n",
    "            [ # different lambda value for different layers\n",
    "                .01,\n",
    "                .005,\n",
    "                .0001\n",
    "            ]\n",
    "        ) # l2 regularization for specified layers\n",
    "    ]\n",
    ")"
   ]
  },
  {
   "attachments": {},
   "cell_type": "markdown",
   "metadata": {},
   "source": [
    "#### Fit the model with new training parameters"
   ]
  },
  {
   "cell_type": "code",
   "execution_count": 59,
   "metadata": {},
   "outputs": [
    {
     "name": "stdout",
     "output_type": "stream",
     "text": [
      "Epoch 0:  loss_train:  0.5246   |    binary_accuracy_train:  0.7828   |    loss_val:  0.4643   |    binary_accuracy_val:  0.7699\n",
      "Epoch 1:  loss_train:  0.3635   |    binary_accuracy_train:  0.7753   |    loss_val:  0.4525   |    binary_accuracy_val:  0.7519\n",
      "Epoch 2:  loss_train:  0.2779   |    binary_accuracy_train:  0.7723   |    loss_val:  0.4481   |    binary_accuracy_val:  0.7368\n",
      "Epoch 3:  loss_train:  0.2218   |    binary_accuracy_train:  0.7697   |    loss_val:  0.4466   |    binary_accuracy_val:  0.7328\n",
      "Epoch 4:  loss_train:  0.1819   |    binary_accuracy_train:  0.7647   |    loss_val:  0.4490   |    binary_accuracy_val:  0.7274\n",
      "Epoch 5:  loss_train:  0.1526   |    binary_accuracy_train:  0.7656   |    loss_val:  0.4531   |    binary_accuracy_val:  0.7192\n",
      "Epoch 6:  loss_train:  0.1308   |    binary_accuracy_train:  0.7631   |    loss_val:  0.4558   |    binary_accuracy_val:  0.7163\n",
      "Epoch 7:  loss_train:  0.1143   |    binary_accuracy_train:  0.7665   |    loss_val:  0.4573   |    binary_accuracy_val:  0.7149\n",
      "Epoch 8:  loss_train:  0.1019   |    binary_accuracy_train:  0.7651   |    loss_val:  0.4603   |    binary_accuracy_val:  0.7135\n",
      "The training loop was completed at epoch 10 due to an interruption\n",
      "  6%|▌         | 9/150 [00:05<01:26,  1.63it/s]\n"
     ]
    },
    {
     "data": {
      "image/png": "[encoded data removed]",
      "text/plain": [
       "<Figure size 640x480 with 1 Axes>"
      ]
     },
     "metadata": {},
     "output_type": "display_data"
    },
    {
     "data": {
      "image/png": "[encoded data removed]",
      "text/plain": [
       "<Figure size 640x480 with 1 Axes>"
      ]
     },
     "metadata": {},
     "output_type": "display_data"
    }
   ],
   "source": [
    "history = other_model.fit(train, n_epochs=150, batch_size=200, val_batch_size=60)\n",
    "plot_metrics(history)"
   ]
  },
  {
   "attachments": {},
   "cell_type": "markdown",
   "metadata": {},
   "source": [
    "## Evaluate the model"
   ]
  },
  {
   "cell_type": "code",
   "execution_count": 60,
   "metadata": {},
   "outputs": [
    {
     "name": "stdout",
     "output_type": "stream",
     "text": [
      "train_loss: 0.2420384558764371\n",
      "train_binary_accuracy: 0.7594624107534235\n",
      "loss: 0.626438623124903\n",
      "binary_accuracy: 0.7065746730024164\n"
     ]
    }
   ],
   "source": [
    "train_result = other_model.evaluate(train)\n",
    "result = other_model.evaluate(test)\n",
    "\n",
    "for measure, value in train_result.items():\n",
    "    print(f'train_{measure}: {value}')\n",
    "\n",
    "for measure, value in result.items():\n",
    "    print(f'{measure}: {value}')"
   ]
  }
 ],
 "metadata": {
  "kernelspec": {
   "display_name": "venv",
   "language": "python",
   "name": "python3"
  },
  "language_info": {
   "codemirror_mode": {
    "name": "ipython",
    "version": 3
   },
   "file_extension": ".py",
   "mimetype": "text/x-python",
   "name": "python",
   "nbconvert_exporter": "python",
   "pygments_lexer": "ipython3",
   "version": "3.10.9"
  },
  "orig_nbformat": 4,
  "vscode": {
   "interpreter": {
    "hash": "5aa6b5b1e62fd42c97f5a6f6ec4ad4127e5c64e36f9f889d8836a95a9cc1eb4c"
   }
  }
 },
 "nbformat": 4,
 "nbformat_minor": 2
}
