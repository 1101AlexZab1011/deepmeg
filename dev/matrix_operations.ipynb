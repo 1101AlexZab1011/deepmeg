{
 "cells": [
  {
   "cell_type": "code",
   "execution_count": 1,
   "metadata": {},
   "outputs": [],
   "source": [
    "import numpy as np"
   ]
  },
  {
   "cell_type": "code",
   "execution_count": 2,
   "metadata": {},
   "outputs": [],
   "source": [
    "def mode_n_product(x, m, mode):\n",
    "    x = np.asarray(x)\n",
    "    m = np.asarray(m)\n",
    "    if mode < 0:\n",
    "        raise ValueError('`mode` must be a positive interger')\n",
    "    if x.ndim < mode:\n",
    "        raise ValueError('Invalid shape of X for mode = {}: {}'.format(mode, x.shape))\n",
    "    if m.ndim != 2:\n",
    "        raise ValueError('Invalid shape of M: {}'.format(m.shape))\n",
    "    return np.swapaxes(np.swapaxes(x, mode, -1).dot(m.T), mode, -1)\n",
    "\n",
    "def mode_n_flattening(arr, mode):\n",
    "    if mode < 0 or mode >= arr.ndim:\n",
    "        raise ValueError('Invalid mode value.')\n",
    "\n",
    "    # Permute the mode axis to the front\n",
    "    permuted_arr = np.moveaxis(arr, mode, 0)\n",
    "\n",
    "    # Reshape the array\n",
    "    flattened_arr = permuted_arr.reshape(permuted_arr.shape[0], -1)\n",
    "\n",
    "    return flattened_arr\n"
   ]
  },
  {
   "cell_type": "markdown",
   "metadata": {},
   "source": [
    "## HOSVD"
   ]
  },
  {
   "cell_type": "code",
   "execution_count": 3,
   "metadata": {},
   "outputs": [],
   "source": [
    "# A = np.random.random((10, 20, 30))\n",
    "# A = np.random.random((10, 10, 10))\n",
    "A = np.random.random((50, 50, 50))\n",
    "U = list()\n",
    "S, V = list(), list()\n",
    "\n",
    "for i in range(A.ndim):\n",
    "    Am = mode_n_flattening(A, i)\n",
    "    Um, Sm, Vhm = np.linalg.svd(Am, full_matrices=True)\n",
    "    U.append(Um)\n",
    "    S.append(Sm)\n",
    "    V.append(Vhm)\n",
    "\n",
    "G = A.copy()\n",
    "\n",
    "for i in range(A.ndim):\n",
    "    G = mode_n_product(G, U[i].T, i)"
   ]
  },
  {
   "cell_type": "code",
   "execution_count": 4,
   "metadata": {},
   "outputs": [],
   "source": [
    "A_ = G.copy()\n",
    "\n",
    "for i in range(A_.ndim):\n",
    "    A_ = mode_n_product(A_, U[i], i)"
   ]
  },
  {
   "cell_type": "code",
   "execution_count": 5,
   "metadata": {},
   "outputs": [
    {
     "data": {
      "text/plain": [
       "array([0.57447501, 0.61769251, 0.00892258, 0.33743958, 0.85950244,\n",
       "       0.1182456 , 0.56218253, 0.53517787, 0.26905995, 0.38527752,\n",
       "       0.84144974, 0.0095757 , 0.16693551, 0.94244789, 0.24410654,\n",
       "       0.54757196, 0.8199668 , 0.37224666, 0.01374689, 0.36847936,\n",
       "       0.70957743, 0.33119884, 0.42386108, 0.77848736, 0.04975716,\n",
       "       0.29252485, 0.22349646, 0.05990492, 0.96343883, 0.35284918,\n",
       "       0.81515279, 0.39064336, 0.10245162, 0.89859297, 0.38670952,\n",
       "       0.811612  , 0.59511668, 0.14618685, 0.33445075, 0.90461573,\n",
       "       0.72867404, 0.31905089, 0.5653771 , 0.96343058, 0.53978706,\n",
       "       0.02682899, 0.42545996, 0.09451814, 0.17088002, 0.90096552])"
      ]
     },
     "execution_count": 5,
     "metadata": {},
     "output_type": "execute_result"
    }
   ],
   "source": [
    "A[0, 0]"
   ]
  },
  {
   "cell_type": "code",
   "execution_count": 6,
   "metadata": {},
   "outputs": [
    {
     "data": {
      "text/plain": [
       "array([0.57447501, 0.61769251, 0.00892258, 0.33743958, 0.85950244,\n",
       "       0.1182456 , 0.56218253, 0.53517787, 0.26905995, 0.38527752,\n",
       "       0.84144974, 0.0095757 , 0.16693551, 0.94244789, 0.24410654,\n",
       "       0.54757196, 0.8199668 , 0.37224666, 0.01374689, 0.36847936,\n",
       "       0.70957743, 0.33119884, 0.42386108, 0.77848736, 0.04975716,\n",
       "       0.29252485, 0.22349646, 0.05990492, 0.96343883, 0.35284918,\n",
       "       0.81515279, 0.39064336, 0.10245162, 0.89859297, 0.38670952,\n",
       "       0.811612  , 0.59511668, 0.14618685, 0.33445075, 0.90461573,\n",
       "       0.72867404, 0.31905089, 0.5653771 , 0.96343058, 0.53978706,\n",
       "       0.02682899, 0.42545996, 0.09451814, 0.17088002, 0.90096552])"
      ]
     },
     "execution_count": 6,
     "metadata": {},
     "output_type": "execute_result"
    }
   ],
   "source": [
    "A_[0, 0]"
   ]
  },
  {
   "cell_type": "code",
   "execution_count": 7,
   "metadata": {},
   "outputs": [],
   "source": [
    "# U_trunk = [U[i][:, :U[i].shape[-1]//2] for i in range(A.ndim)]\n",
    "U_trunk = [U[i][:, :-1] for i in range(A.ndim)]\n",
    "G = A.copy()\n",
    "\n",
    "for i in range(A.ndim):\n",
    "    G = mode_n_product(G, U_trunk[i].T, i)\n",
    "\n",
    "A_ = G.copy()\n",
    "\n",
    "for i in range(A_.ndim):\n",
    "    A_ = mode_n_product(A_, U_trunk[i], i)"
   ]
  },
  {
   "cell_type": "code",
   "execution_count": 8,
   "metadata": {},
   "outputs": [
    {
     "data": {
      "text/plain": [
       "(49, 49, 49)"
      ]
     },
     "execution_count": 8,
     "metadata": {},
     "output_type": "execute_result"
    }
   ],
   "source": [
    "G.shape"
   ]
  },
  {
   "cell_type": "code",
   "execution_count": 9,
   "metadata": {},
   "outputs": [
    {
     "data": {
      "text/plain": [
       "array([0.57447501, 0.61769251, 0.00892258, 0.33743958, 0.85950244,\n",
       "       0.1182456 , 0.56218253, 0.53517787, 0.26905995, 0.38527752,\n",
       "       0.84144974, 0.0095757 , 0.16693551, 0.94244789, 0.24410654,\n",
       "       0.54757196, 0.8199668 , 0.37224666, 0.01374689, 0.36847936,\n",
       "       0.70957743, 0.33119884, 0.42386108, 0.77848736, 0.04975716,\n",
       "       0.29252485, 0.22349646, 0.05990492, 0.96343883, 0.35284918,\n",
       "       0.81515279, 0.39064336, 0.10245162, 0.89859297, 0.38670952,\n",
       "       0.811612  , 0.59511668, 0.14618685, 0.33445075, 0.90461573,\n",
       "       0.72867404, 0.31905089, 0.5653771 , 0.96343058, 0.53978706,\n",
       "       0.02682899, 0.42545996, 0.09451814, 0.17088002, 0.90096552])"
      ]
     },
     "execution_count": 9,
     "metadata": {},
     "output_type": "execute_result"
    }
   ],
   "source": [
    "A[0, 0]"
   ]
  },
  {
   "cell_type": "code",
   "execution_count": 10,
   "metadata": {},
   "outputs": [
    {
     "data": {
      "text/plain": [
       "array([ 0.59812686,  0.64817476, -0.01729251,  0.31880186,  0.84747183,\n",
       "        0.10171772,  0.55628515,  0.57354933,  0.27843273,  0.38226794,\n",
       "        0.85249968, -0.00506188,  0.17381898,  0.94843137,  0.22311728,\n",
       "        0.55011204,  0.81490815,  0.37604018,  0.03780982,  0.34810521,\n",
       "        0.68714201,  0.3035639 ,  0.43225857,  0.75181948,  0.02276448,\n",
       "        0.34228022,  0.23171036,  0.08238587,  0.9629195 ,  0.35650892,\n",
       "        0.81892868,  0.38694041,  0.155083  ,  0.86755508,  0.41690934,\n",
       "        0.75657205,  0.59632935,  0.13635333,  0.40019079,  0.92867068,\n",
       "        0.74800535,  0.32059104,  0.55631108,  0.96652376,  0.53227458,\n",
       "        0.04149849,  0.42496851,  0.10233208,  0.18402494,  0.92881597])"
      ]
     },
     "execution_count": 10,
     "metadata": {},
     "output_type": "execute_result"
    }
   ],
   "source": [
    "A_[0, 0]"
   ]
  },
  {
   "cell_type": "code",
   "execution_count": 11,
   "metadata": {},
   "outputs": [
    {
     "data": {
      "text/plain": [
       "0.0036417286207908895"
      ]
     },
     "execution_count": 11,
     "metadata": {},
     "output_type": "execute_result"
    }
   ],
   "source": [
    "((A - A_)**2).mean()"
   ]
  },
  {
   "cell_type": "code",
   "execution_count": 12,
   "metadata": {},
   "outputs": [],
   "source": [
    "diffs = list()\n",
    "\n",
    "for i in range(1, U[0].shape[1]):\n",
    "    U_trunk = [U[j][:, :i] for j in range(A.ndim)]\n",
    "    G = A.copy()\n",
    "\n",
    "    for i in range(A.ndim):\n",
    "        G = mode_n_product(G, U_trunk[i].T, i)\n",
    "\n",
    "    A_ = G.copy()\n",
    "\n",
    "    for i in range(A_.ndim):\n",
    "        A_ = mode_n_product(A_, U_trunk[i], i)\n",
    "\n",
    "    # diffs.append(((A - A_)**2).mean())\n",
    "    diffs.append((np.abs((A - A_))).mean())"
   ]
  },
  {
   "cell_type": "code",
   "execution_count": 13,
   "metadata": {},
   "outputs": [
    {
     "data": {
      "text/plain": [
       "<BarContainer object of 49 artists>"
      ]
     },
     "execution_count": 13,
     "metadata": {},
     "output_type": "execute_result"
    },
    {
     "data": {
      "image/png": "[encoded data removed]",
      "text/plain": [
       "<Figure size 640x480 with 1 Axes>"
      ]
     },
     "metadata": {},
     "output_type": "display_data"
    }
   ],
   "source": [
    "import matplotlib.pyplot as plt\n",
    "plt.bar(range(len(diffs)), diffs)"
   ]
  },
  {
   "cell_type": "code",
   "execution_count": 14,
   "metadata": {},
   "outputs": [],
   "source": [
    "from scipy.stats import ortho_group\n",
    "\n",
    "# fakeU = [ortho_group.rvs(size) for size in (10, 20, 30)]\n",
    "fakeU = [ortho_group.rvs(size) for size in A.shape]\n",
    "\n",
    "G = A.copy()\n",
    "\n",
    "for i in range(A.ndim):\n",
    "    G = mode_n_product(G, fakeU[i].T, i)"
   ]
  },
  {
   "cell_type": "code",
   "execution_count": 15,
   "metadata": {},
   "outputs": [],
   "source": [
    "A_ = G.copy()\n",
    "\n",
    "for i in range(A_.ndim):\n",
    "    A_ = mode_n_product(A_, fakeU[i], i)"
   ]
  },
  {
   "cell_type": "code",
   "execution_count": 16,
   "metadata": {},
   "outputs": [
    {
     "data": {
      "text/plain": [
       "array([0.57447501, 0.61769251, 0.00892258, 0.33743958, 0.85950244,\n",
       "       0.1182456 , 0.56218253, 0.53517787, 0.26905995, 0.38527752,\n",
       "       0.84144974, 0.0095757 , 0.16693551, 0.94244789, 0.24410654,\n",
       "       0.54757196, 0.8199668 , 0.37224666, 0.01374689, 0.36847936,\n",
       "       0.70957743, 0.33119884, 0.42386108, 0.77848736, 0.04975716,\n",
       "       0.29252485, 0.22349646, 0.05990492, 0.96343883, 0.35284918,\n",
       "       0.81515279, 0.39064336, 0.10245162, 0.89859297, 0.38670952,\n",
       "       0.811612  , 0.59511668, 0.14618685, 0.33445075, 0.90461573,\n",
       "       0.72867404, 0.31905089, 0.5653771 , 0.96343058, 0.53978706,\n",
       "       0.02682899, 0.42545996, 0.09451814, 0.17088002, 0.90096552])"
      ]
     },
     "execution_count": 16,
     "metadata": {},
     "output_type": "execute_result"
    }
   ],
   "source": [
    "A[0, 0]"
   ]
  },
  {
   "cell_type": "code",
   "execution_count": 17,
   "metadata": {},
   "outputs": [
    {
     "data": {
      "text/plain": [
       "array([0.57447501, 0.61769251, 0.00892258, 0.33743958, 0.85950244,\n",
       "       0.1182456 , 0.56218253, 0.53517787, 0.26905995, 0.38527752,\n",
       "       0.84144974, 0.0095757 , 0.16693551, 0.94244789, 0.24410654,\n",
       "       0.54757196, 0.8199668 , 0.37224666, 0.01374689, 0.36847936,\n",
       "       0.70957743, 0.33119884, 0.42386108, 0.77848736, 0.04975716,\n",
       "       0.29252485, 0.22349646, 0.05990492, 0.96343883, 0.35284918,\n",
       "       0.81515279, 0.39064336, 0.10245162, 0.89859297, 0.38670952,\n",
       "       0.811612  , 0.59511668, 0.14618685, 0.33445075, 0.90461573,\n",
       "       0.72867404, 0.31905089, 0.5653771 , 0.96343058, 0.53978706,\n",
       "       0.02682899, 0.42545996, 0.09451814, 0.17088002, 0.90096552])"
      ]
     },
     "execution_count": 17,
     "metadata": {},
     "output_type": "execute_result"
    }
   ],
   "source": [
    "A_[0, 0]"
   ]
  },
  {
   "cell_type": "code",
   "execution_count": 18,
   "metadata": {},
   "outputs": [],
   "source": [
    "# U_trunk = [U[i][:, :U[i].shape[-1]//2] for i in range(A.ndim)]\n",
    "U_trunk = [fakeU[i][:, :-3] for i in range(A.ndim)]\n",
    "G = A.copy()\n",
    "\n",
    "for i in range(A.ndim):\n",
    "    G = mode_n_product(G, U_trunk[i].T, i)\n",
    "\n",
    "A_ = G.copy()\n",
    "\n",
    "for i in range(A_.ndim):\n",
    "    A_ = mode_n_product(A_, U_trunk[i], i)"
   ]
  },
  {
   "cell_type": "code",
   "execution_count": 19,
   "metadata": {},
   "outputs": [
    {
     "data": {
      "text/plain": [
       "0.04075675381944438"
      ]
     },
     "execution_count": 19,
     "metadata": {},
     "output_type": "execute_result"
    }
   ],
   "source": [
    "((A - A_)**2).mean()"
   ]
  },
  {
   "cell_type": "code",
   "execution_count": 20,
   "metadata": {},
   "outputs": [],
   "source": [
    "diffs = list()\n",
    "\n",
    "for i in range(1, U[0].shape[1]):\n",
    "    U_trunk = [fakeU[j][:, :i] for j in range(A.ndim)]\n",
    "    G = A.copy()\n",
    "\n",
    "    for i in range(A.ndim):\n",
    "        G = mode_n_product(G, U_trunk[i].T, i)\n",
    "\n",
    "    A_ = G.copy()\n",
    "\n",
    "    for i in range(A_.ndim):\n",
    "        A_ = mode_n_product(A_, U_trunk[i], i)\n",
    "\n",
    "    # diffs.append(((A - A_)**2).mean())\n",
    "    diffs.append((np.abs((A - A_))).mean())"
   ]
  },
  {
   "cell_type": "code",
   "execution_count": 21,
   "metadata": {},
   "outputs": [
    {
     "data": {
      "text/plain": [
       "<BarContainer object of 49 artists>"
      ]
     },
     "execution_count": 21,
     "metadata": {},
     "output_type": "execute_result"
    },
    {
     "data": {
      "image/png": "[encoded data removed]",
      "text/plain": [
       "<Figure size 640x480 with 1 Axes>"
      ]
     },
     "metadata": {},
     "output_type": "display_data"
    }
   ],
   "source": [
    "import matplotlib.pyplot as plt\n",
    "plt.bar(range(len(diffs)), diffs)"
   ]
  },
  {
   "cell_type": "code",
   "execution_count": 22,
   "metadata": {},
   "outputs": [
    {
     "data": {
      "text/plain": [
       "True"
      ]
     },
     "execution_count": 22,
     "metadata": {},
     "output_type": "execute_result"
    }
   ],
   "source": [
    "a = np.random.randn(50, 50)\n",
    "\n",
    "U, S, Vh = np.linalg.svd(a, full_matrices=False)\n",
    "\n",
    "\n",
    "np.allclose(a, np.dot(U * S, Vh))"
   ]
  },
  {
   "cell_type": "code",
   "execution_count": 23,
   "metadata": {},
   "outputs": [
    {
     "data": {
      "text/plain": [
       "<BarContainer object of 49 artists>"
      ]
     },
     "execution_count": 23,
     "metadata": {},
     "output_type": "execute_result"
    },
    {
     "data": {
      "image/png": "[encoded data removed]",
      "text/plain": [
       "<Figure size 640x480 with 1 Axes>"
      ]
     },
     "metadata": {},
     "output_type": "display_data"
    }
   ],
   "source": [
    "diffs = list()\n",
    "for i in range(1, a.shape[0]):\n",
    "    a_ = np.dot(U[:, :i] * S[:i], Vh[:i])\n",
    "    diffs.append((np.abs((a - a_))).mean())\n",
    "\n",
    "plt.bar(range(len(diffs)), diffs)"
   ]
  },
  {
   "cell_type": "code",
   "execution_count": 26,
   "metadata": {},
   "outputs": [],
   "source": [
    "def mode_n_flattening(arr, mode):\n",
    "    \"\"\"\n",
    "    Perform mode-n flattening on a NumPy array.\n",
    "\n",
    "    Parameters:\n",
    "    - arr (ndarray): Input NumPy array.\n",
    "    - mode (int): The mode to flatten along (0-based index).\n",
    "\n",
    "    Returns:\n",
    "    - flattened_arr (ndarray): Flattened array.\n",
    "    \"\"\"\n",
    "    if mode < 0 or mode >= arr.ndim:\n",
    "        raise ValueError('Invalid mode value.')\n",
    "\n",
    "    # Permute the mode axis to the front\n",
    "    permuted_arr = np.moveaxis(arr, mode, 0)\n",
    "\n",
    "    # Reshape the array\n",
    "    flattened_arr = permuted_arr.reshape(permuted_arr.shape[0], -1)\n",
    "\n",
    "    return flattened_arr\n",
    "\n",
    "def mode_n_product(x, m, mode):\n",
    "    \"\"\"\n",
    "    Perform mode-n product (matrix multiplication) on a NumPy array.\n",
    "\n",
    "    Parameters:\n",
    "    - x (ndarray): Input NumPy array.\n",
    "    - m (ndarray): Matrix to multiply with.\n",
    "    - mode (int): The mode to multiply along (0-based index).\n",
    "\n",
    "    Returns:\n",
    "    - result (ndarray): Result of the mode-n product.\n",
    "    \"\"\"\n",
    "    x = np.asarray(x)\n",
    "    m = np.asarray(m)\n",
    "\n",
    "    if mode < 0:\n",
    "        raise ValueError('`mode` must be a positive interger')\n",
    "    if x.ndim < mode:\n",
    "        raise ValueError('Invalid shape of X for mode = {}: {}'.format(mode, x.shape))\n",
    "    if m.ndim != 2:\n",
    "        raise ValueError('Invalid shape of M: {}'.format(m.shape))\n",
    "\n",
    "    return np.swapaxes(np.swapaxes(x, mode, -1).dot(m.T), mode, -1)\n",
    "\n",
    "def HOSVD(A):\n",
    "    \"\"\"\n",
    "    Perform Higher Order Singular Value Decomposition (HOSVD) on a NumPy array.\n",
    "\n",
    "    Parameters:\n",
    "    - A (ndarray): Input NumPy array.\n",
    "\n",
    "    Returns:\n",
    "    - S (ndarray): Core tensor after HOSVD.\n",
    "    - U (list): List of orthogonal matrices U (factors) after HOSVD.\n",
    "    \"\"\"\n",
    "    U = []\n",
    "\n",
    "    for i in range(A.ndim):\n",
    "        Am = mode_n_flattening(A, i)\n",
    "        Um, Sm, Vhm = np.linalg.svd(Am, full_matrices=True)\n",
    "        U.append(Um)\n",
    "\n",
    "    S = A.copy()\n",
    "\n",
    "    for i in range(A.ndim):\n",
    "        S = mode_n_product(S, U[i].T, i)\n",
    "\n",
    "    return S, U"
   ]
  },
  {
   "cell_type": "code",
   "execution_count": 33,
   "metadata": {},
   "outputs": [
    {
     "data": {
      "text/plain": [
       "True"
      ]
     },
     "execution_count": 33,
     "metadata": {},
     "output_type": "execute_result"
    }
   ],
   "source": [
    "A = np.random.random((10, 20, 30))\n",
    "S, U = HOSVD(A)\n",
    "\n",
    "A_ = S.copy()\n",
    "for i in range(A_.ndim):\n",
    "    A_ = mode_n_product(A_, U[i], i)\n",
    "\n",
    "np.all(np.isclose(A, A_))"
   ]
  },
  {
   "cell_type": "code",
   "execution_count": 29,
   "metadata": {},
   "outputs": [],
   "source": [
    "def eye_multidim(dim: int, n: int) -> np.ndarray:\n",
    "    \"\"\"\n",
    "    Creates a multidimensional identity matrix.\n",
    "\n",
    "    Args:\n",
    "    - dim: An integer representing the dimension of the identity matrix.\n",
    "    - n: An integer representing the number of dimensions of the identity matrix\n",
    "    \"\"\"\n",
    "    out = np.zeros((dim,)*n)\n",
    "    for i in range(dim):\n",
    "        out[*(i for _ in range(n))] = 1.\n",
    "    return out\n",
    "\n",
    "\n",
    "I = eye_multidim(3, 3)\n",
    "A = np.random.randint(1, 10, (3, 3, 3))"
   ]
  },
  {
   "cell_type": "code",
   "execution_count": 30,
   "metadata": {},
   "outputs": [],
   "source": [
    "h = [A[i] for i in range(A.shape[0])]\n",
    "l = [A[:, i] for i in range(A.shape[1])]\n",
    "f = [A[:, :, i] for i in range(A.shape[2])]\n",
    "\n",
    "ih = [I[i] for i in range(I.shape[0])]\n",
    "il = [I[:, i] for i in range(I.shape[1])]\n",
    "if_ = [I[:, :, i] for i in range(I.shape[2])]"
   ]
  },
  {
   "cell_type": "code",
   "execution_count": 63,
   "metadata": {},
   "outputs": [],
   "source": [
    "col_1 = A[:, 0, 0]\n",
    "icol_1 = I[:, 0, 0]\n",
    "fib_1 = A[0, :, 0]\n",
    "ifib_1 = I[0, :, 0]\n",
    "tube_1 = A[0, 0, :]\n",
    "itube_1 = I[0, 0, :]"
   ]
  },
  {
   "cell_type": "code",
   "execution_count": 66,
   "metadata": {},
   "outputs": [
    {
     "data": {
      "text/plain": [
       "4.0"
      ]
     },
     "execution_count": 66,
     "metadata": {},
     "output_type": "execute_result"
    }
   ],
   "source": [
    "fib_1@icol_1"
   ]
  },
  {
   "cell_type": "code",
   "execution_count": 67,
   "metadata": {},
   "outputs": [
    {
     "data": {
      "text/plain": [
       "1.0"
      ]
     },
     "execution_count": 67,
     "metadata": {},
     "output_type": "execute_result"
    }
   ],
   "source": [
    "icol_1@itube_1"
   ]
  },
  {
   "cell_type": "code",
   "execution_count": 65,
   "metadata": {},
   "outputs": [
    {
     "data": {
      "text/plain": [
       "4.0"
      ]
     },
     "execution_count": 65,
     "metadata": {},
     "output_type": "execute_result"
    }
   ],
   "source": [
    "fib_1@itube_1"
   ]
  },
  {
   "cell_type": "code",
   "execution_count": 35,
   "metadata": {},
   "outputs": [
    {
     "data": {
      "text/plain": [
       "((3, 3), (3, 3), (3, 3), (3, 3), (3, 3), (3, 3))"
      ]
     },
     "execution_count": 35,
     "metadata": {},
     "output_type": "execute_result"
    }
   ],
   "source": [
    "h[0].shape, l[0].shape, f[0].shape, ih[0].shape, il[0].shape, if_[0].shape"
   ]
  },
  {
   "cell_type": "code",
   "execution_count": 33,
   "metadata": {},
   "outputs": [
    {
     "data": {
      "text/plain": [
       "4"
      ]
     },
     "execution_count": 33,
     "metadata": {},
     "output_type": "execute_result"
    }
   ],
   "source": [
    "A[0, 0, 0]"
   ]
  },
  {
   "cell_type": "code",
   "execution_count": 37,
   "metadata": {},
   "outputs": [
    {
     "data": {
      "text/plain": [
       "array([[4., 0., 0.],\n",
       "       [6., 0., 0.],\n",
       "       [8., 0., 0.]])"
      ]
     },
     "execution_count": 37,
     "metadata": {},
     "output_type": "execute_result"
    }
   ],
   "source": [
    "h[0]@ih[0]"
   ]
  },
  {
   "cell_type": "code",
   "execution_count": 45,
   "metadata": {},
   "outputs": [
    {
     "data": {
      "text/plain": [
       "array([[4., 0., 0.],\n",
       "       [9., 0., 0.],\n",
       "       [6., 0., 0.]])"
      ]
     },
     "execution_count": 45,
     "metadata": {},
     "output_type": "execute_result"
    }
   ],
   "source": [
    "l[0]@if_[0]"
   ]
  },
  {
   "cell_type": "code",
   "execution_count": 42,
   "metadata": {},
   "outputs": [
    {
     "data": {
      "text/plain": [
       "array([[4., 0., 0.],\n",
       "       [9., 0., 0.],\n",
       "       [6., 0., 0.]])"
      ]
     },
     "execution_count": 42,
     "metadata": {},
     "output_type": "execute_result"
    }
   ],
   "source": [
    "f[0]@ih[0]"
   ]
  },
  {
   "cell_type": "code",
   "execution_count": 2,
   "metadata": {},
   "outputs": [
    {
     "data": {
      "text/plain": [
       "array([[0.05173851]])"
      ]
     },
     "execution_count": 2,
     "metadata": {},
     "output_type": "execute_result"
    }
   ],
   "source": [
    "# differentiation multiplication\n",
    "\n",
    "\n",
    "a1 = 10*np.random.random((1, 10))\n",
    "a2 = a1 + 0.001*np.random.random((1, 10))\n",
    "\n",
    "b1 = 10*np.random.random((10, 1))\n",
    "b2 = b1 + 0.001*np.random.random((10, 1))\n",
    "\n",
    "c1 = a2@b2 - a1@b1\n",
    "c1"
   ]
  },
  {
   "cell_type": "code",
   "execution_count": 3,
   "metadata": {},
   "outputs": [
    {
     "data": {
      "text/plain": [
       "array([[0.05174046]])"
      ]
     },
     "execution_count": 3,
     "metadata": {},
     "output_type": "execute_result"
    }
   ],
   "source": [
    "c2 = (a2 - a1)@b2 + a2@(b2 - b1)\n",
    "c2"
   ]
  },
  {
   "cell_type": "code",
   "execution_count": 4,
   "metadata": {},
   "outputs": [
    {
     "data": {
      "text/plain": [
       "array([[0.04449175, 0.05939148, 0.05369879, 0.06799721, 0.05450574,\n",
       "        0.06214385, 0.05643205, 0.06449977, 0.05314257, 0.05717672,\n",
       "        0.07005559, 0.04840481, 0.06179925, 0.06469707, 0.04847864,\n",
       "        0.05957633, 0.06064597, 0.0480004 , 0.04477215, 0.07041281],\n",
       "       [0.03836803, 0.04201024, 0.03543289, 0.04586967, 0.04132823,\n",
       "        0.04603846, 0.04383174, 0.04574146, 0.03874925, 0.03917816,\n",
       "        0.04406474, 0.03611389, 0.04529559, 0.04108929, 0.03690536,\n",
       "        0.04289988, 0.04348158, 0.03313859, 0.03176463, 0.04730019],\n",
       "       [0.03310435, 0.03646146, 0.02800112, 0.03979559, 0.03793036,\n",
       "        0.04057298, 0.03000777, 0.04017689, 0.0356539 , 0.03195892,\n",
       "        0.04352406, 0.03922816, 0.03718039, 0.03739083, 0.03358091,\n",
       "        0.03987727, 0.04117023, 0.03359366, 0.02504525, 0.04758597],\n",
       "       [0.05136477, 0.04838829, 0.04356262, 0.05163256, 0.0475218 ,\n",
       "        0.06238255, 0.0534851 , 0.05884475, 0.04425843, 0.05026677,\n",
       "        0.05613407, 0.0446771 , 0.05748578, 0.05223854, 0.04560783,\n",
       "        0.05872128, 0.0592839 , 0.03849401, 0.04462686, 0.05910084],\n",
       "       [0.03308647, 0.04992857, 0.03670611, 0.05184887, 0.04145699,\n",
       "        0.05003386, 0.04140074, 0.05270722, 0.03057015, 0.0459004 ,\n",
       "        0.05311315, 0.04184059, 0.05138857, 0.04776573, 0.03715893,\n",
       "        0.04451041, 0.05526283, 0.03850422, 0.03238656, 0.05125761]])"
      ]
     },
     "execution_count": 4,
     "metadata": {},
     "output_type": "execute_result"
    }
   ],
   "source": [
    "a1 = 10*np.random.random((5, 10))\n",
    "a2 = a1 + 0.001*np.random.random((5, 10))\n",
    "\n",
    "b1 = 10*np.random.random((10, 20))\n",
    "b2 = b1 + 0.001*np.random.random((10, 20))\n",
    "\n",
    "c1 = a2@b2 - a1@b1\n",
    "c1"
   ]
  },
  {
   "cell_type": "code",
   "execution_count": 5,
   "metadata": {},
   "outputs": [
    {
     "data": {
      "text/plain": [
       "array([[0.04448875, 0.0593887 , 0.05369669, 0.06799489, 0.05450317,\n",
       "        0.06214145, 0.05642905, 0.06449689, 0.05314005, 0.05717344,\n",
       "        0.07005212, 0.04840304, 0.06179621, 0.06469387, 0.04847619,\n",
       "        0.05957385, 0.06064252, 0.04799847, 0.04477032, 0.07040934],\n",
       "       [0.03836615, 0.04200818, 0.03543105, 0.04586785, 0.04132632,\n",
       "        0.04603669, 0.04382989, 0.04573924, 0.03874732, 0.03917571,\n",
       "        0.04406242, 0.03611216, 0.04529326, 0.04108704, 0.03690339,\n",
       "        0.04289823, 0.04347909, 0.03313725, 0.03176343, 0.04729791],\n",
       "       [0.03310227, 0.03645901, 0.02799875, 0.03979347, 0.03792826,\n",
       "        0.04057125, 0.0300059 , 0.0401743 , 0.03565165, 0.03195619,\n",
       "        0.04352141, 0.03922603, 0.03717757, 0.03738823, 0.03357863,\n",
       "        0.0398754 , 0.04116733, 0.03359203, 0.02504394, 0.04758351],\n",
       "       [0.0513624 , 0.04838576, 0.04356046, 0.05163035, 0.0475198 ,\n",
       "        0.06238041, 0.0534827 , 0.05884203, 0.04425664, 0.0502642 ,\n",
       "        0.0561313 , 0.04467496, 0.05748267, 0.05223585, 0.04560579,\n",
       "        0.05871936, 0.05928064, 0.03849239, 0.04462526, 0.05909826],\n",
       "       [0.03308369, 0.04992633, 0.03670369, 0.05184669, 0.04145474,\n",
       "        0.05003142, 0.04139811, 0.05270384, 0.03056771, 0.04589764,\n",
       "        0.0531102 , 0.04183787, 0.05138593, 0.04776288, 0.03715651,\n",
       "        0.04450799, 0.055259  , 0.03850237, 0.03238498, 0.05125485]])"
      ]
     },
     "execution_count": 5,
     "metadata": {},
     "output_type": "execute_result"
    }
   ],
   "source": [
    "c2 = (a2 - a1)@b1 + a1@(b2 - b1)\n",
    "c2"
   ]
  },
  {
   "cell_type": "code",
   "execution_count": 6,
   "metadata": {},
   "outputs": [
    {
     "data": {
      "text/plain": [
       "array([[0.02982621, 0.03529848, 0.03084699, 0.03066478, 0.02913558,\n",
       "        0.0294143 , 0.03787929, 0.03377015, 0.03163801, 0.04001102,\n",
       "        0.04050548, 0.01905534, 0.03773221, 0.03529421, 0.02683101,\n",
       "        0.02874652, 0.03835543, 0.02711517, 0.02375573, 0.03583218],\n",
       "       [0.02512787, 0.02277078, 0.02184622, 0.02023291, 0.02283014,\n",
       "        0.02239859, 0.030045  , 0.0246254 , 0.02405636, 0.02703583,\n",
       "        0.0240831 , 0.0149953 , 0.0253159 , 0.02099465, 0.02217917,\n",
       "        0.02137552, 0.025523  , 0.01632777, 0.01724313, 0.02335387],\n",
       "       [0.01473124, 0.01414605, 0.01396339, 0.01376286, 0.01548378,\n",
       "        0.01439026, 0.01564149, 0.01753399, 0.01734686, 0.02076289,\n",
       "        0.01979754, 0.01238875, 0.01511145, 0.0174002 , 0.01512551,\n",
       "        0.01264842, 0.01883517, 0.01171976, 0.00841014, 0.01976835],\n",
       "       [0.03270126, 0.02959236, 0.02859872, 0.0261732 , 0.02702885,\n",
       "        0.03204601, 0.03990125, 0.03384188, 0.02679252, 0.0334473 ,\n",
       "        0.03178723, 0.0208718 , 0.03585476, 0.02897724, 0.02662921,\n",
       "        0.02910258, 0.03786074, 0.02088288, 0.02479711, 0.02920176],\n",
       "       [0.01891461, 0.02207057, 0.02124337, 0.02125715, 0.01663819,\n",
       "        0.01552321, 0.02063631, 0.02366357, 0.018242  , 0.02458256,\n",
       "        0.02770263, 0.01847974, 0.02587669, 0.0237238 , 0.01759969,\n",
       "        0.01514721, 0.02658617, 0.01671687, 0.01267694, 0.02086745]])"
      ]
     },
     "execution_count": 6,
     "metadata": {},
     "output_type": "execute_result"
    }
   ],
   "source": [
    "a1@(b2 - b1)"
   ]
  },
  {
   "cell_type": "code",
   "execution_count": 7,
   "metadata": {},
   "outputs": [
    {
     "data": {
      "text/plain": [
       "array([[0.01466254, 0.02409022, 0.0228497 , 0.03733011, 0.02536759,\n",
       "        0.03272714, 0.01854976, 0.03072674, 0.02150205, 0.01716242,\n",
       "        0.02954663, 0.0293477 , 0.02406401, 0.02939966, 0.02164518,\n",
       "        0.03082732, 0.02228709, 0.0208833 , 0.0210146 , 0.03457716],\n",
       "       [0.01323827, 0.0192374 , 0.01358483, 0.02563495, 0.01849618,\n",
       "        0.0236381 , 0.01378488, 0.02111384, 0.01469096, 0.01213988,\n",
       "        0.01997932, 0.02111686, 0.01997736, 0.02009239, 0.01472422,\n",
       "        0.02152271, 0.01795609, 0.01680948, 0.0145203 , 0.02394404],\n",
       "       [0.01837103, 0.02231296, 0.01403536, 0.02603061, 0.02244448,\n",
       "        0.02618099, 0.0143644 , 0.02264032, 0.01830479, 0.0111933 ,\n",
       "        0.02372388, 0.02683727, 0.02206612, 0.01998803, 0.01845313,\n",
       "        0.02722698, 0.02233216, 0.02187227, 0.01663379, 0.02781516],\n",
       "       [0.01866114, 0.0187934 , 0.01496174, 0.02545716, 0.02049095,\n",
       "        0.0303344 , 0.01358145, 0.02500014, 0.01746413, 0.0168169 ,\n",
       "        0.02434408, 0.02380316, 0.02162791, 0.0232586 , 0.01897658,\n",
       "        0.02961679, 0.0214199 , 0.01760951, 0.01982814, 0.0298965 ],\n",
       "       [0.01416908, 0.02785576, 0.01546032, 0.03058954, 0.02481655,\n",
       "        0.03450821, 0.02076179, 0.02904027, 0.01232571, 0.02131507,\n",
       "        0.02540757, 0.02335813, 0.02550924, 0.02403909, 0.01955683,\n",
       "        0.02936077, 0.02867284, 0.0217855 , 0.01970804, 0.03038739]])"
      ]
     },
     "execution_count": 7,
     "metadata": {},
     "output_type": "execute_result"
    }
   ],
   "source": [
    "(a2 - a1)@(b1)"
   ]
  },
  {
   "cell_type": "code",
   "execution_count": 8,
   "metadata": {},
   "outputs": [
    {
     "data": {
      "text/plain": [
       "array([[0.01466254, 0.02409022, 0.0228497 , 0.03733011, 0.02536759,\n",
       "        0.03272714, 0.01854976, 0.03072674, 0.02150205, 0.01716242,\n",
       "        0.02954663, 0.0293477 , 0.02406401, 0.02939966, 0.02164518,\n",
       "        0.03082732, 0.02228709, 0.0208833 , 0.0210146 , 0.03457716],\n",
       "       [0.01323827, 0.0192374 , 0.01358483, 0.02563495, 0.01849618,\n",
       "        0.0236381 , 0.01378488, 0.02111384, 0.01469096, 0.01213988,\n",
       "        0.01997932, 0.02111686, 0.01997736, 0.02009239, 0.01472422,\n",
       "        0.02152271, 0.01795609, 0.01680948, 0.0145203 , 0.02394404],\n",
       "       [0.01837103, 0.02231296, 0.01403536, 0.02603061, 0.02244448,\n",
       "        0.02618099, 0.0143644 , 0.02264032, 0.01830479, 0.0111933 ,\n",
       "        0.02372388, 0.02683727, 0.02206612, 0.01998803, 0.01845313,\n",
       "        0.02722698, 0.02233216, 0.02187227, 0.01663379, 0.02781516],\n",
       "       [0.01866114, 0.0187934 , 0.01496174, 0.02545716, 0.02049095,\n",
       "        0.0303344 , 0.01358145, 0.02500014, 0.01746413, 0.0168169 ,\n",
       "        0.02434408, 0.02380316, 0.02162791, 0.0232586 , 0.01897658,\n",
       "        0.02961679, 0.0214199 , 0.01760951, 0.01982814, 0.0298965 ],\n",
       "       [0.01416908, 0.02785576, 0.01546032, 0.03058954, 0.02481655,\n",
       "        0.03450821, 0.02076179, 0.02904027, 0.01232571, 0.02131507,\n",
       "        0.02540757, 0.02335813, 0.02550924, 0.02403909, 0.01955683,\n",
       "        0.02936077, 0.02867284, 0.0217855 , 0.01970804, 0.03038739]])"
      ]
     },
     "execution_count": 8,
     "metadata": {},
     "output_type": "execute_result"
    }
   ],
   "source": [
    "(a2@b1 - a1@b1)"
   ]
  },
  {
   "cell_type": "code",
   "execution_count": 9,
   "metadata": {},
   "outputs": [
    {
     "data": {
      "text/plain": [
       "array([[3.00028711e-06, 2.78349863e-06, 2.10147392e-06, 2.31998736e-06,\n",
       "        2.57133687e-06, 2.39840349e-06, 3.00297369e-06, 2.87698439e-06,\n",
       "        2.51933123e-06, 3.27849718e-06, 3.47899707e-06, 1.76244828e-06,\n",
       "        3.03474342e-06, 3.19895184e-06, 2.44733907e-06, 2.48725086e-06,\n",
       "        3.45114581e-06, 1.92955408e-06, 1.82598109e-06, 3.47290144e-06],\n",
       "       [1.88708609e-06, 2.06168226e-06, 1.83592975e-06, 1.81551748e-06,\n",
       "        1.90534972e-06, 1.76532089e-06, 1.85599005e-06, 2.22241417e-06,\n",
       "        1.93118181e-06, 2.45409602e-06, 2.32110824e-06, 1.73193990e-06,\n",
       "        2.33510997e-06, 2.25410462e-06, 1.97088785e-06, 1.64923437e-06,\n",
       "        2.49186265e-06, 1.34158959e-06, 1.20501625e-06, 2.27863681e-06],\n",
       "       [2.08005599e-06, 2.44827669e-06, 2.36995939e-06, 2.11930422e-06,\n",
       "        2.10452424e-06, 1.72158448e-06, 1.87052129e-06, 2.58175392e-06,\n",
       "        2.25567796e-06, 2.73152406e-06, 2.64694779e-06, 2.13626392e-06,\n",
       "        2.81595947e-06, 2.60347214e-06, 2.27564449e-06, 1.87486456e-06,\n",
       "        2.89850688e-06, 1.63023144e-06, 1.31391084e-06, 2.46250120e-06],\n",
       "       [2.37399934e-06, 2.53121521e-06, 2.16024285e-06, 2.20748627e-06,\n",
       "        1.99624560e-06, 2.13690062e-06, 2.39778527e-06, 2.72797184e-06,\n",
       "        1.78743220e-06, 2.57596934e-06, 2.76313695e-06, 2.14532769e-06,\n",
       "        3.11257008e-06, 2.69158292e-06, 2.03832948e-06, 1.92044132e-06,\n",
       "        3.26260398e-06, 1.61474729e-06, 1.60174813e-06, 2.57410530e-06],\n",
       "       [2.77540395e-06, 2.24107178e-06, 2.41618067e-06, 2.17954703e-06,\n",
       "        2.24583810e-06, 2.43591688e-06, 2.63374456e-06, 3.38184119e-06,\n",
       "        2.44391347e-06, 2.76175487e-06, 2.95588656e-06, 2.71346388e-06,\n",
       "        2.63888331e-06, 2.84302917e-06, 2.41885659e-06, 2.42617145e-06,\n",
       "        3.82181567e-06, 1.85139672e-06, 1.57381644e-06, 2.76394545e-06]])"
      ]
     },
     "execution_count": 9,
     "metadata": {},
     "output_type": "execute_result"
    }
   ],
   "source": [
    "(a2 - a1)@(b2 - b1)"
   ]
  },
  {
   "cell_type": "code",
   "execution_count": 14,
   "metadata": {},
   "outputs": [
    {
     "data": {
      "text/plain": [
       "array([[3.00028708e-06, 2.78349847e-06, 2.10147380e-06, 2.31998729e-06,\n",
       "        2.57133684e-06, 2.39840347e-06, 3.00297367e-06, 2.87698424e-06,\n",
       "        2.51933119e-06, 3.27849719e-06, 3.47899709e-06, 1.76244833e-06,\n",
       "        3.03474337e-06, 3.19895184e-06, 2.44733911e-06, 2.48725098e-06,\n",
       "        3.45114597e-06, 1.92955417e-06, 1.82598114e-06, 3.47290148e-06],\n",
       "       [1.88708611e-06, 2.06168224e-06, 1.83592979e-06, 1.81551746e-06,\n",
       "        1.90534976e-06, 1.76532092e-06, 1.85599006e-06, 2.22241417e-06,\n",
       "        1.93118180e-06, 2.45409603e-06, 2.32110830e-06, 1.73193985e-06,\n",
       "        2.33510997e-06, 2.25410460e-06, 1.97088787e-06, 1.64923438e-06,\n",
       "        2.49186263e-06, 1.34158967e-06, 1.20501628e-06, 2.27863688e-06],\n",
       "       [2.08005599e-06, 2.44827669e-06, 2.36995936e-06, 2.11930427e-06,\n",
       "        2.10452421e-06, 1.72158451e-06, 1.87052132e-06, 2.58175393e-06,\n",
       "        2.25567794e-06, 2.73152408e-06, 2.64694785e-06, 2.13626384e-06,\n",
       "        2.81595945e-06, 2.60347215e-06, 2.27564450e-06, 1.87486458e-06,\n",
       "        2.89850684e-06, 1.63023145e-06, 1.31391084e-06, 2.46250119e-06],\n",
       "       [2.37399934e-06, 2.53121533e-06, 2.16024279e-06, 2.20748632e-06,\n",
       "        1.99624554e-06, 2.13690055e-06, 2.39778529e-06, 2.72797195e-06,\n",
       "        1.78743218e-06, 2.57596929e-06, 2.76313693e-06, 2.14532773e-06,\n",
       "        3.11256997e-06, 2.69158301e-06, 2.03832946e-06, 1.92044132e-06,\n",
       "        3.26260403e-06, 1.61474730e-06, 1.60174821e-06, 2.57410534e-06],\n",
       "       [2.77540394e-06, 2.24107180e-06, 2.41618065e-06, 2.17954698e-06,\n",
       "        2.24583815e-06, 2.43591691e-06, 2.63374459e-06, 3.38184117e-06,\n",
       "        2.44391344e-06, 2.76175490e-06, 2.95588654e-06, 2.71346389e-06,\n",
       "        2.63888327e-06, 2.84302919e-06, 2.41885661e-06, 2.42617142e-06,\n",
       "        3.82181565e-06, 1.85139672e-06, 1.57381646e-06, 2.76394542e-06]])"
      ]
     },
     "execution_count": 14,
     "metadata": {},
     "output_type": "execute_result"
    }
   ],
   "source": [
    "a2@b2 - a2@b1 - a1@b2 + a1@b1"
   ]
  },
  {
   "cell_type": "code",
   "execution_count": 33,
   "metadata": {},
   "outputs": [],
   "source": [
    "x_t = np.random.random((1, 10))\n",
    "x_t_1 = np.random.random((1, 10))\n",
    "\n",
    "a_t = np.random.random((1, 10))\n",
    "a_t_1 = np.random.random((1, 10))\n",
    "\n",
    "w_t = np.random.random((10, 1))\n",
    "w_t_1 = np.random.random((10, 1))\n",
    "\n",
    "s_t = np.random.random((1, 1))\n",
    "s_t_1 = np.random.random((1, 1))\n",
    "eps_t = np.random.random((1, 10))\n",
    "eps_t_1 = np.random.random((1, 10))"
   ]
  },
  {
   "cell_type": "code",
   "execution_count": 85,
   "metadata": {},
   "outputs": [
    {
     "data": {
      "text/plain": [
       "array([[ 0.07168926,  0.14320213, -0.8295042 , -0.41933851, -0.65404259],\n",
       "       [ 0.70506119, -0.19565389,  0.39474206, -0.4016596 ,  0.0886094 ],\n",
       "       [-0.1299418 , -0.10437125, -0.78168037,  0.51431718,  0.11713401],\n",
       "       [-0.52717991,  0.70579186,  0.02646478,  0.00472338, -0.43797087],\n",
       "       [-0.39328169,  0.23688241, -0.19325382, -0.1938604 ,  0.02170094],\n",
       "       [ 0.08850792,  0.92564637, -0.1562586 ,  0.5687426 , -0.43256047],\n",
       "       [-0.03337273, -0.3614719 , -0.47873037, -0.4184401 , -0.48274805],\n",
       "       [ 0.36092305,  0.14415517, -0.3718051 , -0.09480789,  0.01590275],\n",
       "       [-0.04360167,  0.38490622, -0.40978366, -0.23946995,  0.67714152],\n",
       "       [-0.24265635,  0.06638748, -0.83549122,  0.38222967, -0.52130857]])"
      ]
     },
     "execution_count": 85,
     "metadata": {},
     "output_type": "execute_result"
    }
   ],
   "source": [
    "a = np.random.random((5, 10))\n",
    "b = np.random.random((5, 10))\n",
    "(a - b).T"
   ]
  },
  {
   "cell_type": "code",
   "execution_count": 40,
   "metadata": {},
   "outputs": [
    {
     "data": {
      "text/plain": [
       "array([[-0.41277596, -0.39558358, -0.78110075, -0.28713429, -0.14212757],\n",
       "       [-0.05508666, -0.11385692, -0.44569897, -0.48373475,  0.58736216],\n",
       "       [-0.5453994 ,  0.66271716,  0.76413059,  0.30910238,  0.0978089 ],\n",
       "       [-0.24706906, -0.18490561,  0.22438054, -0.09706014,  0.4428154 ],\n",
       "       [ 0.27617699,  0.01113852, -0.30213424,  0.42556304,  0.52469917],\n",
       "       [ 0.3374544 , -0.64297798,  0.23966043, -0.48022626,  0.60900383],\n",
       "       [-0.05586166, -0.46910071, -0.66458443, -0.85399799,  0.27285449],\n",
       "       [-0.30339113,  0.61544796, -0.46728703, -0.27704818,  0.35389439],\n",
       "       [ 0.10241229, -0.21806047, -0.58011637, -0.05199385,  0.43426063],\n",
       "       [-0.06253978,  0.28400589, -0.1085013 , -0.3197309 ,  0.05008898]])"
      ]
     },
     "execution_count": 40,
     "metadata": {},
     "output_type": "execute_result"
    }
   ],
   "source": [
    "a.T - b.T"
   ]
  },
  {
   "cell_type": "code",
   "execution_count": 104,
   "metadata": {},
   "outputs": [
    {
     "data": {
      "text/plain": [
       "array([[ 0.06744899,  0.00628581,  0.02914325, -0.01793732,  0.03918172],\n",
       "       [ 0.00628581,  0.09108296, -0.02426678,  0.03386015,  0.00291077],\n",
       "       [ 0.02914325, -0.02426678,  0.06319718, -0.00796385,  0.0021808 ],\n",
       "       [-0.01793732,  0.03386015, -0.00796385,  0.07812982, -0.02351972],\n",
       "       [ 0.03918172,  0.00291077,  0.0021808 , -0.02351972,  0.10016345]])"
      ]
     },
     "execution_count": 104,
     "metadata": {},
     "output_type": "execute_result"
    }
   ],
   "source": [
    "a = np.random.random((5, 10))\n",
    "np.cov(a)"
   ]
  },
  {
   "cell_type": "code",
   "execution_count": 105,
   "metadata": {},
   "outputs": [],
   "source": [
    "a -= a.mean(-1, keepdims=True)"
   ]
  },
  {
   "cell_type": "code",
   "execution_count": 102,
   "metadata": {},
   "outputs": [
    {
     "data": {
      "text/plain": [
       "1.3322676295501878e-17"
      ]
     },
     "execution_count": 102,
     "metadata": {},
     "output_type": "execute_result"
    }
   ],
   "source": [
    "a.mean()"
   ]
  },
  {
   "cell_type": "code",
   "execution_count": 94,
   "metadata": {},
   "outputs": [
    {
     "data": {
      "text/plain": [
       "(5, 10)"
      ]
     },
     "execution_count": 94,
     "metadata": {},
     "output_type": "execute_result"
    }
   ],
   "source": [
    "a.shape"
   ]
  },
  {
   "cell_type": "code",
   "execution_count": 106,
   "metadata": {},
   "outputs": [
    {
     "data": {
      "text/plain": [
       "array([[ 0.06744899,  0.00628581,  0.02914325, -0.01793732,  0.03918172],\n",
       "       [ 0.00628581,  0.09108296, -0.02426678,  0.03386015,  0.00291077],\n",
       "       [ 0.02914325, -0.02426678,  0.06319718, -0.00796385,  0.0021808 ],\n",
       "       [-0.01793732,  0.03386015, -0.00796385,  0.07812982, -0.02351972],\n",
       "       [ 0.03918172,  0.00291077,  0.0021808 , -0.02351972,  0.10016345]])"
      ]
     },
     "execution_count": 106,
     "metadata": {},
     "output_type": "execute_result"
    }
   ],
   "source": [
    "(a@a.T)/(a.shape[-1] - 1)"
   ]
  },
  {
   "cell_type": "code",
   "execution_count": 107,
   "metadata": {},
   "outputs": [],
   "source": [
    "a = np.random.random((5, 10))\n",
    "b = np.random.random((5, 10))"
   ]
  },
  {
   "cell_type": "code",
   "execution_count": 108,
   "metadata": {},
   "outputs": [
    {
     "data": {
      "text/plain": [
       "array([[1.37568587, 2.28340648, 2.06238154, 2.5617412 , 1.77559951],\n",
       "       [1.6640838 , 1.65903787, 2.12174514, 2.23144662, 1.89916396],\n",
       "       [1.52077336, 2.007966  , 1.89663332, 2.44804186, 1.12331566],\n",
       "       [1.82146876, 2.78598609, 2.29101007, 2.77122352, 1.95976449],\n",
       "       [1.34609473, 2.19514944, 2.23096228, 2.84184041, 1.8971142 ]])"
      ]
     },
     "execution_count": 108,
     "metadata": {},
     "output_type": "execute_result"
    }
   ],
   "source": [
    "a@b.T"
   ]
  },
  {
   "cell_type": "code",
   "execution_count": 110,
   "metadata": {},
   "outputs": [
    {
     "data": {
      "text/plain": [
       "array([[1.37568587, 2.28340648, 2.06238154, 2.5617412 , 1.77559951],\n",
       "       [1.6640838 , 1.65903787, 2.12174514, 2.23144662, 1.89916396],\n",
       "       [1.52077336, 2.007966  , 1.89663332, 2.44804186, 1.12331566],\n",
       "       [1.82146876, 2.78598609, 2.29101007, 2.77122352, 1.95976449],\n",
       "       [1.34609473, 2.19514944, 2.23096228, 2.84184041, 1.8971142 ]])"
      ]
     },
     "execution_count": 110,
     "metadata": {},
     "output_type": "execute_result"
    }
   ],
   "source": [
    "(b@a.T).T"
   ]
  },
  {
   "cell_type": "code",
   "execution_count": 5,
   "metadata": {},
   "outputs": [],
   "source": [
    "a = np.random.random((10, 10))\n",
    "b = np.random.random((10, 10))"
   ]
  },
  {
   "cell_type": "code",
   "execution_count": 6,
   "metadata": {},
   "outputs": [
    {
     "data": {
      "text/plain": [
       "array([[0.95491102, 0.69652796, 1.89818   , 0.65400462, 1.19090199,\n",
       "        1.20313177, 0.56284511, 1.38808705, 1.30233566, 0.61021653],\n",
       "       [0.41751496, 1.53332718, 0.95056663, 0.7936403 , 1.64510586,\n",
       "        1.26744108, 1.75268618, 1.03887501, 0.99593611, 1.03044071],\n",
       "       [0.65286666, 1.19625849, 1.16758755, 0.71714329, 0.47824474,\n",
       "        0.63581081, 1.56919508, 1.0407593 , 1.8555057 , 0.13087259],\n",
       "       [1.6068279 , 1.39490392, 1.06358371, 0.75783607, 1.24805578,\n",
       "        0.87939711, 1.09960262, 0.96638748, 1.01566852, 0.5649828 ],\n",
       "       [0.8780191 , 0.85776134, 0.49160758, 1.20017926, 1.34863367,\n",
       "        1.09861724, 1.40469401, 1.53069297, 1.86321135, 0.57060042],\n",
       "       [1.11463382, 1.09543713, 1.41038991, 0.23727486, 1.06747316,\n",
       "        1.04370291, 1.17700408, 1.87830393, 1.18679199, 1.06104585],\n",
       "       [0.10649221, 0.55348561, 1.8767085 , 0.70680158, 0.95347482,\n",
       "        0.77025464, 1.04705933, 0.96418171, 1.01111075, 0.31858638],\n",
       "       [1.16535227, 1.33469062, 0.49863562, 0.58276536, 0.2330035 ,\n",
       "        1.18820748, 0.30606847, 0.62920944, 0.78230779, 1.36169377],\n",
       "       [1.06104531, 1.18405877, 0.34121092, 0.2455652 , 1.24078089,\n",
       "        1.11974658, 0.4973032 , 0.46335409, 1.51197805, 0.65932768],\n",
       "       [0.38029746, 1.3409661 , 0.85432116, 1.76637852, 0.82217576,\n",
       "        0.68540234, 1.37183505, 1.27643272, 1.20565635, 0.36573088]])"
      ]
     },
     "execution_count": 6,
     "metadata": {},
     "output_type": "execute_result"
    }
   ],
   "source": [
    "a + b.T"
   ]
  },
  {
   "cell_type": "code",
   "execution_count": 8,
   "metadata": {},
   "outputs": [
    {
     "data": {
      "text/plain": [
       "array([[0.95491102, 0.69652796, 1.89818   , 0.65400462, 1.19090199,\n",
       "        1.20313177, 0.56284511, 1.38808705, 1.30233566, 0.61021653],\n",
       "       [0.41751496, 1.53332718, 0.95056663, 0.7936403 , 1.64510586,\n",
       "        1.26744108, 1.75268618, 1.03887501, 0.99593611, 1.03044071],\n",
       "       [0.65286666, 1.19625849, 1.16758755, 0.71714329, 0.47824474,\n",
       "        0.63581081, 1.56919508, 1.0407593 , 1.8555057 , 0.13087259],\n",
       "       [1.6068279 , 1.39490392, 1.06358371, 0.75783607, 1.24805578,\n",
       "        0.87939711, 1.09960262, 0.96638748, 1.01566852, 0.5649828 ],\n",
       "       [0.8780191 , 0.85776134, 0.49160758, 1.20017926, 1.34863367,\n",
       "        1.09861724, 1.40469401, 1.53069297, 1.86321135, 0.57060042],\n",
       "       [1.11463382, 1.09543713, 1.41038991, 0.23727486, 1.06747316,\n",
       "        1.04370291, 1.17700408, 1.87830393, 1.18679199, 1.06104585],\n",
       "       [0.10649221, 0.55348561, 1.8767085 , 0.70680158, 0.95347482,\n",
       "        0.77025464, 1.04705933, 0.96418171, 1.01111075, 0.31858638],\n",
       "       [1.16535227, 1.33469062, 0.49863562, 0.58276536, 0.2330035 ,\n",
       "        1.18820748, 0.30606847, 0.62920944, 0.78230779, 1.36169377],\n",
       "       [1.06104531, 1.18405877, 0.34121092, 0.2455652 , 1.24078089,\n",
       "        1.11974658, 0.4973032 , 0.46335409, 1.51197805, 0.65932768],\n",
       "       [0.38029746, 1.3409661 , 0.85432116, 1.76637852, 0.82217576,\n",
       "        0.68540234, 1.37183505, 1.27643272, 1.20565635, 0.36573088]])"
      ]
     },
     "execution_count": 8,
     "metadata": {},
     "output_type": "execute_result"
    }
   ],
   "source": [
    "(a.T + b).T"
   ]
  },
  {
   "cell_type": "code",
   "execution_count": 10,
   "metadata": {},
   "outputs": [
    {
     "data": {
      "text/plain": [
       "array([[0.95491102, 0.98329588, 1.60168185, 1.46105266, 0.95521215,\n",
       "        1.16294677, 0.11537478, 1.42584316, 1.21886306, 0.43446167],\n",
       "       [0.13074704, 1.53332718, 0.85816073, 1.42243337, 1.27340185,\n",
       "        1.06625505, 1.23725415, 1.72067531, 0.68488958, 1.40939551],\n",
       "       [0.94936481, 1.28866439, 1.16758755, 1.24226022, 0.27942964,\n",
       "        1.22441469, 1.46690466, 0.78692929, 1.26980598, 0.19867726],\n",
       "       [0.79977986, 0.76611085, 0.53846678, 0.75783607, 1.43018989,\n",
       "        0.1761924 , 0.7585907 , 0.64319455, 0.17070089, 1.42496929],\n",
       "       [1.11370894, 1.22946534, 0.69042268, 1.01804515, 1.34863367,\n",
       "        1.49790334, 1.03464668, 1.11455774, 1.68498042, 0.89397186],\n",
       "       [1.15481883, 1.29662316, 0.82178603, 0.94047957, 0.66818707,\n",
       "        1.04370291, 0.43604855, 1.34197095, 1.23621918, 1.61032541],\n",
       "       [0.55396254, 1.06891765, 1.97899892, 1.0478135 , 1.32352216,\n",
       "        1.51121017, 1.04705933, 0.62963416, 0.82750238, 1.01130411],\n",
       "       [1.12759615, 0.65289031, 0.75246563, 0.90595829, 0.64913872,\n",
       "        1.72454046, 0.64061601, 0.62920944, 0.55326397, 1.49630582],\n",
       "       [1.14451791, 1.4951053 , 0.92691064, 1.09053283, 1.41901181,\n",
       "        1.07031939, 0.68091157, 0.69239791, 1.51197805, 0.79850485],\n",
       "       [0.55605232, 0.9620113 , 0.78651649, 0.90639203, 0.49880431,\n",
       "        0.13612278, 0.67911732, 1.14182067, 1.06647917, 0.36573088]])"
      ]
     },
     "execution_count": 10,
     "metadata": {},
     "output_type": "execute_result"
    }
   ],
   "source": [
    "(a + b).T"
   ]
  },
  {
   "cell_type": "code",
   "execution_count": 11,
   "metadata": {},
   "outputs": [
    {
     "data": {
      "text/plain": [
       "array([[0.95491102, 0.98329588, 1.60168185, 1.46105266, 0.95521215,\n",
       "        1.16294677, 0.11537478, 1.42584316, 1.21886306, 0.43446167],\n",
       "       [0.13074704, 1.53332718, 0.85816073, 1.42243337, 1.27340185,\n",
       "        1.06625505, 1.23725415, 1.72067531, 0.68488958, 1.40939551],\n",
       "       [0.94936481, 1.28866439, 1.16758755, 1.24226022, 0.27942964,\n",
       "        1.22441469, 1.46690466, 0.78692929, 1.26980598, 0.19867726],\n",
       "       [0.79977986, 0.76611085, 0.53846678, 0.75783607, 1.43018989,\n",
       "        0.1761924 , 0.7585907 , 0.64319455, 0.17070089, 1.42496929],\n",
       "       [1.11370894, 1.22946534, 0.69042268, 1.01804515, 1.34863367,\n",
       "        1.49790334, 1.03464668, 1.11455774, 1.68498042, 0.89397186],\n",
       "       [1.15481883, 1.29662316, 0.82178603, 0.94047957, 0.66818707,\n",
       "        1.04370291, 0.43604855, 1.34197095, 1.23621918, 1.61032541],\n",
       "       [0.55396254, 1.06891765, 1.97899892, 1.0478135 , 1.32352216,\n",
       "        1.51121017, 1.04705933, 0.62963416, 0.82750238, 1.01130411],\n",
       "       [1.12759615, 0.65289031, 0.75246563, 0.90595829, 0.64913872,\n",
       "        1.72454046, 0.64061601, 0.62920944, 0.55326397, 1.49630582],\n",
       "       [1.14451791, 1.4951053 , 0.92691064, 1.09053283, 1.41901181,\n",
       "        1.07031939, 0.68091157, 0.69239791, 1.51197805, 0.79850485],\n",
       "       [0.55605232, 0.9620113 , 0.78651649, 0.90639203, 0.49880431,\n",
       "        0.13612278, 0.67911732, 1.14182067, 1.06647917, 0.36573088]])"
      ]
     },
     "execution_count": 11,
     "metadata": {},
     "output_type": "execute_result"
    }
   ],
   "source": [
    "a.T + b.T"
   ]
  },
  {
   "cell_type": "code",
   "execution_count": 164,
   "metadata": {},
   "outputs": [
    {
     "data": {
      "text/plain": [
       "array([[0.27062919, 0.17532872, 0.45848839, 0.3217498 , 0.97661484],\n",
       "       [0.3433294 , 0.82069625, 0.17973139, 0.43780412, 0.32194826],\n",
       "       [0.20732634, 0.99826109, 0.00332426, 0.29826819, 0.52436505],\n",
       "       [0.67193047, 0.57483201, 0.43797213, 0.05730434, 0.51094665],\n",
       "       [0.65855705, 0.37903851, 0.82303003, 0.82956494, 0.23682024],\n",
       "       [0.38909811, 0.92271   , 0.51485132, 0.04353638, 0.59256423],\n",
       "       [0.63138912, 0.8784384 , 0.22337985, 0.23289468, 0.9432539 ],\n",
       "       [0.94296389, 0.92599338, 0.30678702, 0.56696704, 0.86959021],\n",
       "       [0.59496747, 0.72536575, 0.67820165, 0.82526677, 0.57489967],\n",
       "       [0.6219397 , 0.84168434, 0.64470391, 0.40919399, 0.87085107]])"
      ]
     },
     "execution_count": 164,
     "metadata": {},
     "output_type": "execute_result"
    }
   ],
   "source": [
    "a, b = np.random.random((5, 10)), np.random.random((10, 5))\n",
    "d = a@b\n",
    "b"
   ]
  },
  {
   "cell_type": "code",
   "execution_count": 165,
   "metadata": {},
   "outputs": [
    {
     "data": {
      "text/plain": [
       "array([[ 0.47990975,  0.29981464,  0.54917696,  0.34802064,  0.78585171],\n",
       "       [ 0.73773794,  0.88504347,  0.41171203,  0.59814946,  0.74129208],\n",
       "       [ 0.53306444,  1.09467357,  0.45551172,  0.54811912,  0.66264932],\n",
       "       [ 0.52850255,  0.54414647,  0.28745692, -0.02412769,  0.70912724],\n",
       "       [ 0.24497846,  0.18663886,  0.36362972,  0.53884849,  0.30027249],\n",
       "       [ 0.34503556,  0.95624326,  0.43047921,  0.06344684,  0.74921072],\n",
       "       [ 0.47513263,  0.74461232,  0.28542651,  0.24278419,  0.74916745],\n",
       "       [ 0.76445419,  0.92652426,  0.44111228,  0.71637306,  0.6900793 ],\n",
       "       [ 0.43073787,  0.75160418,  0.15009811,  0.46383615,  0.39447573],\n",
       "       [ 0.38462379,  0.69881994,  0.28279761,  0.09737849,  0.45823208]])"
      ]
     },
     "execution_count": 165,
     "metadata": {},
     "output_type": "execute_result"
    }
   ],
   "source": [
    "b_ = np.linalg.pinv(a)@d\n",
    "b_"
   ]
  },
  {
   "cell_type": "code",
   "execution_count": 174,
   "metadata": {},
   "outputs": [],
   "source": [
    "a = np.random.random((5, 5))\n",
    "b = np.random.random((5, 5))\n",
    "c = np.random.random((5, 5))\n",
    "d = np.random.random((5, 5))\n",
    "e = np.random.random((5, 5))\n",
    "f = np.random.random((5, 5))"
   ]
  },
  {
   "cell_type": "code",
   "execution_count": 175,
   "metadata": {},
   "outputs": [
    {
     "data": {
      "text/plain": [
       "array([[ 0.90398315,  0.72938395,  0.48061358,  0.78081462,  0.44305961],\n",
       "       [ 0.20164757,  0.3018054 , -0.17434772,  0.39514467,  0.58688729],\n",
       "       [-0.44485781, -0.57251918, -0.36116753, -0.37910865, -0.39706405],\n",
       "       [ 0.55932032,  0.18420056, -0.22844438,  0.44913555,  0.39095718],\n",
       "       [-0.72519092, -1.25655836, -1.29087651, -0.51090553, -0.50741431]])"
      ]
     },
     "execution_count": 175,
     "metadata": {},
     "output_type": "execute_result"
    }
   ],
   "source": [
    "a@b - d@b"
   ]
  },
  {
   "cell_type": "code",
   "execution_count": 176,
   "metadata": {},
   "outputs": [
    {
     "data": {
      "text/plain": [
       "array([[ 0.90398315,  0.72938395,  0.48061358,  0.78081462,  0.44305961],\n",
       "       [ 0.20164757,  0.3018054 , -0.17434772,  0.39514467,  0.58688729],\n",
       "       [-0.44485781, -0.57251918, -0.36116753, -0.37910865, -0.39706405],\n",
       "       [ 0.55932032,  0.18420056, -0.22844438,  0.44913555,  0.39095718],\n",
       "       [-0.72519092, -1.25655836, -1.29087651, -0.51090553, -0.50741431]])"
      ]
     },
     "execution_count": 176,
     "metadata": {},
     "output_type": "execute_result"
    }
   ],
   "source": [
    "(a - d)@b"
   ]
  },
  {
   "cell_type": "code",
   "execution_count": 177,
   "metadata": {},
   "outputs": [
    {
     "data": {
      "text/plain": [
       "array([[ 5.11818208, -1.81205382, -5.27638099, -0.19058114,  8.68783563],\n",
       "       [ 4.51663149, -1.64093424, -4.50184612, -0.09615034,  7.51930277],\n",
       "       [ 3.45849707, -1.12141812, -3.36167536, -0.07476403,  5.62642642],\n",
       "       [ 5.06439824, -1.7934031 , -5.20140236, -0.16340259,  8.57470025],\n",
       "       [ 2.85640449, -1.02141014, -2.88403427, -0.06634779,  4.78748525]])"
      ]
     },
     "execution_count": 177,
     "metadata": {},
     "output_type": "execute_result"
    }
   ],
   "source": [
    "a@b@c@d - a@b@c@e"
   ]
  },
  {
   "cell_type": "code",
   "execution_count": 489,
   "metadata": {},
   "outputs": [],
   "source": [
    "a = np.random.random((5, 5))\n",
    "b = np.random.random((5, 5))\n",
    "c = np.random.random((5, 5))\n",
    "d = np.random.random((5, 5))\n",
    "a1 = a + 0.01*np.random.random((5, 5))\n",
    "b1 = b + 0.01*np.random.random((5, 5))\n",
    "c1 = c + 0.01*np.random.random((5, 5))\n",
    "d1 = d + 0.01*np.random.random((5, 5))"
   ]
  },
  {
   "cell_type": "code",
   "execution_count": 490,
   "metadata": {},
   "outputs": [
    {
     "data": {
      "text/plain": [
       "array([[-0.25350929, -0.33346557, -0.26394343, -0.21463677, -0.30729176],\n",
       "       [-0.28791101, -0.38530424, -0.29281935, -0.25060539, -0.35604765],\n",
       "       [-0.20771686, -0.28976689, -0.21262055, -0.18236528, -0.27532002],\n",
       "       [-0.32283462, -0.42509855, -0.32551638, -0.27220054, -0.39209169],\n",
       "       [-0.27480217, -0.34812563, -0.27625384, -0.22688957, -0.31499786]])"
      ]
     },
     "execution_count": 490,
     "metadata": {},
     "output_type": "execute_result"
    }
   ],
   "source": [
    "# (a - a1)@b@b.T@d + a@(b - b1)@b.T@d + a@b@(b.T - b1.T)@d + a@b@b.T@(d - d1) = (d - d1)\n",
    "(a - a1)@b@b.T@d + a@(b - b1)@b.T@d + a@b@(b.T - b1.T)@d + a@b@b.T@(d - d1) - (d - d1)"
   ]
  },
  {
   "cell_type": "code",
   "execution_count": 491,
   "metadata": {},
   "outputs": [
    {
     "data": {
      "text/plain": [
       "array([[-0.25350929, -0.33346557, -0.26394343, -0.21463677, -0.30729176],\n",
       "       [-0.28791101, -0.38530424, -0.29281935, -0.25060539, -0.35604765],\n",
       "       [-0.20771686, -0.28976689, -0.21262055, -0.18236528, -0.27532002],\n",
       "       [-0.32283462, -0.42509855, -0.32551638, -0.27220054, -0.39209169],\n",
       "       [-0.27480217, -0.34812563, -0.27625384, -0.22688957, -0.31499786]])"
      ]
     },
     "execution_count": 491,
     "metadata": {},
     "output_type": "execute_result"
    }
   ],
   "source": [
    "(a - a1)@(b@b.T)@d + a@(b@b.T - b1@b.T)@d + a@(b@b.T - b@b1.T)@d + a@(b@b.T)@(d - d1) - (d - d1)"
   ]
  },
  {
   "cell_type": "code",
   "execution_count": 492,
   "metadata": {},
   "outputs": [
    {
     "data": {
      "text/plain": [
       "array([[-0.25350929, -0.33346557, -0.26394343, -0.21463677, -0.30729176],\n",
       "       [-0.28791101, -0.38530424, -0.29281935, -0.25060539, -0.35604765],\n",
       "       [-0.20771686, -0.28976689, -0.21262055, -0.18236528, -0.27532002],\n",
       "       [-0.32283462, -0.42509855, -0.32551638, -0.27220054, -0.39209169],\n",
       "       [-0.27480217, -0.34812563, -0.27625384, -0.22688957, -0.31499786]])"
      ]
     },
     "execution_count": 492,
     "metadata": {},
     "output_type": "execute_result"
    }
   ],
   "source": [
    "(a - a1)@(b@b.T)@d + a@(b@b.T)@d - a@(b1@b.T)@d + a@(b@b.T)@d - a@(b@b1.T)@d + a@(b@b.T)@d - a@(b@b.T)@d1 - (d - d1)"
   ]
  },
  {
   "cell_type": "code",
   "execution_count": 493,
   "metadata": {},
   "outputs": [
    {
     "data": {
      "text/plain": [
       "array([[-0.25350929, -0.33346557, -0.26394343, -0.21463677, -0.30729176],\n",
       "       [-0.28791101, -0.38530424, -0.29281935, -0.25060539, -0.35604765],\n",
       "       [-0.20771686, -0.28976689, -0.21262055, -0.18236528, -0.27532002],\n",
       "       [-0.32283462, -0.42509855, -0.32551638, -0.27220054, -0.39209169],\n",
       "       [-0.27480217, -0.34812563, -0.27625384, -0.22688957, -0.31499786]])"
      ]
     },
     "execution_count": 493,
     "metadata": {},
     "output_type": "execute_result"
    }
   ],
   "source": [
    "(4*a - a1)@(b@b.T)@d - a@(b1@b.T)@d - a@(b@b1.T)@d - a@(b@b.T)@d1 - (d - d1)"
   ]
  },
  {
   "cell_type": "code",
   "execution_count": 494,
   "metadata": {},
   "outputs": [
    {
     "data": {
      "text/plain": [
       "array([[-0.25350929, -0.33346557, -0.26394343, -0.21463677, -0.30729176],\n",
       "       [-0.28791101, -0.38530424, -0.29281935, -0.25060539, -0.35604765],\n",
       "       [-0.20771686, -0.28976689, -0.21262055, -0.18236528, -0.27532002],\n",
       "       [-0.32283462, -0.42509855, -0.32551638, -0.27220054, -0.39209169],\n",
       "       [-0.27480217, -0.34812563, -0.27625384, -0.22688957, -0.31499786]])"
      ]
     },
     "execution_count": 494,
     "metadata": {},
     "output_type": "execute_result"
    }
   ],
   "source": [
    "(4*a - a1)@(b@b.T)@d - ( a@(b1@b.T + b@b1.T)@d ) - a@(b@b.T)@d1 - (d - d1)"
   ]
  },
  {
   "cell_type": "code",
   "execution_count": 495,
   "metadata": {},
   "outputs": [
    {
     "data": {
      "text/plain": [
       "array([[10.47097291, 18.21190314, 11.24146253, 10.0049395 , 17.38996496],\n",
       "       [11.09207132, 19.18616   , 11.93792254, 10.49908218, 18.45481712],\n",
       "       [ 7.92880036, 14.06724721,  8.45683775,  7.52616582, 13.45730268],\n",
       "       [13.17889608, 22.61259623, 14.23504042, 12.37049785, 21.9090997 ],\n",
       "       [12.63547811, 22.12518521, 13.52506276, 12.12614209, 21.03800942]])"
      ]
     },
     "execution_count": 495,
     "metadata": {},
     "output_type": "execute_result"
    }
   ],
   "source": [
    "a@(b1@b.T)@d + a@(b@b1.T)@d"
   ]
  },
  {
   "cell_type": "code",
   "execution_count": 496,
   "metadata": {},
   "outputs": [
    {
     "data": {
      "text/plain": [
       "array([[4.0277604 , 2.40510138, 2.70651808, 1.86702421, 2.13440732],\n",
       "       [2.40510138, 2.03803526, 1.78252511, 1.20890553, 1.73358812],\n",
       "       [2.70651808, 1.78252511, 3.30889241, 2.81412861, 1.84610822],\n",
       "       [1.86702421, 1.20890553, 2.81412861, 2.60373141, 1.38785485],\n",
       "       [2.13440732, 1.73358812, 1.84610822, 1.38785485, 1.60286596]])"
      ]
     },
     "execution_count": 496,
     "metadata": {},
     "output_type": "execute_result"
    }
   ],
   "source": [
    "b1@b.T + b@b1.T"
   ]
  },
  {
   "cell_type": "code",
   "execution_count": 497,
   "metadata": {},
   "outputs": [
    {
     "data": {
      "text/plain": [
       "array([[4.0277604 , 2.40510138, 2.70651808, 1.86702421, 2.13440732],\n",
       "       [2.40510138, 2.03803526, 1.78252511, 1.20890553, 1.73358812],\n",
       "       [2.70651808, 1.78252511, 3.30889241, 2.81412861, 1.84610822],\n",
       "       [1.86702421, 1.20890553, 2.81412861, 2.60373141, 1.38785485],\n",
       "       [2.13440732, 1.73358812, 1.84610822, 1.38785485, 1.60286596]])"
      ]
     },
     "execution_count": 497,
     "metadata": {},
     "output_type": "execute_result"
    }
   ],
   "source": [
    "b@b.T + b1@b1.T - (b - b1)@(b - b1).T"
   ]
  },
  {
   "cell_type": "code",
   "execution_count": 498,
   "metadata": {},
   "outputs": [
    {
     "data": {
      "text/plain": [
       "array([[-0.25350929, -0.33346557, -0.26394343, -0.21463677, -0.30729176],\n",
       "       [-0.28791101, -0.38530424, -0.29281935, -0.25060539, -0.35604765],\n",
       "       [-0.20771686, -0.28976689, -0.21262055, -0.18236528, -0.27532002],\n",
       "       [-0.32283462, -0.42509855, -0.32551638, -0.27220054, -0.39209169],\n",
       "       [-0.27480217, -0.34812563, -0.27625384, -0.22688957, -0.31499786]])"
      ]
     },
     "execution_count": 498,
     "metadata": {},
     "output_type": "execute_result"
    }
   ],
   "source": [
    "(4*a - a1)@(b@b.T)@d - ( a@(b1@b.T + b@b1.T)@d ) - a@(b@b.T)@d1 - (d - d1)"
   ]
  },
  {
   "cell_type": "code",
   "execution_count": 499,
   "metadata": {},
   "outputs": [
    {
     "data": {
      "text/plain": [
       "array([[-0.25350929, -0.33346557, -0.26394343, -0.21463677, -0.30729176],\n",
       "       [-0.28791101, -0.38530424, -0.29281935, -0.25060539, -0.35604765],\n",
       "       [-0.20771686, -0.28976689, -0.21262055, -0.18236528, -0.27532002],\n",
       "       [-0.32283462, -0.42509855, -0.32551638, -0.27220054, -0.39209169],\n",
       "       [-0.27480217, -0.34812563, -0.27625384, -0.22688957, -0.31499786]])"
      ]
     },
     "execution_count": 499,
     "metadata": {},
     "output_type": "execute_result"
    }
   ],
   "source": [
    "(4*a - a1)@(b@b.T)@d - ( a@(b@b.T + b1@b1.T - (b - b1)@(b - b1).T)@d ) - a@(b@b.T)@d1 - (d - d1)"
   ]
  },
  {
   "cell_type": "code",
   "execution_count": 500,
   "metadata": {},
   "outputs": [
    {
     "data": {
      "text/plain": [
       "array([[-0.25350929, -0.33346557, -0.26394343, -0.21463677, -0.30729176],\n",
       "       [-0.28791101, -0.38530424, -0.29281935, -0.25060539, -0.35604765],\n",
       "       [-0.20771686, -0.28976689, -0.21262055, -0.18236528, -0.27532002],\n",
       "       [-0.32283462, -0.42509855, -0.32551638, -0.27220054, -0.39209169],\n",
       "       [-0.27480217, -0.34812563, -0.27625384, -0.22688957, -0.31499786]])"
      ]
     },
     "execution_count": 500,
     "metadata": {},
     "output_type": "execute_result"
    }
   ],
   "source": [
    "(4*a - a1)@b@b.T@d - a@b@b.T@d - a@b1@b1.T@d + a@(b - b1)@(b - b1).T@d  - a@(b@b.T)@d1 - (d - d1)"
   ]
  },
  {
   "cell_type": "code",
   "execution_count": 519,
   "metadata": {},
   "outputs": [],
   "source": [
    "db = b - b1"
   ]
  },
  {
   "cell_type": "code",
   "execution_count": 520,
   "metadata": {},
   "outputs": [
    {
     "data": {
      "text/plain": [
       "array([[-0.25350929, -0.33346557, -0.26394343, -0.21463677, -0.30729176],\n",
       "       [-0.28791101, -0.38530424, -0.29281935, -0.25060539, -0.35604765],\n",
       "       [-0.20771686, -0.28976689, -0.21262055, -0.18236528, -0.27532002],\n",
       "       [-0.32283462, -0.42509855, -0.32551638, -0.27220054, -0.39209169],\n",
       "       [-0.27480217, -0.34812563, -0.27625384, -0.22688957, -0.31499786]])"
      ]
     },
     "execution_count": 520,
     "metadata": {},
     "output_type": "execute_result"
    }
   ],
   "source": [
    "(4*a - a1)@b@b.T@d - a@b@b.T@d - a@b1@b1.T@d + a@db@db.T@d  - a@(b@b.T)@d1 - (d - d1)"
   ]
  },
  {
   "cell_type": "code",
   "execution_count": 501,
   "metadata": {},
   "outputs": [
    {
     "data": {
      "text/plain": [
       "array([[-0.25350929, -0.33346557, -0.26394343, -0.21463677, -0.30729176],\n",
       "       [-0.28791101, -0.38530424, -0.29281935, -0.25060539, -0.35604765],\n",
       "       [-0.20771686, -0.28976689, -0.21262055, -0.18236528, -0.27532002],\n",
       "       [-0.32283462, -0.42509855, -0.32551638, -0.27220054, -0.39209169],\n",
       "       [-0.27480217, -0.34812563, -0.27625384, -0.22688957, -0.31499786]])"
      ]
     },
     "execution_count": 501,
     "metadata": {},
     "output_type": "execute_result"
    }
   ],
   "source": [
    "(3*a - a1)@b@b.T@d - a@b1@b1.T@d + a@(b - b1)@(b - b1).T@d  - a@(b@b.T)@d1 - (d - d1)"
   ]
  },
  {
   "cell_type": "code",
   "execution_count": 523,
   "metadata": {},
   "outputs": [],
   "source": [
    "C = - a@b1@b1.T@d - (d - d1)"
   ]
  },
  {
   "cell_type": "code",
   "execution_count": 503,
   "metadata": {},
   "outputs": [
    {
     "data": {
      "text/plain": [
       "array([[-0.25350929, -0.33346557, -0.26394343, -0.21463677, -0.30729176],\n",
       "       [-0.28791101, -0.38530424, -0.29281935, -0.25060539, -0.35604765],\n",
       "       [-0.20771686, -0.28976689, -0.21262055, -0.18236528, -0.27532002],\n",
       "       [-0.32283462, -0.42509855, -0.32551638, -0.27220054, -0.39209169],\n",
       "       [-0.27480217, -0.34812563, -0.27625384, -0.22688957, -0.31499786]])"
      ]
     },
     "execution_count": 503,
     "metadata": {},
     "output_type": "execute_result"
    }
   ],
   "source": [
    "(3*a - a1)@b@b.T@d + a@(b - b1)@(b - b1).T@d  - a@b@b.T@d1 + C"
   ]
  },
  {
   "cell_type": "code",
   "execution_count": 504,
   "metadata": {},
   "outputs": [
    {
     "data": {
      "text/plain": [
       "array([[-0.25350929, -0.33346557, -0.26394343, -0.21463677, -0.30729176],\n",
       "       [-0.28791101, -0.38530424, -0.29281935, -0.25060539, -0.35604765],\n",
       "       [-0.20771686, -0.28976689, -0.21262055, -0.18236528, -0.27532002],\n",
       "       [-0.32283462, -0.42509855, -0.32551638, -0.27220054, -0.39209169],\n",
       "       [-0.27480217, -0.34812563, -0.27625384, -0.22688957, -0.31499786]])"
      ]
     },
     "execution_count": 504,
     "metadata": {},
     "output_type": "execute_result"
    }
   ],
   "source": [
    "(3*a - a1)@b@b.T@d + (a@b - a@b1)@(b.T@d - b1.T@d)  - a@b@b.T@d1 + C"
   ]
  },
  {
   "cell_type": "code",
   "execution_count": 512,
   "metadata": {},
   "outputs": [
    {
     "data": {
      "text/plain": [
       "array([[-0.25350929, -0.33346557, -0.26394343, -0.21463677, -0.30729176],\n",
       "       [-0.28791101, -0.38530424, -0.29281935, -0.25060539, -0.35604765],\n",
       "       [-0.20771686, -0.28976689, -0.21262055, -0.18236528, -0.27532002],\n",
       "       [-0.32283462, -0.42509855, -0.32551638, -0.27220054, -0.39209169],\n",
       "       [-0.27480217, -0.34812563, -0.27625384, -0.22688957, -0.31499786]])"
      ]
     },
     "execution_count": 512,
     "metadata": {},
     "output_type": "execute_result"
    }
   ],
   "source": [
    "3*a@b@b.T@d - a1@b@b.T@d + a@b@b.T@d - a@b@b1.T@d - a@b1@b.T@d + a@b1@b1.T@d - a@b@b.T@d1 + C"
   ]
  },
  {
   "cell_type": "code",
   "execution_count": 524,
   "metadata": {},
   "outputs": [],
   "source": [
    "C_1 = C + a@b1@b1.T@d"
   ]
  },
  {
   "cell_type": "code",
   "execution_count": 525,
   "metadata": {},
   "outputs": [
    {
     "data": {
      "text/plain": [
       "array([[-0.25350929, -0.33346557, -0.26394343, -0.21463677, -0.30729176],\n",
       "       [-0.28791101, -0.38530424, -0.29281935, -0.25060539, -0.35604765],\n",
       "       [-0.20771686, -0.28976689, -0.21262055, -0.18236528, -0.27532002],\n",
       "       [-0.32283462, -0.42509855, -0.32551638, -0.27220054, -0.39209169],\n",
       "       [-0.27480217, -0.34812563, -0.27625384, -0.22688957, -0.31499786]])"
      ]
     },
     "execution_count": 525,
     "metadata": {},
     "output_type": "execute_result"
    }
   ],
   "source": [
    "4*a@b@b.T@d - a1@b@b.T@d - a@(b@b1.T + b1@b.T)@d - a@b@b.T@d1 + C_1"
   ]
  },
  {
   "cell_type": "code",
   "execution_count": 521,
   "metadata": {},
   "outputs": [],
   "source": [
    "A = 4*a\n",
    "B = d\n",
    "C = a1\n",
    "D = a\n",
    "E = d1"
   ]
  },
  {
   "cell_type": "code",
   "execution_count": 527,
   "metadata": {},
   "outputs": [
    {
     "data": {
      "text/plain": [
       "array([[-0.25350929, -0.33346557, -0.26394343, -0.21463677, -0.30729176],\n",
       "       [-0.28791101, -0.38530424, -0.29281935, -0.25060539, -0.35604765],\n",
       "       [-0.20771686, -0.28976689, -0.21262055, -0.18236528, -0.27532002],\n",
       "       [-0.32283462, -0.42509855, -0.32551638, -0.27220054, -0.39209169],\n",
       "       [-0.27480217, -0.34812563, -0.27625384, -0.22688957, -0.31499786]])"
      ]
     },
     "execution_count": 527,
     "metadata": {},
     "output_type": "execute_result"
    }
   ],
   "source": [
    "# 4*a@b@b.T@d - a1@b@b.T@d - a@(b@b1.T + b1@b.T)@d - a@b@b.T@d1 + C_1 = 0\n",
    "4*a@b@b.T@d - a1@b@b.T@d - a@(b@b1.T + b1@b.T)@d - a@b@b.T@d1 + C_1"
   ]
  },
  {
   "cell_type": "code",
   "execution_count": 531,
   "metadata": {},
   "outputs": [
    {
     "data": {
      "text/plain": [
       "array([[-0.25350929, -0.33346557, -0.26394343, -0.21463677, -0.30729176],\n",
       "       [-0.28791101, -0.38530424, -0.29281935, -0.25060539, -0.35604765],\n",
       "       [-0.20771686, -0.28976689, -0.21262055, -0.18236528, -0.27532002],\n",
       "       [-0.32283462, -0.42509855, -0.32551638, -0.27220054, -0.39209169],\n",
       "       [-0.27480217, -0.34812563, -0.27625384, -0.22688957, -0.31499786]])"
      ]
     },
     "execution_count": 531,
     "metadata": {},
     "output_type": "execute_result"
    }
   ],
   "source": [
    "4*a@b@b.T@d - a1@b@b.T@d - a@(b@b1.T + (b@b1.T).T)@d - a@b@b.T@d1 + C_1"
   ]
  },
  {
   "cell_type": "code",
   "execution_count": 532,
   "metadata": {},
   "outputs": [
    {
     "data": {
      "text/plain": [
       "array([[4.0277604 , 2.40510138, 2.70651808, 1.86702421, 2.13440732],\n",
       "       [2.40510138, 2.03803526, 1.78252511, 1.20890553, 1.73358812],\n",
       "       [2.70651808, 1.78252511, 3.30889241, 2.81412861, 1.84610822],\n",
       "       [1.86702421, 1.20890553, 2.81412861, 2.60373141, 1.38785485],\n",
       "       [2.13440732, 1.73358812, 1.84610822, 1.38785485, 1.60286596]])"
      ]
     },
     "execution_count": 532,
     "metadata": {},
     "output_type": "execute_result"
    }
   ],
   "source": [
    "b@b1.T + (b@b1.T).T"
   ]
  },
  {
   "cell_type": "code",
   "execution_count": 535,
   "metadata": {},
   "outputs": [
    {
     "data": {
      "text/plain": [
       "array([[-0.01114422, -0.00554294, -0.01045986, -0.00760729, -0.0053123 ],\n",
       "       [-0.0171436 , -0.01224541, -0.01841876, -0.01417058, -0.01201933],\n",
       "       [-0.01207373, -0.00706241, -0.01657298, -0.01612234, -0.00852237],\n",
       "       [-0.01205374, -0.00940494, -0.01282342, -0.01027413, -0.00883149],\n",
       "       [-0.01090605, -0.00958912, -0.00846356, -0.00566764, -0.00877365]])"
      ]
     },
     "execution_count": 535,
     "metadata": {},
     "output_type": "execute_result"
    }
   ],
   "source": [
    "(b - b1)@b.T"
   ]
  },
  {
   "cell_type": "code",
   "execution_count": 547,
   "metadata": {},
   "outputs": [
    {
     "data": {
      "text/plain": [
       "array([[-0.01114422, -0.00554294, -0.01045986, -0.00760729, -0.0053123 ],\n",
       "       [-0.0171436 , -0.01224541, -0.01841876, -0.01417058, -0.01201933],\n",
       "       [-0.01207373, -0.00706241, -0.01657298, -0.01612234, -0.00852237],\n",
       "       [-0.01205374, -0.00940494, -0.01282342, -0.01027413, -0.00883149],\n",
       "       [-0.01090605, -0.00958912, -0.00846356, -0.00566764, -0.00877365]])"
      ]
     },
     "execution_count": 547,
     "metadata": {},
     "output_type": "execute_result"
    }
   ],
   "source": [
    "db@b.T"
   ]
  },
  {
   "cell_type": "code",
   "execution_count": 537,
   "metadata": {},
   "outputs": [
    {
     "data": {
      "text/plain": [
       "array([[2.00273598, 1.19120742, 1.34199224, 0.92368159, 1.05909449],\n",
       "       [1.19120742, 1.00677222, 0.87852197, 0.592665  , 0.85598984],\n",
       "       [1.34199224, 0.87852197, 1.63787322, 1.39259142, 0.91456115],\n",
       "       [0.92368159, 0.592665  , 1.39259142, 1.29159157, 0.68667786],\n",
       "       [1.05909449, 0.85598984, 0.91456115, 0.68667786, 0.79265933]])"
      ]
     },
     "execution_count": 537,
     "metadata": {},
     "output_type": "execute_result"
    }
   ],
   "source": [
    "b@b.T2"
   ]
  },
  {
   "cell_type": "code",
   "execution_count": 538,
   "metadata": {},
   "outputs": [
    {
     "data": {
      "text/plain": [
       "array([[2.0138802 , 1.19675036, 1.3524521 , 0.93128888, 1.06440678],\n",
       "       [1.20835102, 1.01901763, 0.89694073, 0.60683559, 0.86800916],\n",
       "       [1.35406598, 0.88558438, 1.65444621, 1.40871376, 0.92308351],\n",
       "       [0.93573533, 0.60206994, 1.40541485, 1.30186571, 0.69550935],\n",
       "       [1.07000053, 0.86557896, 0.92302471, 0.69234549, 0.80143298]])"
      ]
     },
     "execution_count": 538,
     "metadata": {},
     "output_type": "execute_result"
    }
   ],
   "source": [
    "b1@b.T"
   ]
  },
  {
   "cell_type": "code",
   "execution_count": 546,
   "metadata": {},
   "outputs": [
    {
     "data": {
      "text/plain": [
       "array([[2.0138802 , 1.19675036, 1.3524521 , 0.93128888, 1.06440678],\n",
       "       [1.20835102, 1.01901763, 0.89694073, 0.60683559, 0.86800916],\n",
       "       [1.35406598, 0.88558438, 1.65444621, 1.40871376, 0.92308351],\n",
       "       [0.93573533, 0.60206994, 1.40541485, 1.30186571, 0.69550935],\n",
       "       [1.07000053, 0.86557896, 0.92302471, 0.69234549, 0.80143298]])"
      ]
     },
     "execution_count": 546,
     "metadata": {},
     "output_type": "execute_result"
    }
   ],
   "source": [
    "b@b.T - db@b.T"
   ]
  },
  {
   "cell_type": "code",
   "execution_count": 540,
   "metadata": {},
   "outputs": [
    {
     "data": {
      "text/plain": [
       "array([[4.0277604 , 2.40510138, 2.70651808, 1.86702421, 2.13440732],\n",
       "       [2.40510138, 2.03803526, 1.78252511, 1.20890553, 1.73358812],\n",
       "       [2.70651808, 1.78252511, 3.30889241, 2.81412861, 1.84610822],\n",
       "       [1.86702421, 1.20890553, 2.81412861, 2.60373141, 1.38785485],\n",
       "       [2.13440732, 1.73358812, 1.84610822, 1.38785485, 1.60286596]])"
      ]
     },
     "execution_count": 540,
     "metadata": {},
     "output_type": "execute_result"
    }
   ],
   "source": [
    "# b@b1.T + (b@b1.T).T =\n",
    "b@b.T + b1@b1.T - (b - b1)@(b - b1).T"
   ]
  },
  {
   "cell_type": "code",
   "execution_count": 581,
   "metadata": {},
   "outputs": [
    {
     "data": {
      "text/plain": [
       "array([[4.0277604 , 2.40510138, 2.70651808, 1.86702421, 2.13440732],\n",
       "       [2.40510138, 2.03803526, 1.78252511, 1.20890553, 1.73358812],\n",
       "       [2.70651808, 1.78252511, 3.30889241, 2.81412861, 1.84610822],\n",
       "       [1.86702421, 1.20890553, 2.81412861, 2.60373141, 1.38785485],\n",
       "       [2.13440732, 1.73358812, 1.84610822, 1.38785485, 1.60286596]])"
      ]
     },
     "execution_count": 581,
     "metadata": {},
     "output_type": "execute_result"
    }
   ],
   "source": [
    "b@b1.T + b1@b.T"
   ]
  },
  {
   "cell_type": "code",
   "execution_count": null,
   "metadata": {},
   "outputs": [],
   "source": [
    "\n"
   ]
  }
 ],
 "metadata": {
  "kernelspec": {
   "display_name": "venv",
   "language": "python",
   "name": "python3"
  },
  "language_info": {
   "codemirror_mode": {
    "name": "ipython",
    "version": 3
   },
   "file_extension": ".py",
   "mimetype": "text/x-python",
   "name": "python",
   "nbconvert_exporter": "python",
   "pygments_lexer": "ipython3",
   "version": "3.11.3"
  },
  "orig_nbformat": 4,
  "vscode": {
   "interpreter": {
    "hash": "5aa6b5b1e62fd42c97f5a6f6ec4ad4127e5c64e36f9f889d8836a95a9cc1eb4c"
   }
  }
 },
 "nbformat": 4,
 "nbformat_minor": 2
}
