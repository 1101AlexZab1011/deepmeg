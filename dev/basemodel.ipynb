{
 "cells": [
  {
   "cell_type": "code",
   "execution_count": 120,
   "metadata": {},
   "outputs": [],
   "source": [
    "from mne.datasets import multimodal\n",
    "import mne\n",
    "import os\n",
    "import sys\n",
    "sys.path.insert(1, os.path.realpath(os.path.pardir))\n",
    "from deepmeg.training.callbacks import Callback\n",
    "from deepmeg.training.trainers import Trainer\n",
    "from deepmeg.data.datasets import read_epochs_dataset, EpochsDataset\n",
    "from deepmeg.preprocessing.transforms import zscore\n",
    "import torch\n",
    "import torch.nn as nn\n",
    "from collections import defaultdict\n",
    "from deepmeg.data.utils import make_train_and_val_loaders\n",
    "from torch.utils.data import DataLoader, Dataset\n",
    "import torchmetrics\n",
    "from deepmeg.training.callbacks import PrintingCallback\n",
    "import matplotlib.pyplot as plt\n",
    "import numpy as np"
   ]
  },
  {
   "cell_type": "code",
   "execution_count": 2,
   "metadata": {},
   "outputs": [
    {
     "name": "stdout",
     "output_type": "stream",
     "text": [
      "Opening raw data file /home/user/mne_data/MNE-multimodal-data/multimodal_raw.fif...\n",
      "    Read a total of 7 projection items:\n",
      "        grad_ssp_upright.fif : PCA-v1 (1 x 306)  idle\n",
      "        grad_ssp_upright.fif : PCA-v2 (1 x 306)  idle\n",
      "        mag_ssp_upright.fif : PCA-v1 (1 x 306)  idle\n",
      "        mag_ssp_upright.fif : PCA-v2 (1 x 306)  idle\n",
      "        mag_ssp_upright.fif : PCA-v3 (1 x 306)  idle\n",
      "        mag_ssp_upright.fif : PCA-v4 (1 x 306)  idle\n",
      "        mag_ssp_upright.fif : PCA-v5 (1 x 306)  idle\n",
      "    Range : 183600 ... 576599 =    305.687 ...   960.014 secs\n",
      "Ready.\n",
      "Not setting metadata\n",
      "118 matching events found\n",
      "Setting baseline interval to [-0.09989760657919393, 0.0] sec\n",
      "Applying baseline correction (mode: mean)\n",
      "Created an SSP operator (subspace dimension = 7)\n",
      "7 projection items activated\n",
      "Not setting metadata\n",
      "129 matching events found\n",
      "Setting baseline interval to [-0.09989760657919393, 0.0] sec\n",
      "Applying baseline correction (mode: mean)\n",
      "Created an SSP operator (subspace dimension = 7)\n",
      "7 projection items activated\n",
      "Not setting metadata\n",
      "115 matching events found\n",
      "Setting baseline interval to [-0.09989760657919393, 0.0] sec\n",
      "Applying baseline correction (mode: mean)\n",
      "Created an SSP operator (subspace dimension = 7)\n",
      "7 projection items activated\n",
      "Not setting metadata\n",
      "133 matching events found\n",
      "Setting baseline interval to [-0.09989760657919393, 0.0] sec\n",
      "Applying baseline correction (mode: mean)\n",
      "Created an SSP operator (subspace dimension = 7)\n",
      "7 projection items activated\n",
      "Not setting metadata\n",
      "107 matching events found\n",
      "Setting baseline interval to [-0.09989760657919393, 0.0] sec\n",
      "Applying baseline correction (mode: mean)\n",
      "Created an SSP operator (subspace dimension = 7)\n",
      "7 projection items activated\n",
      "Not setting metadata\n",
      "118 matching events found\n",
      "Setting baseline interval to [-0.09989760657919393, 0.0] sec\n",
      "Applying baseline correction (mode: mean)\n",
      "Created an SSP operator (subspace dimension = 7)\n",
      "7 projection items activated\n",
      "Not setting metadata\n",
      "104 matching events found\n",
      "Setting baseline interval to [-0.09989760657919393, 0.0] sec\n",
      "Applying baseline correction (mode: mean)\n",
      "Created an SSP operator (subspace dimension = 7)\n",
      "7 projection items activated\n",
      "Not setting metadata\n",
      "117 matching events found\n",
      "Setting baseline interval to [-0.09989760657919393, 0.0] sec\n",
      "Applying baseline correction (mode: mean)\n",
      "Created an SSP operator (subspace dimension = 7)\n",
      "7 projection items activated\n",
      "Loading data for 118 events and 361 original time points ...\n",
      "1 bad epochs dropped\n",
      "Loading data for 129 events and 361 original time points ...\n",
      "0 bad epochs dropped\n",
      "Loading data for 115 events and 361 original time points ...\n",
      "0 bad epochs dropped\n",
      "Loading data for 133 events and 361 original time points ...\n",
      "0 bad epochs dropped\n",
      "Loading data for 107 events and 361 original time points ...\n",
      "0 bad epochs dropped\n",
      "Loading data for 118 events and 361 original time points ...\n",
      "0 bad epochs dropped\n",
      "Loading data for 104 events and 361 original time points ...\n",
      "0 bad epochs dropped\n",
      "Loading data for 117 events and 361 original time points ...\n",
      "0 bad epochs dropped\n",
      "Loading data for 117 events and 361 original time points ...\n",
      "Loading data for 129 events and 361 original time points ...\n",
      "Loading data for 115 events and 361 original time points ...\n",
      "Loading data for 133 events and 361 original time points ...\n",
      "Loading data for 107 events and 361 original time points ...\n",
      "Loading data for 118 events and 361 original time points ...\n",
      "Loading data for 104 events and 361 original time points ...\n",
      "Loading data for 117 events and 361 original time points ...\n",
      "Not setting metadata\n",
      "940 matching events found\n",
      "Applying baseline correction (mode: mean)\n",
      "Created an SSP operator (subspace dimension = 7)\n",
      "Applying baseline correction (mode: mean)\n"
     ]
    },
    {
     "data": {
      "text/html": [
       "<table class=\"table table-hover table-striped table-sm table-responsive small\">\n",
       "    <tr>\n",
       "        <th>Number of events</th>\n",
       "        <td>940</td>\n",
       "    </tr>\n",
       "    <tr>\n",
       "        <th>Events</th>\n",
       "        \n",
       "        <td>Auditory left: 117<br/>Auditory right: 104<br/>Somato left: 118<br/>Somato right: 107<br/>Visual Lower left: 115<br/>Visual Lower right: 129<br/>Visual Upper left: 133<br/>Visual Upper right: 117</td>\n",
       "        \n",
       "    </tr>\n",
       "    <tr>\n",
       "        <th>Time range</th>\n",
       "        <td>0.000 – 0.499 sec</td>\n",
       "    </tr>\n",
       "    <tr>\n",
       "        <th>Baseline</th>\n",
       "        <td>-0.100 – 0.000 sec</td>\n",
       "    </tr>\n",
       "</table>"
      ],
      "text/plain": [
       "<EpochsArray |  940 events (all good), 0 - 0.499488 sec, baseline -0.0998976 – 0 sec (baseline period was cropped after baseline correction), ~443.6 MB, data loaded,\n",
       " 'Visual Upper right': 117\n",
       " 'Visual Lower right': 129\n",
       " 'Visual Lower left': 115\n",
       " 'Visual Upper left': 133\n",
       " 'Somato right': 107\n",
       " 'Somato left': 118\n",
       " 'Auditory right': 104\n",
       " 'Auditory left': 117>"
      ]
     },
     "execution_count": 2,
     "metadata": {},
     "output_type": "execute_result"
    }
   ],
   "source": [
    "fname_raw = os.path.join(multimodal.data_path(), 'multimodal_raw.fif')\n",
    "raw = mne.io.read_raw_fif(fname_raw)\n",
    "\n",
    "cond = raw.acqparser.get_condition(raw, None)\n",
    "# get the list of condition names\n",
    "condition_names = [k for c in cond for k,v in c['event_id'].items()]\n",
    "# for c in cond:\n",
    "#     c['tmax'] = 1.2\n",
    "epochs_list = [mne.Epochs(raw, **c) for c in cond]\n",
    "epochs = mne.concatenate_epochs(epochs_list)\n",
    "epochs.pick_types(meg='grad')\n",
    "epochs.apply_baseline((None, 0))\n",
    "epochs.crop(0, None)"
   ]
  },
  {
   "cell_type": "code",
   "execution_count": 3,
   "metadata": {},
   "outputs": [],
   "source": [
    "dataset = EpochsDataset(epochs, savepath='../trash', transform = zscore)"
   ]
  },
  {
   "cell_type": "code",
   "execution_count": 4,
   "metadata": {},
   "outputs": [],
   "source": [
    "dataset.save('../data/dataset.pt')"
   ]
  },
  {
   "cell_type": "code",
   "execution_count": 5,
   "metadata": {},
   "outputs": [],
   "source": [
    "del epochs"
   ]
  },
  {
   "cell_type": "code",
   "execution_count": 6,
   "metadata": {},
   "outputs": [],
   "source": [
    "dataset = read_epochs_dataset('../data/dataset.pt')"
   ]
  },
  {
   "cell_type": "code",
   "execution_count": 7,
   "metadata": {},
   "outputs": [],
   "source": [
    "class TinyNet(torch.nn.Module):\n",
    "\n",
    "    def __init__(self, n_channels, n_latent, n_times, pool_factor, n_outputs):\n",
    "        super().__init__()\n",
    "        self.pool_factor = pool_factor\n",
    "        self.unmixing_layer = nn.Conv1d(n_channels, n_latent, kernel_size=1, bias=False)\n",
    "        self.unmixing_layer_batchnorm = nn.BatchNorm1d(n_latent, affine=False)\n",
    "        final_out_features = (n_times//pool_factor+1)*n_latent\n",
    "        self.features_batchnorm = nn.BatchNorm1d(final_out_features, affine=False)\n",
    "        self.fc_layer = nn.Linear(final_out_features, n_outputs)\n",
    "\n",
    "\n",
    "    def forward(self, x):\n",
    "        x = self.unmixing_layer(x)\n",
    "        x = self.unmixing_layer_batchnorm(x)\n",
    "        x = x[:, :, ::self.pool_factor].contiguous()\n",
    "        x = torch.flatten(x, 1)\n",
    "        x = self.features_batchnorm(x)\n",
    "        return self.fc_layer(x)"
   ]
  },
  {
   "cell_type": "code",
   "execution_count": 2,
   "metadata": {},
   "outputs": [],
   "source": [
    "def plot_metrics(metrics):\n",
    "    plot_dict = defaultdict(dict)\n",
    "\n",
    "    for metric, values in metrics.items():\n",
    "        metric_data = metric.split('_')\n",
    "        metric_name = '_'.join(metric_data[:-1])\n",
    "        metric_kind = metric_data[-1]\n",
    "        plot_dict[metric_name][metric_kind] = values\n",
    "\n",
    "    for metric_name, kind_dict in plot_dict.items():\n",
    "        legend = list()\n",
    "        for metric_kind, kind in kind_dict.items():\n",
    "            plt.plot(kind)\n",
    "            legend.append(metric_kind)\n",
    "        plt.title(metric_name)\n",
    "        plt.legend(legend)\n",
    "        plt.show()"
   ]
  },
  {
   "cell_type": "code",
   "execution_count": 16,
   "metadata": {},
   "outputs": [],
   "source": [
    "dataset = read_epochs_dataset('../data/dataset.pt')\n",
    "train, test = torch.utils.data.random_split(dataset, [.7, .3])\n",
    "batch_size = 200\n",
    "val_size = 60\n",
    "train_loader, val_loader = make_train_and_val_loaders(train, batch_size, val_size)\n",
    "test_loader = DataLoader(test, batch_size, shuffle=True)\n",
    "model = TinyNet(204, 8, 301, 10, 8)\n",
    "optimizer = torch.optim.Adam(model.parameters())\n",
    "criterion = torch.nn.BCEWithLogitsLoss()\n",
    "metric = ('acc', torchmetrics.functional.classification.binary_accuracy)\n",
    "\n"
   ]
  },
  {
   "cell_type": "code",
   "execution_count": null,
   "metadata": {},
   "outputs": [],
   "source": [
    "\n",
    "trainer = Trainer(\n",
    "    model, optimizer, criterion, 'cpu', [metric],\n",
    "    callbacks=[\n",
    "        PrintingCallback(),\n",
    "    ]\n",
    ")\n",
    "metrics = trainer.fit(train_loader, 25, val_loader)\n",
    "plot_metrics(metrics)"
   ]
  },
  {
   "cell_type": "code",
   "execution_count": 13,
   "metadata": {},
   "outputs": [
    {
     "name": "stdout",
     "output_type": "stream",
     "text": [
      "train_loss: 0.4838923712571462\n",
      "train_acc: 0.8077647884686788\n",
      "loss: 0.5737608075141907\n",
      "acc: 0.7134222388267517\n"
     ]
    }
   ],
   "source": [
    "train_result = trainer.evaluate(train_loader)\n",
    "result = trainer.evaluate(test_loader)\n",
    "\n",
    "for measure, value in train_result.items():\n",
    "    print(f'train_{measure}: {value}')\n",
    "\n",
    "for measure, value in result.items():\n",
    "    print(f'{measure}: {value}')"
   ]
  },
  {
   "cell_type": "code",
   "execution_count": 15,
   "metadata": {},
   "outputs": [
    {
     "data": {
      "text/plain": [
       "torch.optim.adam.Adam"
      ]
     },
     "execution_count": 15,
     "metadata": {},
     "output_type": "execute_result"
    }
   ],
   "source": [
    "type(optimizer)"
   ]
  },
  {
   "cell_type": "code",
   "execution_count": 99,
   "metadata": {},
   "outputs": [],
   "source": [
    "from typing import Callable, Sequence\n",
    "\n",
    "\n",
    "class BaseModel(torch.nn.Module):\n",
    "    \"\"\"\n",
    "    A base class for creating models with PyTorch.\n",
    "    This class provides common functionalities such as training, evaluation, saving and loading.\n",
    "\n",
    "    Attributes:\n",
    "        trainer (Trainer): The trainer object used to train the model.\n",
    "    \"\"\"\n",
    "\n",
    "    def __init__(self):\n",
    "        \"\"\"\n",
    "        Initializes the BaseModel.\n",
    "        \"\"\"\n",
    "        super().__init__()\n",
    "\n",
    "    def forward(self, x: torch.Tensor) -> torch.Tensor:\n",
    "        \"\"\"\n",
    "        Defines the forward pass of the model. This function should be implemented by subclasses.\n",
    "\n",
    "        Args:\n",
    "            x (torch.Tensor): Input to the model.\n",
    "\n",
    "        Returns:\n",
    "            torch.Tensor: Output of the model.\n",
    "        \"\"\"\n",
    "        ...\n",
    "\n",
    "    @staticmethod\n",
    "    def _prepare_dataloaders(\n",
    "        data: Dataset | DataLoader,\n",
    "        batch_size: int,\n",
    "        val_data: Dataset | DataLoader,\n",
    "        val_batch_size: int\n",
    "    ):\n",
    "        \"\"\"\n",
    "        Prepare train and validation data loaders\n",
    "\n",
    "        Args:\n",
    "            data (Dataset | DataLoader): Input data. Can be either a PyTorch Dataset or a DataLoader object\n",
    "            batch_size (int): batch size for the training data\n",
    "            val_data (Dataset | DataLoader): Input validation data. Can be either a PyTorch Dataset or a DataLoader object\n",
    "            val_batch_size (int): batch size for the validation data\n",
    "\n",
    "        Returns:\n",
    "            Tuple[DataLoader, DataLoader]: Tuple containing train and validation DataLoader objects\n",
    "\n",
    "        Raises:\n",
    "            ValueError: If data is DataLoader object and batch_size is given\n",
    "            ValueError: If val_data is DataLoader object and val_batch_size is given\n",
    "            TypeError: If input data is not a Dataset or DataLoader\n",
    "            TypeError: If input val_data is not a Dataset or DataLoader\n",
    "\n",
    "        \"\"\"\n",
    "        val_loader = None\n",
    "        if isinstance(data, (Dataset, torch.utils.data.dataset.Subset)):\n",
    "            if batch_size is None:\n",
    "                batch_size = len(data)//10\n",
    "\n",
    "            if val_data is not None or val_batch_size is None:\n",
    "                train_loader = DataLoader(data, batch_size, shuffle=True)\n",
    "            else:\n",
    "                train_loader, val_loader = make_train_and_val_loaders(data, batch_size, val_batch_size)\n",
    "        elif isinstance(data, DataLoader):\n",
    "            if batch_size is not None:\n",
    "                raise ValueError('If you give a Dataloader, you can not set batch_size')\n",
    "\n",
    "            if (val_data is None and val_batch_size is not None):\n",
    "                raise ValueError('Can not split data into train and test sets from dataloader. Give dataset instead or do not use validation')\n",
    "            else:\n",
    "                train_loader = data\n",
    "        else:\n",
    "            raise TypeError(f'Wrong type for input data: {type(data)}. Input data must be either Dataset or DataLoader')\n",
    "\n",
    "        if val_loader is None:\n",
    "            if isinstance(val_data, (Dataset, torch.utils.data.dataset.Subset)):\n",
    "                if val_batch_size is None:\n",
    "                    val_batch_size = len(val_data)//10\n",
    "                val_loader = DataLoader(val_data, val_batch_size, shuffle=True)\n",
    "            elif isinstance(val_data, DataLoader):\n",
    "                if val_batch_size is not None:\n",
    "                    raise ValueError('If you give a Dataloader, you can not set batch_size')\n",
    "                val_loader = val_data\n",
    "            elif val_data is None and val_batch_size is None :\n",
    "                val_loader = None\n",
    "            else:\n",
    "                raise TypeError(f'Wrong type for validation data: {type(data)}. Validation data must be either Dataset or DataLoader')\n",
    "\n",
    "        return train_loader, val_loader\n",
    "\n",
    "    @staticmethod\n",
    "    def _validate_metrics(\n",
    "        metrics: Callable[[torch.Tensor, torch.Tensor], torch.Tensor] |\\\n",
    "            list[Callable[[torch.Tensor, torch.Tensor], torch.Tensor]] |\\\n",
    "            tuple[str, Callable[[torch.Tensor, torch.Tensor], torch.Tensor]] |\\\n",
    "            list[tuple[str, Callable[[torch.Tensor, torch.Tensor], torch.Tensor]]] = None\n",
    "    ):\n",
    "        \"\"\"\n",
    "        Validate the given metrics and return a list of tuples of name and function\n",
    "\n",
    "        Parameters:\n",
    "            metrics: A single function, a list of functions, a tuple of name and function, a list of tuples of name and function.\n",
    "                The function should take in two arguments, `output` and `target` and return a single value.\n",
    "                If None, returns None.\n",
    "\n",
    "        Returns:\n",
    "            A list of tuples of name and function\n",
    "        \"\"\"\n",
    "        if isinstance(metrics, Callable):\n",
    "            return [(metrics.__name__, metrics)]\n",
    "        elif isinstance(metrics, Sequence):\n",
    "            if isinstance(metrics[0], str) and isinstance(metrics[1], Callable):\n",
    "                return [tuple(metrics)]\n",
    "            else:\n",
    "                all_metrics = list()\n",
    "                for metric in metrics:\n",
    "                    if isinstance(metric, Callable):\n",
    "                        all_metrics.append((metric.__name__, metric))\n",
    "                    elif isinstance(metric[0], str) and isinstance(metric[1], Callable):\n",
    "                        all_metrics.append(tuple(metric))\n",
    "                return all_metrics\n",
    "        else:\n",
    "            return None\n",
    "\n",
    "    def compile(\n",
    "        self,\n",
    "        optimizer: torch.optim.Optimizer = None,\n",
    "        loss: nn.Module = None,\n",
    "        metrics: Callable[[torch.Tensor, torch.Tensor], torch.Tensor] |\\\n",
    "            list[Callable[[torch.Tensor, torch.Tensor], torch.Tensor]] |\\\n",
    "            tuple[str, Callable[[torch.Tensor, torch.Tensor], torch.Tensor]] |\\\n",
    "            list[tuple[str, Callable[[torch.Tensor, torch.Tensor], torch.Tensor]]] = None,\n",
    "        callbacks: Callback | list[Callback] = None,\n",
    "        trainer: Trainer = None,\n",
    "        device: torch.device = None,\n",
    "    ):\n",
    "        \"\"\"Compile the model with optimizer, loss, metrics, callbacks and trainer.\n",
    "\n",
    "        Args:\n",
    "            optimizer (torch.optim.Optimizer, optional): The optimizer used to train the model. Defaults to None. If None, the ADAM optimizer is used.\n",
    "            loss (nn.Module, optional): Loss function used to compute the loss. Defaults to None. If None, the L1 loss function is used.\n",
    "            metrics (Callable[[torch.Tensor, torch.Tensor], torch.Tensor] |\n",
    "                list[Callable[[torch.Tensor, torch.Tensor], torch.Tensor]] |\n",
    "                tuple[str, Callable[[torch.Tensor, torch.Tensor], torch.Tensor]] |\n",
    "                list[tuple[str, Callable[[torch.Tensor, torch.Tensor], torch.Tensor]]], optional): Metrics used to evaluate the model's performance.\n",
    "                Defaults to None.\n",
    "            callbacks (Callback | list[Callback], optional): Callbacks to be called during training. Defaults to None.\n",
    "                If None, only callback for printing training progress will be used\n",
    "            trainer (Trainer, optional): The trainer class used to train the model. Defaults to None. If None, Trainer is used.\n",
    "            device (torch.device, optional): Device on which to train the model. Defaults to None. If None and cuda is available, cuda is used. Otherwise, cpu is used.\n",
    "\n",
    "        \"\"\"\n",
    "        if optimizer is None:\n",
    "            optimizer =  torch.optim.Adam(self.parameters())\n",
    "        elif isinstance(optimizer, Callable):\n",
    "            optimizer = optimizer(self.parameters())\n",
    "\n",
    "        if loss is None:\n",
    "            loss = torch.nn.L1Loss()\n",
    "\n",
    "        if device is None:\n",
    "            device = 'cuda' if torch.cuda.is_available() else 'cpu'\n",
    "\n",
    "        metrics = self._validate_metrics(metrics)\n",
    "\n",
    "        if callbacks is None:\n",
    "            callbacks = [\n",
    "                PrintingCallback()\n",
    "            ]\n",
    "\n",
    "        if trainer is None:\n",
    "            trainer = Trainer\n",
    "\n",
    "        self.trainer = trainer(\n",
    "            self, optimizer, loss, device, metrics,\n",
    "            callbacks=callbacks\n",
    "        )\n",
    "\n",
    "    def fit(\n",
    "        self,\n",
    "        data: Dataset | DataLoader,\n",
    "        n_epochs: int = 25,\n",
    "        batch_size: int = None,\n",
    "        val_data: Dataset | DataLoader = None,\n",
    "        val_batch_size: int = None,\n",
    "        update_every_n_batches: int = 1,\n",
    "        eval_on_n_batches: int = 1,\n",
    "        eval_every_n_epochs: int = 1\n",
    "    ) -> dict[str, np.ndarray]:\n",
    "        \"\"\"Trains the model on the given data.\n",
    "\n",
    "        Args:\n",
    "            data (Dataset | DataLoader): The dataset or data loader to be used for training.\n",
    "            n_epochs (int): The number of epochs to train the model for.\n",
    "            batch_size (int): The number of samples per batch. If None, it defaults to len(data)//10.\n",
    "            val_data (Dataset | DataLoader): The validation dataset or data loader. If None, no validation is performed.\n",
    "            val_batch_size (int): The number of samples per validation batch. If None, it defaults to len(val_data)//10.\n",
    "            update_every_n_batches (int): Numberof batches after which the learning rate will be updated.\n",
    "\n",
    "        Returns:\n",
    "        dict[str, np.ndarray]: A dictionary containing the history of metric values during training\n",
    "\n",
    "        Example:\n",
    "        >>> model = MyModel()\n",
    "        >>> model.fit(X_train, y_train, epochs=10, batch_size=32)\n",
    "        ... update_every_n_batches=10, verbose=True)\n",
    "        Epoch 1/10: 100%|██████████| 312/312 [00:01<00:00, 195.89it/s, loss=0.234]\n",
    "        Epoch 2/10: 100%|██████████| 312/312 [00:01<00:00, 195.89it/s, loss=0.123]\n",
    "        ...\n",
    "        >>> model(X_test)\n",
    "        array([0, 1, 1, ..., 1, 0, 1])\n",
    "        \"\"\"\n",
    "        train_loader, val_loader = self._prepare_dataloaders(data, batch_size, val_data, val_batch_size)\n",
    "        return self.trainer.fit(train_loader, n_epochs, val_loader, update_every_n_batches, eval_on_n_batches, eval_every_n_epochs)\n",
    "\n",
    "    def evaluate(\n",
    "        self,\n",
    "        data: Dataset | DataLoader,\n",
    "        batch_size: int = None,\n",
    "        eval_on_n_batches: int = 1\n",
    "    ):\n",
    "        \"\"\"\n",
    "        Evaluate the model on the given dataset or dataloader.\n",
    "\n",
    "        Args:\n",
    "            data (Dataset | DataLoader): Input data. Can be either a PyTorch Dataset or a DataLoader object\n",
    "            batch_size (int): batch size for the evaluation data. If not provided, the batch size is set to the length of the data divided by 10.\n",
    "            eval_on_n_batches (int): number of batches to evaluate on. If set to None, evaluate on the entire dataset.\n",
    "\n",
    "        Returns:\n",
    "            dict: A dictionary containing the evaluation metrics and their values.\n",
    "        \"\"\"\n",
    "        val_loader, _ = self._prepare_dataloaders(data, batch_size, None, None)\n",
    "        return self.trainer.evaluate(val_loader, eval_on_n_batches)\n",
    "\n",
    "    def save(self, path: str | os.PathLike):\n",
    "        \"\"\"\n",
    "        save method\n",
    "\n",
    "        Args:\n",
    "        path (str | os.PathLike): path to the location where the model's parameters should be saved\n",
    "\n",
    "        save the model's state_dict to the specified path\n",
    "        \"\"\"\n",
    "        torch.save(self.state_dict(), path)\n",
    "\n",
    "    def load(self, path: str | os.PathLike):\n",
    "        \"\"\"\n",
    "        load method\n",
    "\n",
    "        Args:\n",
    "        path (str | os.PathLike): path to the location where the model's parameters are saved\n",
    "\n",
    "        Load the model's parameters from the specified path\n",
    "        \"\"\"\n",
    "        self.load_state_dict(torch.load(path))\n"
   ]
  },
  {
   "attachments": {},
   "cell_type": "markdown",
   "metadata": {},
   "source": [
    "## testing service methods"
   ]
  },
  {
   "cell_type": "code",
   "execution_count": 17,
   "metadata": {},
   "outputs": [
    {
     "data": {
      "text/plain": [
       "(<torch.utils.data.dataloader.DataLoader at 0x7f0130ab8c40>, None)"
      ]
     },
     "execution_count": 17,
     "metadata": {},
     "output_type": "execute_result"
    }
   ],
   "source": [
    "BaseModel._prepare_dataloaders(train_loader, None, None, None)"
   ]
  },
  {
   "cell_type": "code",
   "execution_count": 18,
   "metadata": {},
   "outputs": [
    {
     "data": {
      "text/plain": [
       "(<torch.utils.data.dataloader.DataLoader at 0x7f0130a31060>, None)"
      ]
     },
     "execution_count": 18,
     "metadata": {},
     "output_type": "execute_result"
    }
   ],
   "source": [
    "BaseModel._prepare_dataloaders(train, None, None, None)"
   ]
  },
  {
   "cell_type": "code",
   "execution_count": 19,
   "metadata": {},
   "outputs": [
    {
     "data": {
      "text/plain": [
       "(<torch.utils.data.dataloader.DataLoader at 0x7f0130ab8c40>,\n",
       " <torch.utils.data.dataloader.DataLoader at 0x7f0130aebdf0>)"
      ]
     },
     "execution_count": 19,
     "metadata": {},
     "output_type": "execute_result"
    }
   ],
   "source": [
    "BaseModel._prepare_dataloaders(train_loader, None, val_loader, None)"
   ]
  },
  {
   "cell_type": "code",
   "execution_count": 20,
   "metadata": {},
   "outputs": [
    {
     "data": {
      "text/plain": [
       "(<torch.utils.data.dataloader.DataLoader at 0x7f0130a31030>,\n",
       " <torch.utils.data.dataloader.DataLoader at 0x7f0130a33310>)"
      ]
     },
     "execution_count": 20,
     "metadata": {},
     "output_type": "execute_result"
    }
   ],
   "source": [
    "BaseModel._prepare_dataloaders(train, None, test, None)"
   ]
  },
  {
   "cell_type": "code",
   "execution_count": 21,
   "metadata": {},
   "outputs": [
    {
     "data": {
      "text/plain": [
       "(<torch.utils.data.dataloader.DataLoader at 0x7f0130a30a60>,\n",
       " <torch.utils.data.dataloader.DataLoader at 0x7f0130a30a00>)"
      ]
     },
     "execution_count": 21,
     "metadata": {},
     "output_type": "execute_result"
    }
   ],
   "source": [
    "BaseModel._prepare_dataloaders(train, None, None, 30)"
   ]
  },
  {
   "cell_type": "code",
   "execution_count": 23,
   "metadata": {},
   "outputs": [
    {
     "data": {
      "text/plain": [
       "(<torch.utils.data.dataloader.DataLoader at 0x7f0130a30610>,\n",
       " <torch.utils.data.dataloader.DataLoader at 0x7f0130a33a30>)"
      ]
     },
     "execution_count": 23,
     "metadata": {},
     "output_type": "execute_result"
    }
   ],
   "source": [
    "BaseModel._prepare_dataloaders(train, 200, None, 30)"
   ]
  },
  {
   "cell_type": "code",
   "execution_count": 22,
   "metadata": {},
   "outputs": [
    {
     "data": {
      "text/plain": [
       "(<torch.utils.data.dataloader.DataLoader at 0x7f0130ab8c40>,\n",
       " <torch.utils.data.dataloader.DataLoader at 0x7f0130ab82e0>)"
      ]
     },
     "execution_count": 22,
     "metadata": {},
     "output_type": "execute_result"
    }
   ],
   "source": [
    "BaseModel._prepare_dataloaders(train_loader, None, test, 30)"
   ]
  },
  {
   "cell_type": "code",
   "execution_count": 30,
   "metadata": {},
   "outputs": [],
   "source": [
    "def fun():\n",
    "    ..."
   ]
  },
  {
   "cell_type": "code",
   "execution_count": 44,
   "metadata": {},
   "outputs": [
    {
     "data": {
      "text/plain": [
       "[('fun', <function __main__.fun()>)]"
      ]
     },
     "execution_count": 44,
     "metadata": {},
     "output_type": "execute_result"
    }
   ],
   "source": [
    "BaseModel._validate_metrics(fun)"
   ]
  },
  {
   "cell_type": "code",
   "execution_count": 42,
   "metadata": {},
   "outputs": [
    {
     "data": {
      "text/plain": [
       "[('a', <function __main__.fun()>)]"
      ]
     },
     "execution_count": 42,
     "metadata": {},
     "output_type": "execute_result"
    }
   ],
   "source": [
    "BaseModel._validate_metrics(['a', fun])"
   ]
  },
  {
   "cell_type": "code",
   "execution_count": 39,
   "metadata": {},
   "outputs": [
    {
     "data": {
      "text/plain": [
       "[('fun', <function __main__.fun()>),\n",
       " ('fun', <function __main__.fun()>),\n",
       " ('fun', <function __main__.fun()>)]"
      ]
     },
     "execution_count": 39,
     "metadata": {},
     "output_type": "execute_result"
    }
   ],
   "source": [
    "BaseModel._validate_metrics([fun, fun, fun])"
   ]
  },
  {
   "cell_type": "code",
   "execution_count": 40,
   "metadata": {},
   "outputs": [
    {
     "data": {
      "text/plain": [
       "[('a', <function __main__.fun()>),\n",
       " ('b', <function __main__.fun()>),\n",
       " ('c', <function __main__.fun()>)]"
      ]
     },
     "execution_count": 40,
     "metadata": {},
     "output_type": "execute_result"
    }
   ],
   "source": [
    "BaseModel._validate_metrics([('a', fun), ('b', fun), ('c', fun)])"
   ]
  },
  {
   "attachments": {},
   "cell_type": "markdown",
   "metadata": {},
   "source": [
    "## tinynet"
   ]
  },
  {
   "cell_type": "code",
   "execution_count": 100,
   "metadata": {},
   "outputs": [],
   "source": [
    "import torchmetrics.functional as TF\n",
    "from torch.optim import Adam\n",
    "from torch.utils.data import random_split\n",
    "from deepmeg.training.callbacks import EarlyStopping\n",
    "from torch.nn import BCEWithLogitsLoss"
   ]
  },
  {
   "cell_type": "code",
   "execution_count": 101,
   "metadata": {},
   "outputs": [],
   "source": [
    "dataset_path = '../data/dataset.pt'"
   ]
  },
  {
   "cell_type": "code",
   "execution_count": 102,
   "metadata": {},
   "outputs": [],
   "source": [
    "class TinyNet(BaseModel):\n",
    "\n",
    "    def __init__(self, n_channels, n_latent, n_times, pool_factor, n_outputs):\n",
    "        super().__init__()\n",
    "        self.pool_factor = pool_factor\n",
    "        self.unmixing_layer = nn.Conv1d(n_channels, n_latent, kernel_size=1, bias=False)\n",
    "        self.unmixing_layer_batchnorm = nn.BatchNorm1d(n_latent, affine=False)\n",
    "        final_out_features = (n_times//pool_factor+1)*n_latent\n",
    "        self.features_batchnorm = nn.BatchNorm1d(final_out_features, affine=False)\n",
    "        self.fc_layer = nn.Linear(final_out_features, n_outputs)\n",
    "\n",
    "\n",
    "    def forward(self, x):\n",
    "        x = self.unmixing_layer(x)\n",
    "        x = self.unmixing_layer_batchnorm(x)\n",
    "        x = x[:, :, ::self.pool_factor].contiguous()\n",
    "        x = torch.flatten(x, 1)\n",
    "        x = self.features_batchnorm(x)\n",
    "        return self.fc_layer(x)"
   ]
  },
  {
   "cell_type": "code",
   "execution_count": 103,
   "metadata": {},
   "outputs": [],
   "source": [
    "model = TinyNet(204, 8, 301, 10, 8)\n",
    "optimizer = Adam\n",
    "loss = BCEWithLogitsLoss()\n",
    "metric = TF.classification.binary_accuracy\n",
    "model.compile(optimizer, loss, metric, callbacks=[PrintingCallback(), EarlyStopping(monitor='loss_val', restore_best_weights=False)])"
   ]
  },
  {
   "cell_type": "code",
   "execution_count": 104,
   "metadata": {},
   "outputs": [],
   "source": [
    "dataset = read_epochs_dataset(dataset_path)\n",
    "train, test = random_split(dataset, [.7, .3])"
   ]
  },
  {
   "cell_type": "code",
   "execution_count": 105,
   "metadata": {},
   "outputs": [
    {
     "name": "stdout",
     "output_type": "stream",
     "text": [
      "Epoch 0   loss_train:  0.7253   |    binary_accuracy_train:  0.5141   |    loss_val:  0.6982   |    binary_accuracy_val:  0.5214\n",
      "Epoch 1   loss_train:  0.7048   |    binary_accuracy_train:  0.5365   |    loss_val:  0.6909   |    binary_accuracy_val:  0.5325\n",
      "Epoch 2   loss_train:  0.6881   |    binary_accuracy_train:  0.5599   |    loss_val:  0.6837   |    binary_accuracy_val:  0.5545\n",
      "Epoch 3   loss_train:  0.6732   |    binary_accuracy_train:  0.5793   |    loss_val:  0.6763   |    binary_accuracy_val:  0.5772\n",
      "Epoch 4   loss_train:  0.6596   |    binary_accuracy_train:  0.6005   |    loss_val:  0.6688   |    binary_accuracy_val:  0.5949\n",
      "Epoch 5   loss_train:  0.6469   |    binary_accuracy_train:  0.6210   |    loss_val:  0.6611   |    binary_accuracy_val:  0.6108\n",
      "Epoch 6   loss_train:  0.6351   |    binary_accuracy_train:  0.6402   |    loss_val:  0.6534   |    binary_accuracy_val:  0.6194\n",
      "Epoch 7   loss_train:  0.6241   |    binary_accuracy_train:  0.6572   |    loss_val:  0.6457   |    binary_accuracy_val:  0.6270\n",
      "Epoch 8   loss_train:  0.6136   |    binary_accuracy_train:  0.6675   |    loss_val:  0.6382   |    binary_accuracy_val:  0.6408\n",
      "Epoch 9   loss_train:  0.6038   |    binary_accuracy_train:  0.6818   |    loss_val:  0.6309   |    binary_accuracy_val:  0.6559\n",
      "Epoch 10  loss_train:  0.5944   |    binary_accuracy_train:  0.6936   |    loss_val:  0.6239   |    binary_accuracy_val:  0.6580\n",
      "Epoch 11  loss_train:  0.5854   |    binary_accuracy_train:  0.7012   |    loss_val:  0.6172   |    binary_accuracy_val:  0.6650\n",
      "Epoch 12  loss_train:  0.5768   |    binary_accuracy_train:  0.7096   |    loss_val:  0.6110   |    binary_accuracy_val:  0.6738\n",
      "Epoch 13  loss_train:  0.5686   |    binary_accuracy_train:  0.7194   |    loss_val:  0.6052   |    binary_accuracy_val:  0.6745\n",
      "Epoch 14  loss_train:  0.5607   |    binary_accuracy_train:  0.7246   |    loss_val:  0.5999   |    binary_accuracy_val:  0.6827\n",
      "Epoch 15  loss_train:  0.5531   |    binary_accuracy_train:  0.7311   |    loss_val:  0.5951   |    binary_accuracy_val:  0.6895\n",
      "Epoch 16  loss_train:  0.5458   |    binary_accuracy_train:  0.7375   |    loss_val:  0.5907   |    binary_accuracy_val:  0.6916\n",
      "Epoch 17  loss_train:  0.5388   |    binary_accuracy_train:  0.7456   |    loss_val:  0.5868   |    binary_accuracy_val:  0.6896\n",
      "Epoch 18  loss_train:  0.5321   |    binary_accuracy_train:  0.7479   |    loss_val:  0.5833   |    binary_accuracy_val:  0.6897\n",
      "Epoch 19  loss_train:  0.5256   |    binary_accuracy_train:  0.7566   |    loss_val:  0.5801   |    binary_accuracy_val:  0.6897\n",
      "Epoch 20  loss_train:  0.5194   |    binary_accuracy_train:  0.7617   |    loss_val:  0.5772   |    binary_accuracy_val:  0.6869\n",
      "Epoch 21  loss_train:  0.5133   |    binary_accuracy_train:  0.7672   |    loss_val:  0.5745   |    binary_accuracy_val:  0.6896\n",
      "Epoch 22  loss_train:  0.5074   |    binary_accuracy_train:  0.7701   |    loss_val:  0.5719   |    binary_accuracy_val:  0.6876\n",
      "Epoch 23  loss_train:  0.5017   |    binary_accuracy_train:  0.7771   |    loss_val:  0.5695   |    binary_accuracy_val:  0.6903\n",
      "Epoch 24  loss_train:  0.4962   |    binary_accuracy_train:  0.7818   |    loss_val:  0.5672   |    binary_accuracy_val:  0.6951\n",
      "Epoch 25  loss_train:  0.4908   |    binary_accuracy_train:  0.7862   |    loss_val:  0.5651   |    binary_accuracy_val:  0.6966\n",
      "Epoch 26  loss_train:  0.4856   |    binary_accuracy_train:  0.7906   |    loss_val:  0.5631   |    binary_accuracy_val:  0.6986\n",
      "Epoch 27  loss_train:  0.4804   |    binary_accuracy_train:  0.7958   |    loss_val:  0.5613   |    binary_accuracy_val:  0.7007\n",
      "Epoch 28  loss_train:  0.4754   |    binary_accuracy_train:  0.8024   |    loss_val:  0.5595   |    binary_accuracy_val:  0.7035\n",
      "Epoch 29  loss_train:  0.4706   |    binary_accuracy_train:  0.8067   |    loss_val:  0.5578   |    binary_accuracy_val:  0.7083\n",
      "Epoch 30  loss_train:  0.4658   |    binary_accuracy_train:  0.8105   |    loss_val:  0.5562   |    binary_accuracy_val:  0.7104\n",
      "Epoch 31  loss_train:  0.4611   |    binary_accuracy_train:  0.8150   |    loss_val:  0.5546   |    binary_accuracy_val:  0.7117\n",
      "Epoch 32  loss_train:  0.4565   |    binary_accuracy_train:  0.8201   |    loss_val:  0.5532   |    binary_accuracy_val:  0.7152\n",
      "Epoch 33  loss_train:  0.4520   |    binary_accuracy_train:  0.8235   |    loss_val:  0.5518   |    binary_accuracy_val:  0.7145\n",
      "Epoch 34  loss_train:  0.4476   |    binary_accuracy_train:  0.8277   |    loss_val:  0.5504   |    binary_accuracy_val:  0.7172\n",
      "Epoch 35  loss_train:  0.4432   |    binary_accuracy_train:  0.8317   |    loss_val:  0.5492   |    binary_accuracy_val:  0.7171\n",
      "Epoch 36  loss_train:  0.4390   |    binary_accuracy_train:  0.8345   |    loss_val:  0.5480   |    binary_accuracy_val:  0.7184\n",
      "Epoch 37  loss_train:  0.4348   |    binary_accuracy_train:  0.8398   |    loss_val:  0.5469   |    binary_accuracy_val:  0.7184\n",
      "Epoch 38  loss_train:  0.4307   |    binary_accuracy_train:  0.8428   |    loss_val:  0.5458   |    binary_accuracy_val:  0.7177\n",
      "Epoch 39  loss_train:  0.4266   |    binary_accuracy_train:  0.8476   |    loss_val:  0.5448   |    binary_accuracy_val:  0.7212\n",
      "Epoch 40  loss_train:  0.4227   |    binary_accuracy_train:  0.8523   |    loss_val:  0.5439   |    binary_accuracy_val:  0.7212\n",
      "Epoch 41  loss_train:  0.4188   |    binary_accuracy_train:  0.8551   |    loss_val:  0.5430   |    binary_accuracy_val:  0.7218\n",
      "Epoch 42  loss_train:  0.4149   |    binary_accuracy_train:  0.8576   |    loss_val:  0.5422   |    binary_accuracy_val:  0.7232\n",
      "Epoch 43  loss_train:  0.4111   |    binary_accuracy_train:  0.8611   |    loss_val:  0.5415   |    binary_accuracy_val:  0.7260\n",
      "Epoch 44  loss_train:  0.4074   |    binary_accuracy_train:  0.8635   |    loss_val:  0.5408   |    binary_accuracy_val:  0.7267\n",
      "Epoch 45  loss_train:  0.4038   |    binary_accuracy_train:  0.8670   |    loss_val:  0.5402   |    binary_accuracy_val:  0.7254\n",
      "Epoch 46  loss_train:  0.4002   |    binary_accuracy_train:  0.8702   |    loss_val:  0.5397   |    binary_accuracy_val:  0.7261\n",
      "Epoch 47  loss_train:  0.3966   |    binary_accuracy_train:  0.8740   |    loss_val:  0.5393   |    binary_accuracy_val:  0.7261\n",
      "Epoch 48  loss_train:  0.3932   |    binary_accuracy_train:  0.8777   |    loss_val:  0.5389   |    binary_accuracy_val:  0.7267\n",
      "Epoch 49  loss_train:  0.3898   |    binary_accuracy_train:  0.8797   |    loss_val:  0.5386   |    binary_accuracy_val:  0.7253\n",
      "Epoch 50  loss_train:  0.3864   |    binary_accuracy_train:  0.8814   |    loss_val:  0.5383   |    binary_accuracy_val:  0.7239\n",
      "Epoch 51  loss_train:  0.3831   |    binary_accuracy_train:  0.8826   |    loss_val:  0.5381   |    binary_accuracy_val:  0.7247\n",
      "Epoch 52  loss_train:  0.3798   |    binary_accuracy_train:  0.8836   |    loss_val:  0.5380   |    binary_accuracy_val:  0.7233\n",
      "Epoch 53  loss_train:  0.3766   |    binary_accuracy_train:  0.8881   |    loss_val:  0.5380   |    binary_accuracy_val:  0.7247\n",
      "Epoch 54  loss_train:  0.3734   |    binary_accuracy_train:  0.8907   |    loss_val:  0.5380   |    binary_accuracy_val:  0.7274\n",
      "Epoch 55  loss_train:  0.3703   |    binary_accuracy_train:  0.8913   |    loss_val:  0.5381   |    binary_accuracy_val:  0.7253\n",
      "Epoch 56  loss_train:  0.3672   |    binary_accuracy_train:  0.8932   |    loss_val:  0.5382   |    binary_accuracy_val:  0.7233\n",
      "Epoch 57  loss_train:  0.3642   |    binary_accuracy_train:  0.8940   |    loss_val:  0.5384   |    binary_accuracy_val:  0.7233\n",
      "Epoch 58  loss_train:  0.3612   |    binary_accuracy_train:  0.8965   |    loss_val:  0.5386   |    binary_accuracy_val:  0.7240\n",
      "The training loop was completed at epoch 60 due to an interruption\n",
      " 39%|███▉      | 59/150 [00:28<00:43,  2.08it/s]\n"
     ]
    },
    {
     "data": {
      "image/png": "[encoded data removed]",
      "text/plain": [
       "<Figure size 640x480 with 1 Axes>"
      ]
     },
     "metadata": {},
     "output_type": "display_data"
    },
    {
     "data": {
      "image/png": "[encoded data removed]",
      "text/plain": [
       "<Figure size 640x480 with 1 Axes>"
      ]
     },
     "metadata": {},
     "output_type": "display_data"
    }
   ],
   "source": [
    "history = model.fit(train, n_epochs=150, batch_size=200, val_batch_size=60)\n",
    "plot_metrics(history)"
   ]
  },
  {
   "cell_type": "code",
   "execution_count": 106,
   "metadata": {},
   "outputs": [
    {
     "name": "stdout",
     "output_type": "stream",
     "text": [
      "train_loss: 0.40747076814824884\n",
      "train_binary_accuracy: 0.8481643416664817\n",
      "loss: 0.5613878423517401\n",
      "binary_accuracy: 0.7195616906339471\n"
     ]
    }
   ],
   "source": [
    "train_result = model.evaluate(train)\n",
    "result = model.evaluate(test)\n",
    "\n",
    "for measure, value in train_result.items():\n",
    "    print(f'train_{measure}: {value}')\n",
    "\n",
    "for measure, value in result.items():\n",
    "    print(f'{measure}: {value}')"
   ]
  },
  {
   "cell_type": "code",
   "execution_count": 107,
   "metadata": {},
   "outputs": [],
   "source": [
    "model.save('../models/tinynet.pt')"
   ]
  },
  {
   "cell_type": "code",
   "execution_count": 108,
   "metadata": {},
   "outputs": [],
   "source": [
    "other_model = TinyNet(204, 8, 301, 10, 8)\n",
    "other_model.load('../models/tinynet.pt')\n",
    "optimizer = Adam\n",
    "loss = BCEWithLogitsLoss()\n",
    "metric = TF.classification.binary_accuracy\n",
    "other_model.compile(optimizer, loss, metric)"
   ]
  },
  {
   "cell_type": "code",
   "execution_count": 112,
   "metadata": {},
   "outputs": [
    {
     "name": "stdout",
     "output_type": "stream",
     "text": [
      "train_loss: 0.40464753996242175\n",
      "train_binary_accuracy: 0.8494099649516019\n",
      "loss: 0.5638000585816123\n",
      "binary_accuracy: 0.7142857150598005\n"
     ]
    }
   ],
   "source": [
    "train_result = other_model.evaluate(train)\n",
    "result = other_model.evaluate(test)\n",
    "\n",
    "for measure, value in train_result.items():\n",
    "    print(f'train_{measure}: {value}')\n",
    "\n",
    "for measure, value in result.items():\n",
    "    print(f'{measure}: {value}')"
   ]
  },
  {
   "cell_type": "code",
   "execution_count": 113,
   "metadata": {},
   "outputs": [],
   "source": [
    "from deepmeg.training.callbacks import L2Reg"
   ]
  },
  {
   "cell_type": "code",
   "execution_count": 117,
   "metadata": {},
   "outputs": [],
   "source": [
    "other_model.compile(\n",
    "    optimizer,\n",
    "    loss,\n",
    "    metric,\n",
    "    callbacks=[\n",
    "        PrintingCallback(),\n",
    "        EarlyStopping(\n",
    "            monitor='loss_val',\n",
    "            restore_best_weights=False\n",
    "        ),\n",
    "        L2Reg(\n",
    "            [\n",
    "                'unmixing_layer.weight',\n",
    "                'fc_layer.weight',\n",
    "                'fc_layer.bias'\n",
    "            ],\n",
    "            [\n",
    "                .01,\n",
    "                .01,\n",
    "                .0001\n",
    "            ]\n",
    "        )\n",
    "    ]\n",
    ")"
   ]
  },
  {
   "cell_type": "code",
   "execution_count": 118,
   "metadata": {},
   "outputs": [
    {
     "name": "stdout",
     "output_type": "stream",
     "text": [
      "Epoch 0   loss_train:  0.4646   |    binary_accuracy_train:  0.8412   |    loss_val:  0.4459   |    binary_accuracy_val:  0.8727\n",
      "Epoch 1   loss_train:  0.4549   |    binary_accuracy_train:  0.8493   |    loss_val:  0.4485   |    binary_accuracy_val:  0.8576\n",
      "Epoch 2   loss_train:  0.4486   |    binary_accuracy_train:  0.8583   |    loss_val:  0.4505   |    binary_accuracy_val:  0.8487\n",
      "Epoch 3   loss_train:  0.4431   |    binary_accuracy_train:  0.8625   |    loss_val:  0.4523   |    binary_accuracy_val:  0.8418\n",
      "Epoch 4   loss_train:  0.4382   |    binary_accuracy_train:  0.8661   |    loss_val:  0.4541   |    binary_accuracy_val:  0.8425\n",
      "Epoch 5   loss_train:  0.4337   |    binary_accuracy_train:  0.8690   |    loss_val:  0.4561   |    binary_accuracy_val:  0.8377\n",
      "The training loop was completed at epoch 7 due to an interruption\n",
      "  4%|▍         | 6/150 [00:03<01:34,  1.53it/s]\n"
     ]
    },
    {
     "data": {
      "image/png": "[encoded data removed]",
      "text/plain": [
       "<Figure size 640x480 with 1 Axes>"
      ]
     },
     "metadata": {},
     "output_type": "display_data"
    },
    {
     "data": {
      "image/png": "[encoded data removed]",
      "text/plain": [
       "<Figure size 640x480 with 1 Axes>"
      ]
     },
     "metadata": {},
     "output_type": "display_data"
    }
   ],
   "source": [
    "history = other_model.fit(train, n_epochs=150, batch_size=200, val_batch_size=60)\n",
    "plot_metrics(history)"
   ]
  },
  {
   "cell_type": "code",
   "execution_count": 119,
   "metadata": {},
   "outputs": [
    {
     "name": "stdout",
     "output_type": "stream",
     "text": [
      "train_loss: 0.4370158748193221\n",
      "train_binary_accuracy: 0.8645104928450151\n",
      "loss: 0.6275018561970104\n",
      "binary_accuracy: 0.7041395956819708\n"
     ]
    }
   ],
   "source": [
    "train_result = other_model.evaluate(train)\n",
    "result = other_model.evaluate(test)\n",
    "\n",
    "for measure, value in train_result.items():\n",
    "    print(f'train_{measure}: {value}')\n",
    "\n",
    "for measure, value in result.items():\n",
    "    print(f'{measure}: {value}')"
   ]
  }
 ],
 "metadata": {
  "kernelspec": {
   "display_name": "venv",
   "language": "python",
   "name": "python3"
  },
  "language_info": {
   "codemirror_mode": {
    "name": "ipython",
    "version": 3
   },
   "file_extension": ".py",
   "mimetype": "text/x-python",
   "name": "python",
   "nbconvert_exporter": "python",
   "pygments_lexer": "ipython3",
   "version": "3.10.9 (main, Dec 19 2022, 17:35:49) [GCC 12.2.0]"
  },
  "orig_nbformat": 4,
  "vscode": {
   "interpreter": {
    "hash": "5aa6b5b1e62fd42c97f5a6f6ec4ad4127e5c64e36f9f889d8836a95a9cc1eb4c"
   }
  }
 },
 "nbformat": 4,
 "nbformat_minor": 2
}
