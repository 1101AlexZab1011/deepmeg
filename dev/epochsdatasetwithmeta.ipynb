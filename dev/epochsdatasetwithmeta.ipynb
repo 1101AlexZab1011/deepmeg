{
 "cells": [
  {
   "cell_type": "code",
   "execution_count": 1,
   "metadata": {},
   "outputs": [],
   "source": [
    "import os\n",
    "import sys\n",
    "sys.path.insert(1, os.path.realpath(os.path.pardir))\n",
    "from deepmeg.data.datasets import EpochsDataset\n",
    "import numpy as np\n",
    "from typing import Callable, Any\n",
    "import torch\n",
    "import mne\n",
    "from deepmeg.preprocessing.transforms import one_hot_encoder\n",
    "from deepmeg.utils import check_path\n",
    "from collections.abc import Iterable"
   ]
  },
  {
   "cell_type": "code",
   "execution_count": 2,
   "metadata": {},
   "outputs": [],
   "source": [
    "class EpochsDatasetWithMeta(EpochsDataset):\n",
    "    def __init__(\n",
    "        self,\n",
    "        epochs: str | os.PathLike | tuple[np.ndarray, np.ndarray] | tuple[np.ndarray, np.ndarray, Iterable] | mne.Epochs,\n",
    "        transform: Callable[[torch.Tensor], torch.Tensor] = None, target_transform: Callable[[torch.Tensor], torch.Tensor]  = None,\n",
    "        savepath: str | os.PathLike = './data'\n",
    "    ):\n",
    "        if isinstance(epochs, (str, os.PathLike)):\n",
    "            epochs = mne.read_epochs(epochs)\n",
    "\n",
    "        if isinstance(epochs, (mne.Epochs, mne.epochs.EpochsArray)):\n",
    "            data = epochs.get_data()\n",
    "            X = [torch.Tensor(sample) for sample in data]\n",
    "            Y = one_hot_encoder(epochs.events[:, 2])\n",
    "            Y = [torch.Tensor(event) for event in Y]\n",
    "            Z = list(epochs.metadata.iterrows()) if epochs.metadata is not None else [None for _ in range(len(X))]\n",
    "        elif isinstance(epochs, tuple):\n",
    "            X = [torch.Tensor(sample) for sample in epochs[0]]\n",
    "            Y = [torch.Tensor(target) for target in epochs[1]]\n",
    "\n",
    "            if len(epochs) == 3:\n",
    "                Z = [metadata for metadata in epochs[2]]\n",
    "            else:\n",
    "                Z = [None for _ in range(len(X))]\n",
    "        else:\n",
    "            raise ValueError(f'Unsupported type for data samples: {type(epochs)}')\n",
    "\n",
    "        self.n_samples = len(X)\n",
    "        self.savepath = savepath\n",
    "        self.transform = transform\n",
    "        self.target_transform = target_transform\n",
    "\n",
    "        check_path(savepath)\n",
    "\n",
    "        for i, (sample, target, meta) in enumerate(zip(X, Y, Z)):\n",
    "            torch.save(sample, os.path.join(self.savepath, f'sample_{i}.pt'))\n",
    "            torch.save(target, os.path.join(self.savepath, f'target_{i}.pt'))\n",
    "\n",
    "            if meta is not None:\n",
    "                torch.save(meta, os.path.join(self.savepath, f'meta_{i}.pt'))\n",
    "\n",
    "    def __getitem__(self, idx):\n",
    "        sample_path = os.path.join(self.savepath, f'sample_{idx}.pt')\n",
    "        target_path = os.path.join(self.savepath, f'target_{idx}.pt')\n",
    "        meta_path = os.path.join(self.savepath, f'meta_{idx}.pt')\n",
    "\n",
    "        X = torch.load(sample_path)\n",
    "        Y = torch.load(target_path)\n",
    "        Z = torch.load(meta_path) if os.path.exists(meta_path) else None\n",
    "\n",
    "        if self.transform:\n",
    "            X = self.transform(X)\n",
    "\n",
    "        if self.target_transform:\n",
    "            Y = self.target_transform(Y)\n",
    "\n",
    "        return X, Y, Z"
   ]
  },
  {
   "cell_type": "code",
   "execution_count": 5,
   "metadata": {},
   "outputs": [
    {
     "name": "stdout",
     "output_type": "stream",
     "text": [
      "Opening raw data file /home/user/mne_data/MNE-multimodal-data/multimodal_raw.fif...\n",
      "    Read a total of 7 projection items:\n",
      "        grad_ssp_upright.fif : PCA-v1 (1 x 306)  idle\n",
      "        grad_ssp_upright.fif : PCA-v2 (1 x 306)  idle\n",
      "        mag_ssp_upright.fif : PCA-v1 (1 x 306)  idle\n",
      "        mag_ssp_upright.fif : PCA-v2 (1 x 306)  idle\n",
      "        mag_ssp_upright.fif : PCA-v3 (1 x 306)  idle\n",
      "        mag_ssp_upright.fif : PCA-v4 (1 x 306)  idle\n",
      "        mag_ssp_upright.fif : PCA-v5 (1 x 306)  idle\n",
      "    Range : 183600 ... 576599 =    305.687 ...   960.014 secs\n",
      "Ready.\n",
      "Not setting metadata\n",
      "118 matching events found\n",
      "Setting baseline interval to [-0.09989760657919393, 0.0] sec\n",
      "Applying baseline correction (mode: mean)\n",
      "Created an SSP operator (subspace dimension = 7)\n",
      "7 projection items activated\n",
      "Not setting metadata\n",
      "129 matching events found\n",
      "Setting baseline interval to [-0.09989760657919393, 0.0] sec\n",
      "Applying baseline correction (mode: mean)\n",
      "Created an SSP operator (subspace dimension = 7)\n",
      "7 projection items activated\n",
      "Not setting metadata\n",
      "115 matching events found\n",
      "Setting baseline interval to [-0.09989760657919393, 0.0] sec\n",
      "Applying baseline correction (mode: mean)\n",
      "Created an SSP operator (subspace dimension = 7)\n",
      "7 projection items activated\n",
      "Not setting metadata\n",
      "133 matching events found\n",
      "Setting baseline interval to [-0.09989760657919393, 0.0] sec\n",
      "Applying baseline correction (mode: mean)\n",
      "Created an SSP operator (subspace dimension = 7)\n",
      "7 projection items activated\n",
      "Not setting metadata\n",
      "107 matching events found\n",
      "Setting baseline interval to [-0.09989760657919393, 0.0] sec\n",
      "Applying baseline correction (mode: mean)\n",
      "Created an SSP operator (subspace dimension = 7)\n",
      "7 projection items activated\n",
      "Not setting metadata\n",
      "118 matching events found\n",
      "Setting baseline interval to [-0.09989760657919393, 0.0] sec\n",
      "Applying baseline correction (mode: mean)\n",
      "Created an SSP operator (subspace dimension = 7)\n",
      "7 projection items activated\n",
      "Not setting metadata\n",
      "104 matching events found\n",
      "Setting baseline interval to [-0.09989760657919393, 0.0] sec\n",
      "Applying baseline correction (mode: mean)\n",
      "Created an SSP operator (subspace dimension = 7)\n",
      "7 projection items activated\n",
      "Not setting metadata\n",
      "117 matching events found\n",
      "Setting baseline interval to [-0.09989760657919393, 0.0] sec\n",
      "Applying baseline correction (mode: mean)\n",
      "Created an SSP operator (subspace dimension = 7)\n",
      "7 projection items activated\n",
      "Loading data for 118 events and 361 original time points ...\n",
      "1 bad epochs dropped\n",
      "Loading data for 129 events and 361 original time points ...\n",
      "0 bad epochs dropped\n",
      "Loading data for 115 events and 361 original time points ...\n",
      "0 bad epochs dropped\n",
      "Loading data for 133 events and 361 original time points ...\n",
      "0 bad epochs dropped\n",
      "Loading data for 107 events and 361 original time points ...\n",
      "0 bad epochs dropped\n",
      "Loading data for 118 events and 361 original time points ...\n",
      "0 bad epochs dropped\n",
      "Loading data for 104 events and 361 original time points ...\n",
      "0 bad epochs dropped\n",
      "Loading data for 117 events and 361 original time points ...\n",
      "0 bad epochs dropped\n",
      "Loading data for 117 events and 361 original time points ...\n",
      "Loading data for 129 events and 361 original time points ...\n",
      "Loading data for 115 events and 361 original time points ...\n",
      "Loading data for 133 events and 361 original time points ...\n",
      "Loading data for 107 events and 361 original time points ...\n",
      "Loading data for 118 events and 361 original time points ...\n",
      "Loading data for 104 events and 361 original time points ...\n",
      "Loading data for 117 events and 361 original time points ...\n",
      "Not setting metadata\n",
      "940 matching events found\n",
      "Applying baseline correction (mode: mean)\n",
      "Created an SSP operator (subspace dimension = 7)\n"
     ]
    },
    {
     "data": {
      "text/html": [
       "<table class=\"table table-hover table-striped table-sm table-responsive small\">\n",
       "    <tr>\n",
       "        <th>Number of events</th>\n",
       "        <td>940</td>\n",
       "    </tr>\n",
       "    <tr>\n",
       "        <th>Events</th>\n",
       "        \n",
       "        <td>Auditory left: 117<br/>Auditory right: 104<br/>Somato left: 118<br/>Somato right: 107<br/>Visual Lower left: 115<br/>Visual Lower right: 129<br/>Visual Upper left: 133<br/>Visual Upper right: 117</td>\n",
       "        \n",
       "    </tr>\n",
       "    <tr>\n",
       "        <th>Time range</th>\n",
       "        <td>-0.100 – 0.499 sec</td>\n",
       "    </tr>\n",
       "    <tr>\n",
       "        <th>Baseline</th>\n",
       "        <td>-0.100 – 0.000 sec</td>\n",
       "    </tr>\n",
       "</table>"
      ],
      "text/plain": [
       "<EpochsArray |  940 events (all good), -0.0998976 - 0.499488 sec, baseline -0.0998976 – 0 sec, ~531.4 MB, data loaded,\n",
       " 'Visual Upper right': 117\n",
       " 'Visual Lower right': 129\n",
       " 'Visual Lower left': 115\n",
       " 'Visual Upper left': 133\n",
       " 'Somato right': 107\n",
       " 'Somato left': 118\n",
       " 'Auditory right': 104\n",
       " 'Auditory left': 117>"
      ]
     },
     "execution_count": 5,
     "metadata": {},
     "output_type": "execute_result"
    }
   ],
   "source": [
    "from mne.datasets import multimodal\n",
    "fname_raw = os.path.join(multimodal.data_path(), 'multimodal_raw.fif')\n",
    "raw = mne.io.read_raw_fif(fname_raw)\n",
    "\n",
    "cond = raw.acqparser.get_condition(raw, None)\n",
    "condition_names = [k for c in cond for k,v in c['event_id'].items()]\n",
    "epochs_list = [mne.Epochs(raw, **c) for c in cond]\n",
    "epochs = mne.concatenate_epochs(epochs_list)\n",
    "epochs.pick_types(meg='grad')"
   ]
  },
  {
   "cell_type": "code",
   "execution_count": 6,
   "metadata": {},
   "outputs": [
    {
     "data": {
      "text/plain": [
       "940"
      ]
     },
     "execution_count": 6,
     "metadata": {},
     "output_type": "execute_result"
    }
   ],
   "source": [
    "len(epochs)"
   ]
  },
  {
   "cell_type": "code",
   "execution_count": 9,
   "metadata": {},
   "outputs": [
    {
     "name": "stdout",
     "output_type": "stream",
     "text": [
      "Adding metadata with 5 columns\n"
     ]
    }
   ],
   "source": [
    "import pandas as pd\n",
    "\n",
    "epochs.metadata = pd.DataFrame(np.concatenate([np.random.random((len(epochs), 4)), np.expand_dims(np.arange(len(epochs)), -1)], axis=-1), columns = ['col 1', 'col 2', 'col 3', 'col 4', 'order'])"
   ]
  },
  {
   "cell_type": "code",
   "execution_count": 10,
   "metadata": {},
   "outputs": [],
   "source": [
    "dataset = EpochsDatasetWithMeta(epochs, savepath='../datasets/with_meta')\n",
    "dataset.save('../data/with_meta.pt')"
   ]
  },
  {
   "cell_type": "code",
   "execution_count": 13,
   "metadata": {},
   "outputs": [],
   "source": [
    "x, y, z = dataset[1]"
   ]
  },
  {
   "cell_type": "code",
   "execution_count": 14,
   "metadata": {},
   "outputs": [
    {
     "data": {
      "text/plain": [
       "(1,\n",
       " col 1    0.669610\n",
       " col 2    0.971271\n",
       " col 3    0.858652\n",
       " col 4    0.118109\n",
       " order    1.000000\n",
       " Name: 1, dtype: float64)"
      ]
     },
     "execution_count": 14,
     "metadata": {},
     "output_type": "execute_result"
    }
   ],
   "source": [
    "z"
   ]
  },
  {
   "cell_type": "code",
   "execution_count": 3,
   "metadata": {},
   "outputs": [],
   "source": [
    "dataset = EpochsDataset.load('../data/with_meta.pt')"
   ]
  },
  {
   "cell_type": "code",
   "execution_count": 4,
   "metadata": {},
   "outputs": [
    {
     "data": {
      "text/plain": [
       "(0,\n",
       " col 1    0.111421\n",
       " col 2    0.434592\n",
       " col 3    0.099079\n",
       " col 4    0.053474\n",
       " order    0.000000\n",
       " Name: 0, dtype: float64)"
      ]
     },
     "execution_count": 4,
     "metadata": {},
     "output_type": "execute_result"
    }
   ],
   "source": [
    "dataset[0][-1]"
   ]
  },
  {
   "cell_type": "code",
   "execution_count": 5,
   "metadata": {},
   "outputs": [],
   "source": [
    "train, test = torch.utils.data.random_split(dataset, [.7, .3])"
   ]
  },
  {
   "cell_type": "code",
   "execution_count": 6,
   "metadata": {},
   "outputs": [
    {
     "data": {
      "text/plain": [
       "(184,\n",
       " col 1      0.136726\n",
       " col 2      0.850591\n",
       " col 3      0.951405\n",
       " col 4      0.832411\n",
       " order    183.000000\n",
       " Name: 184, dtype: float64)"
      ]
     },
     "execution_count": 6,
     "metadata": {},
     "output_type": "execute_result"
    }
   ],
   "source": [
    "train[0][-1]"
   ]
  }
 ],
 "metadata": {
  "kernelspec": {
   "display_name": "venv",
   "language": "python",
   "name": "python3"
  },
  "language_info": {
   "codemirror_mode": {
    "name": "ipython",
    "version": 3
   },
   "file_extension": ".py",
   "mimetype": "text/x-python",
   "name": "python",
   "nbconvert_exporter": "python",
   "pygments_lexer": "ipython3",
   "version": "3.10.10"
  },
  "orig_nbformat": 4
 },
 "nbformat": 4,
 "nbformat_minor": 2
}
