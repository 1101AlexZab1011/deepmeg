{
 "cells": [
  {
   "attachments": {},
   "cell_type": "markdown",
   "metadata": {},
   "source": [
    "## Import data, set logging level"
   ]
  },
  {
   "cell_type": "code",
   "execution_count": 1,
   "metadata": {},
   "outputs": [],
   "source": [
    "from mne.datasets import multimodal\n",
    "import mne\n",
    "mne.set_log_level(verbose='CRITICAL')\n",
    "import os\n",
    "import sys\n",
    "sys.path.insert(1, os.path.realpath(os.path.pardir))\n",
    "from deepmeg.training.callbacks import Callback, EarlyStopping, L2Reg\n",
    "from deepmeg.training.trainers import Trainer\n",
    "from deepmeg.data.datasets import read_epochs_dataset, EpochsDataset\n",
    "from deepmeg.preprocessing.transforms import zscore\n",
    "from deepmeg.models import BaseModel\n",
    "import torch\n",
    "import torch.nn as nn\n",
    "from collections import defaultdict\n",
    "from deepmeg.data.utils import make_train_and_val_loaders\n",
    "from torch.utils.data import DataLoader, Dataset\n",
    "import torchmetrics\n",
    "from deepmeg.training.callbacks import PrintingCallback\n",
    "import matplotlib.pyplot as plt\n",
    "import numpy as np"
   ]
  },
  {
   "attachments": {},
   "cell_type": "markdown",
   "metadata": {},
   "source": [
    "## Reading Epochs and preprocessing"
   ]
  },
  {
   "cell_type": "code",
   "execution_count": 2,
   "metadata": {},
   "outputs": [
    {
     "data": {
      "text/html": [
       "<table class=\"table table-hover table-striped table-sm table-responsive small\">\n",
       "    <tr>\n",
       "        <th>Number of events</th>\n",
       "        <td>940</td>\n",
       "    </tr>\n",
       "    <tr>\n",
       "        <th>Events</th>\n",
       "        \n",
       "        <td>Auditory left: 117<br/>Auditory right: 104<br/>Somato left: 118<br/>Somato right: 107<br/>Visual Lower left: 115<br/>Visual Lower right: 129<br/>Visual Upper left: 133<br/>Visual Upper right: 117</td>\n",
       "        \n",
       "    </tr>\n",
       "    <tr>\n",
       "        <th>Time range</th>\n",
       "        <td>0.000 – 0.500 sec</td>\n",
       "    </tr>\n",
       "    <tr>\n",
       "        <th>Baseline</th>\n",
       "        <td>-0.100 – 0.000 sec</td>\n",
       "    </tr>\n",
       "</table>"
      ],
      "text/plain": [
       "<EpochsArray |  940 events (all good), 0.000102393 - 0.500102 sec, baseline -0.0998976 – 0 sec (baseline period was cropped after baseline correction), ~443.6 MB, data loaded,\n",
       " 'Visual Upper right': 117\n",
       " 'Visual Lower right': 129\n",
       " 'Visual Lower left': 115\n",
       " 'Visual Upper left': 133\n",
       " 'Somato right': 107\n",
       " 'Somato left': 118\n",
       " 'Auditory right': 104\n",
       " 'Auditory left': 117>"
      ]
     },
     "execution_count": 2,
     "metadata": {},
     "output_type": "execute_result"
    }
   ],
   "source": [
    "fname_raw = os.path.join(multimodal.data_path(), 'multimodal_raw.fif')\n",
    "raw = mne.io.read_raw_fif(fname_raw)\n",
    "\n",
    "cond = raw.acqparser.get_condition(raw, None)\n",
    "# get the list of condition names\n",
    "condition_names = [k for c in cond for k,v in c['event_id'].items()]\n",
    "epochs_list = [mne.Epochs(raw, **c) for c in cond]\n",
    "epochs = mne.concatenate_epochs(epochs_list)\n",
    "epochs.pick_types(meg='grad')\n",
    "epochs.apply_baseline((None, 0))\n",
    "epochs.crop(0, None)"
   ]
  },
  {
   "attachments": {},
   "cell_type": "markdown",
   "metadata": {},
   "source": [
    "## Create dataset containig epoched data"
   ]
  },
  {
   "cell_type": "code",
   "execution_count": 4,
   "metadata": {},
   "outputs": [],
   "source": [
    "dataset = EpochsDataset(epochs, savepath='../dataset', transform = zscore)\n",
    "del raw, epochs, epochs_list"
   ]
  },
  {
   "attachments": {},
   "cell_type": "markdown",
   "metadata": {},
   "source": [
    "## Save dataset"
   ]
  },
  {
   "cell_type": "code",
   "execution_count": 5,
   "metadata": {},
   "outputs": [],
   "source": [
    "dataset.save('../data/dataset.pt')"
   ]
  },
  {
   "attachments": {},
   "cell_type": "markdown",
   "metadata": {},
   "source": [
    "## Read dataset"
   ]
  },
  {
   "cell_type": "code",
   "execution_count": 5,
   "metadata": {},
   "outputs": [],
   "source": [
    "dataset = read_epochs_dataset('../data/dataset.pt')"
   ]
  },
  {
   "attachments": {},
   "cell_type": "markdown",
   "metadata": {},
   "source": [
    "## Split dataset into train and test sets"
   ]
  },
  {
   "cell_type": "code",
   "execution_count": 6,
   "metadata": {},
   "outputs": [],
   "source": [
    "train, test = torch.utils.data.random_split(dataset, [.7, .3])"
   ]
  },
  {
   "attachments": {},
   "cell_type": "markdown",
   "metadata": {},
   "source": [
    "## Create model, inheriting from BaseModel class.\n",
    "This model has a spatial filtering layer with a choice of each n-th output and a fully connected layer for predicting"
   ]
  },
  {
   "cell_type": "code",
   "execution_count": 7,
   "metadata": {},
   "outputs": [],
   "source": [
    "class TinyNet(BaseModel):\n",
    "\n",
    "    def __init__(\n",
    "        self,\n",
    "        n_channels: int,\n",
    "        n_latent: int,\n",
    "        n_times: int,\n",
    "        pool_factor: int,\n",
    "        n_outputs: int\n",
    "    ):\n",
    "        \"\"\"\n",
    "        A tiny neural network for time series classification.\n",
    "\n",
    "        Parameters:\n",
    "            n_channels (int): Number of input channels\n",
    "            n_latent (int): Number of latent features\n",
    "            n_times (int): Number of time steps in the input\n",
    "            pool_factor (int): Pooling factor to down-sample the time series\n",
    "            n_outputs (int): Number of output classes\n",
    "\n",
    "        Attributes:\n",
    "            pool_factor (int): Pooling factor to down-sample the time series\n",
    "            unmixing_layer (nn.Conv1d): 1D convolutional layer for unmixing (spatial filtering) the input\n",
    "            unmixing_layer_batchnorm (nn.BatchNorm1d): batch normalization layer for the unmixing layer\n",
    "            features_batchnorm (nn.BatchNorm1d): batch normalization layer for the final features\n",
    "            fc_layer (nn.Linear): fully connected layer for the output\n",
    "        \"\"\"\n",
    "        super().__init__()\n",
    "        self.pool_factor = pool_factor\n",
    "        self.unmixing_layer = nn.Conv1d(n_channels, n_latent, kernel_size=1, bias=False)\n",
    "        self.unmixing_layer_batchnorm = nn.BatchNorm1d(n_latent, affine=False)\n",
    "        final_out_features = (n_times//pool_factor+1)*n_latent\n",
    "        self.features_batchnorm = nn.BatchNorm1d(final_out_features, affine=False)\n",
    "        self.fc_layer = nn.Linear(final_out_features, n_outputs)\n",
    "\n",
    "\n",
    "    def forward(self, x: torch.Tensor):\n",
    "        \"\"\"\n",
    "        Forward pass of the model\n",
    "\n",
    "        Args:\n",
    "            x (torch.Tensor): input tensor of shape (batch_size, n_channels, n_times)\n",
    "\n",
    "        Returns:\n",
    "            torch.Tensor: output tensor of shape (batch_size, n_outputs)\n",
    "\n",
    "        \"\"\"\n",
    "        x = self.unmixing_layer(x)\n",
    "        x = self.unmixing_layer_batchnorm(x)\n",
    "        x = x[:, :, ::self.pool_factor].contiguous()\n",
    "        x = torch.flatten(x, 1)\n",
    "        x = self.features_batchnorm(x)\n",
    "        return self.fc_layer(x)"
   ]
  },
  {
   "cell_type": "code",
   "execution_count": 8,
   "metadata": {},
   "outputs": [],
   "source": [
    "# very simple function to plot history of the model training\n",
    "\n",
    "def plot_metrics(metrics: dict[str, np.ndarray]):\n",
    "    plot_dict = defaultdict(dict)\n",
    "\n",
    "    for metric, values in metrics.items():\n",
    "        metric_data = metric.split('_')\n",
    "        metric_name = '_'.join(metric_data[:-1])\n",
    "        metric_kind = metric_data[-1]\n",
    "        plot_dict[metric_name][metric_kind] = values\n",
    "\n",
    "    for metric_name, kind_dict in plot_dict.items():\n",
    "        legend = list()\n",
    "        for metric_kind, kind in kind_dict.items():\n",
    "            plt.plot(kind)\n",
    "            legend.append(metric_kind)\n",
    "        plt.title(metric_name)\n",
    "        plt.legend(legend)\n",
    "        plt.show()"
   ]
  },
  {
   "attachments": {},
   "cell_type": "markdown",
   "metadata": {},
   "source": [
    "## Compile model"
   ]
  },
  {
   "cell_type": "code",
   "execution_count": 9,
   "metadata": {},
   "outputs": [],
   "source": [
    "model = TinyNet(\n",
    "    n_channels=204, # ~ number of channels (gradiometers)\n",
    "    n_latent=8, # ~ number of latent factors\n",
    "    n_times=301, # ~ number of samples in epoch after preprocessing\n",
    "    pool_factor=10, # ~ take each 10th sample from spatially filtered components\n",
    "    n_outputs=8 # ~ number of output classes (number of events in epochs)\n",
    ")\n",
    "\n",
    "# if you want to define optimizer, do not forget to specify model parameters (e.g., torch.optim.Adam(model.parameters()))\n",
    "optimizer = torch.optim.Adam\n",
    "\n",
    "loss = torch.nn.BCEWithLogitsLoss()\n",
    "metric = torchmetrics.functional.classification.binary_accuracy\n",
    "\n",
    "# in model compilation two callbacks are used: PrintingCallback is used to print training history and EarlyStopping is used to prevent overfitting\n",
    "model.compile(\n",
    "    optimizer,\n",
    "    loss,\n",
    "    metric,\n",
    "    callbacks=[\n",
    "        PrintingCallback(),\n",
    "        EarlyStopping(monitor='loss_val', restore_best_weights=False)\n",
    "    ]\n",
    ")"
   ]
  },
  {
   "attachments": {},
   "cell_type": "markdown",
   "metadata": {},
   "source": [
    "## Training the model"
   ]
  },
  {
   "cell_type": "code",
   "execution_count": 10,
   "metadata": {},
   "outputs": [
    {
     "name": "stdout",
     "output_type": "stream",
     "text": [
      "Epoch 0:  loss_train:  0.7327   |    binary_accuracy_train:  0.5099   |    loss_val:  0.7126   |    binary_accuracy_val:  0.4939\n",
      "Epoch 1:  loss_train:  0.7230   |    binary_accuracy_train:  0.5165   |    loss_val:  0.7127   |    binary_accuracy_val:  0.4972\n",
      "Epoch 2:  loss_train:  0.7140   |    binary_accuracy_train:  0.5249   |    loss_val:  0.7126   |    binary_accuracy_val:  0.4972\n",
      "Epoch 3:  loss_train:  0.7055   |    binary_accuracy_train:  0.5362   |    loss_val:  0.7122   |    binary_accuracy_val:  0.5019\n",
      "Epoch 4:  loss_train:  0.6976   |    binary_accuracy_train:  0.5441   |    loss_val:  0.7114   |    binary_accuracy_val:  0.5102\n",
      "Epoch 5:  loss_train:  0.6901   |    binary_accuracy_train:  0.5547   |    loss_val:  0.7101   |    binary_accuracy_val:  0.5122\n",
      "Epoch 6:  loss_train:  0.6829   |    binary_accuracy_train:  0.5624   |    loss_val:  0.7083   |    binary_accuracy_val:  0.5206\n",
      "Epoch 7:  loss_train:  0.6762   |    binary_accuracy_train:  0.5754   |    loss_val:  0.7061   |    binary_accuracy_val:  0.5248\n",
      "Epoch 8:  loss_train:  0.6697   |    binary_accuracy_train:  0.5831   |    loss_val:  0.7036   |    binary_accuracy_val:  0.5337\n",
      "Epoch 9:  loss_train:  0.6634   |    binary_accuracy_train:  0.5934   |    loss_val:  0.7008   |    binary_accuracy_val:  0.5475\n",
      "Epoch 10: loss_train:  0.6574   |    binary_accuracy_train:  0.6036   |    loss_val:  0.6980   |    binary_accuracy_val:  0.5475\n",
      "Epoch 11: loss_train:  0.6515   |    binary_accuracy_train:  0.6129   |    loss_val:  0.6950   |    binary_accuracy_val:  0.5549\n",
      "Epoch 12: loss_train:  0.6459   |    binary_accuracy_train:  0.6218   |    loss_val:  0.6921   |    binary_accuracy_val:  0.5604\n",
      "Epoch 13: loss_train:  0.6405   |    binary_accuracy_train:  0.6341   |    loss_val:  0.6892   |    binary_accuracy_val:  0.5659\n",
      "Epoch 14: loss_train:  0.6352   |    binary_accuracy_train:  0.6400   |    loss_val:  0.6863   |    binary_accuracy_val:  0.5767\n",
      "Epoch 15: loss_train:  0.6301   |    binary_accuracy_train:  0.6428   |    loss_val:  0.6835   |    binary_accuracy_val:  0.5796\n",
      "Epoch 16: loss_train:  0.6252   |    binary_accuracy_train:  0.6497   |    loss_val:  0.6808   |    binary_accuracy_val:  0.5809\n",
      "Epoch 17: loss_train:  0.6204   |    binary_accuracy_train:  0.6563   |    loss_val:  0.6781   |    binary_accuracy_val:  0.5804\n",
      "Epoch 18: loss_train:  0.6158   |    binary_accuracy_train:  0.6630   |    loss_val:  0.6756   |    binary_accuracy_val:  0.5831\n",
      "Epoch 19: loss_train:  0.6114   |    binary_accuracy_train:  0.6669   |    loss_val:  0.6731   |    binary_accuracy_val:  0.5880\n",
      "Epoch 20: loss_train:  0.6071   |    binary_accuracy_train:  0.6706   |    loss_val:  0.6707   |    binary_accuracy_val:  0.5935\n",
      "Epoch 21: loss_train:  0.6030   |    binary_accuracy_train:  0.6787   |    loss_val:  0.6683   |    binary_accuracy_val:  0.5998\n",
      "Epoch 22: loss_train:  0.5990   |    binary_accuracy_train:  0.6820   |    loss_val:  0.6661   |    binary_accuracy_val:  0.5998\n",
      "Epoch 23: loss_train:  0.5951   |    binary_accuracy_train:  0.6857   |    loss_val:  0.6638   |    binary_accuracy_val:  0.6040\n",
      "Epoch 24: loss_train:  0.5913   |    binary_accuracy_train:  0.6906   |    loss_val:  0.6616   |    binary_accuracy_val:  0.6061\n",
      "Epoch 25: loss_train:  0.5876   |    binary_accuracy_train:  0.6935   |    loss_val:  0.6594   |    binary_accuracy_val:  0.6109\n",
      "Epoch 26: loss_train:  0.5839   |    binary_accuracy_train:  0.6992   |    loss_val:  0.6572   |    binary_accuracy_val:  0.6129\n",
      "Epoch 27: loss_train:  0.5804   |    binary_accuracy_train:  0.7027   |    loss_val:  0.6551   |    binary_accuracy_val:  0.6143\n",
      "Epoch 28: loss_train:  0.5769   |    binary_accuracy_train:  0.7064   |    loss_val:  0.6530   |    binary_accuracy_val:  0.6164\n",
      "Epoch 29: loss_train:  0.5734   |    binary_accuracy_train:  0.7098   |    loss_val:  0.6509   |    binary_accuracy_val:  0.6177\n",
      "Epoch 30: loss_train:  0.5700   |    binary_accuracy_train:  0.7145   |    loss_val:  0.6488   |    binary_accuracy_val:  0.6245\n",
      "Epoch 31: loss_train:  0.5667   |    binary_accuracy_train:  0.7179   |    loss_val:  0.6468   |    binary_accuracy_val:  0.6286\n",
      "Epoch 32: loss_train:  0.5633   |    binary_accuracy_train:  0.7226   |    loss_val:  0.6449   |    binary_accuracy_val:  0.6313\n",
      "Epoch 33: loss_train:  0.5601   |    binary_accuracy_train:  0.7246   |    loss_val:  0.6430   |    binary_accuracy_val:  0.6334\n",
      "Epoch 34: loss_train:  0.5569   |    binary_accuracy_train:  0.7261   |    loss_val:  0.6411   |    binary_accuracy_val:  0.6396\n",
      "Epoch 35: loss_train:  0.5537   |    binary_accuracy_train:  0.7286   |    loss_val:  0.6394   |    binary_accuracy_val:  0.6431\n",
      "Epoch 36: loss_train:  0.5505   |    binary_accuracy_train:  0.7293   |    loss_val:  0.6377   |    binary_accuracy_val:  0.6431\n",
      "Epoch 37: loss_train:  0.5474   |    binary_accuracy_train:  0.7327   |    loss_val:  0.6360   |    binary_accuracy_val:  0.6464\n",
      "Epoch 38: loss_train:  0.5444   |    binary_accuracy_train:  0.7377   |    loss_val:  0.6345   |    binary_accuracy_val:  0.6471\n",
      "Epoch 39: loss_train:  0.5414   |    binary_accuracy_train:  0.7409   |    loss_val:  0.6330   |    binary_accuracy_val:  0.6470\n",
      "Epoch 40: loss_train:  0.5384   |    binary_accuracy_train:  0.7426   |    loss_val:  0.6316   |    binary_accuracy_val:  0.6566\n",
      "Epoch 41: loss_train:  0.5355   |    binary_accuracy_train:  0.7429   |    loss_val:  0.6303   |    binary_accuracy_val:  0.6614\n",
      "Epoch 42: loss_train:  0.5326   |    binary_accuracy_train:  0.7463   |    loss_val:  0.6290   |    binary_accuracy_val:  0.6641\n",
      "Epoch 43: loss_train:  0.5297   |    binary_accuracy_train:  0.7483   |    loss_val:  0.6279   |    binary_accuracy_val:  0.6655\n",
      "Epoch 44: loss_train:  0.5269   |    binary_accuracy_train:  0.7510   |    loss_val:  0.6268   |    binary_accuracy_val:  0.6697\n",
      "Epoch 45: loss_train:  0.5242   |    binary_accuracy_train:  0.7535   |    loss_val:  0.6257   |    binary_accuracy_val:  0.6732\n",
      "Epoch 46: loss_train:  0.5215   |    binary_accuracy_train:  0.7554   |    loss_val:  0.6248   |    binary_accuracy_val:  0.6724\n",
      "Epoch 47: loss_train:  0.5188   |    binary_accuracy_train:  0.7586   |    loss_val:  0.6238   |    binary_accuracy_val:  0.6744\n",
      "Epoch 48: loss_train:  0.5161   |    binary_accuracy_train:  0.7626   |    loss_val:  0.6230   |    binary_accuracy_val:  0.6751\n",
      "Epoch 49: loss_train:  0.5135   |    binary_accuracy_train:  0.7660   |    loss_val:  0.6221   |    binary_accuracy_val:  0.6778\n",
      "Epoch 50: loss_train:  0.5109   |    binary_accuracy_train:  0.7665   |    loss_val:  0.6214   |    binary_accuracy_val:  0.6765\n",
      "Epoch 51: loss_train:  0.5084   |    binary_accuracy_train:  0.7680   |    loss_val:  0.6207   |    binary_accuracy_val:  0.6772\n",
      "Epoch 52: loss_train:  0.5059   |    binary_accuracy_train:  0.7700   |    loss_val:  0.6200   |    binary_accuracy_val:  0.6778\n",
      "Epoch 53: loss_train:  0.5034   |    binary_accuracy_train:  0.7729   |    loss_val:  0.6193   |    binary_accuracy_val:  0.6758\n",
      "Epoch 54: loss_train:  0.5009   |    binary_accuracy_train:  0.7749   |    loss_val:  0.6188   |    binary_accuracy_val:  0.6771\n",
      "Epoch 55: loss_train:  0.4985   |    binary_accuracy_train:  0.7776   |    loss_val:  0.6182   |    binary_accuracy_val:  0.6744\n",
      "Epoch 56: loss_train:  0.4961   |    binary_accuracy_train:  0.7796   |    loss_val:  0.6177   |    binary_accuracy_val:  0.6737\n",
      "Epoch 57: loss_train:  0.4938   |    binary_accuracy_train:  0.7811   |    loss_val:  0.6172   |    binary_accuracy_val:  0.6709\n",
      "Epoch 58: loss_train:  0.4915   |    binary_accuracy_train:  0.7840   |    loss_val:  0.6168   |    binary_accuracy_val:  0.6743\n",
      "Epoch 59: loss_train:  0.4892   |    binary_accuracy_train:  0.7853   |    loss_val:  0.6164   |    binary_accuracy_val:  0.6703\n",
      "Epoch 60: loss_train:  0.4869   |    binary_accuracy_train:  0.7853   |    loss_val:  0.6161   |    binary_accuracy_val:  0.6695\n",
      "Epoch 61: loss_train:  0.4847   |    binary_accuracy_train:  0.7853   |    loss_val:  0.6157   |    binary_accuracy_val:  0.6702\n",
      "Epoch 62: loss_train:  0.4825   |    binary_accuracy_train:  0.7875   |    loss_val:  0.6154   |    binary_accuracy_val:  0.6702\n",
      "Epoch 63: loss_train:  0.4803   |    binary_accuracy_train:  0.7894   |    loss_val:  0.6152   |    binary_accuracy_val:  0.6744\n",
      "Epoch 64: loss_train:  0.4781   |    binary_accuracy_train:  0.7894   |    loss_val:  0.6149   |    binary_accuracy_val:  0.6778\n",
      "Epoch 65: loss_train:  0.4760   |    binary_accuracy_train:  0.7914   |    loss_val:  0.6147   |    binary_accuracy_val:  0.6764\n",
      "Epoch 66: loss_train:  0.4738   |    binary_accuracy_train:  0.7922   |    loss_val:  0.6145   |    binary_accuracy_val:  0.6778\n",
      "Epoch 67: loss_train:  0.4717   |    binary_accuracy_train:  0.7944   |    loss_val:  0.6143   |    binary_accuracy_val:  0.6771\n",
      "Epoch 68: loss_train:  0.4697   |    binary_accuracy_train:  0.7956   |    loss_val:  0.6142   |    binary_accuracy_val:  0.6772\n",
      "Epoch 69: loss_train:  0.4676   |    binary_accuracy_train:  0.7971   |    loss_val:  0.6141   |    binary_accuracy_val:  0.6751\n",
      "Epoch 70: loss_train:  0.4656   |    binary_accuracy_train:  0.8000   |    loss_val:  0.6140   |    binary_accuracy_val:  0.6731\n",
      "Epoch 71: loss_train:  0.4636   |    binary_accuracy_train:  0.8020   |    loss_val:  0.6139   |    binary_accuracy_val:  0.6710\n",
      "Epoch 72: loss_train:  0.4616   |    binary_accuracy_train:  0.8045   |    loss_val:  0.6139   |    binary_accuracy_val:  0.6730\n",
      "Epoch 73: loss_train:  0.4596   |    binary_accuracy_train:  0.8065   |    loss_val:  0.6139   |    binary_accuracy_val:  0.6737\n",
      "Epoch 74: loss_train:  0.4576   |    binary_accuracy_train:  0.8087   |    loss_val:  0.6139   |    binary_accuracy_val:  0.6744\n",
      "Epoch 75: loss_train:  0.4557   |    binary_accuracy_train:  0.8116   |    loss_val:  0.6140   |    binary_accuracy_val:  0.6765\n",
      "Epoch 76: loss_train:  0.4537   |    binary_accuracy_train:  0.8141   |    loss_val:  0.6141   |    binary_accuracy_val:  0.6765\n",
      "Epoch 77: loss_train:  0.4518   |    binary_accuracy_train:  0.8151   |    loss_val:  0.6142   |    binary_accuracy_val:  0.6772\n",
      "The training loop was completed at epoch 79 due to an interruption\n",
      " 52%|█████▏    | 78/150 [00:32<00:29,  2.41it/s]\n"
     ]
    },
    {
     "data": {
      "image/png": "[encoded data removed]",
      "text/plain": [
       "<Figure size 640x480 with 1 Axes>"
      ]
     },
     "metadata": {},
     "output_type": "display_data"
    },
    {
     "data": {
      "image/png": "[encoded data removed]",
      "text/plain": [
       "<Figure size 640x480 with 1 Axes>"
      ]
     },
     "metadata": {},
     "output_type": "display_data"
    }
   ],
   "source": [
    "history = model.fit(train, n_epochs=150, batch_size=200, val_batch_size=60, update_every_n_batches=10)\n",
    "plot_metrics(history)"
   ]
  },
  {
   "attachments": {},
   "cell_type": "markdown",
   "metadata": {},
   "source": [
    "## Evaluate the model"
   ]
  },
  {
   "cell_type": "code",
   "execution_count": 11,
   "metadata": {},
   "outputs": [
    {
     "name": "stdout",
     "output_type": "stream",
     "text": [
      "train_loss: 0.49018159779635345\n",
      "train_binary_accuracy: 0.7843094359744679\n",
      "loss: 0.5793365673585371\n",
      "binary_accuracy: 0.6956168900836598\n"
     ]
    }
   ],
   "source": [
    "train_result = model.evaluate(train)\n",
    "result = model.evaluate(test)\n",
    "\n",
    "for measure, value in train_result.items():\n",
    "    print(f'train_{measure}: {value}')\n",
    "\n",
    "for measure, value in result.items():\n",
    "    print(f'{measure}: {value}')"
   ]
  },
  {
   "attachments": {},
   "cell_type": "markdown",
   "metadata": {},
   "source": [
    "## Make prediction"
   ]
  },
  {
   "attachments": {},
   "cell_type": "markdown",
   "metadata": {},
   "source": [
    "#### Take a random sample from the test set"
   ]
  },
  {
   "cell_type": "code",
   "execution_count": 50,
   "metadata": {},
   "outputs": [
    {
     "name": "stdout",
     "output_type": "stream",
     "text": [
      "Sample 130\n"
     ]
    }
   ],
   "source": [
    "i = np.random.randint(len(test))\n",
    "print(f'Sample {i}')\n",
    "x, y = test[i]\n",
    "y = y.numpy()\n",
    "\n",
    "# unsqueezing due to the first dimension must be batch size\n",
    "x = torch.unsqueeze(x, 0)"
   ]
  },
  {
   "attachments": {},
   "cell_type": "markdown",
   "metadata": {},
   "source": [
    "#### Make a prediction, print the predicted value and the actual label"
   ]
  },
  {
   "cell_type": "code",
   "execution_count": 51,
   "metadata": {},
   "outputs": [
    {
     "name": "stdout",
     "output_type": "stream",
     "text": [
      "Prediction:  1.21 | -0.31 |  0.11 | -2.77 |  0.48 |  3.39 | -0.74 | -1.76\n",
      "Actual:      0.0  |  0.0  |  0.0  |  0.0  |  0.0  |  1.0  |  0.0  |  0.0 \n"
     ]
    }
   ],
   "source": [
    "y_pred = np.round(torch.squeeze(model(x)).detach().numpy(), 2)\n",
    "\n",
    "print(f'Prediction: {\" | \".join([str(sample).center(5, \" \") for sample in y_pred])}')\n",
    "print(f'Actual:     {\" | \".join([str(sample).center(5, \" \") for sample in y])}')"
   ]
  },
  {
   "attachments": {},
   "cell_type": "markdown",
   "metadata": {},
   "source": [
    "## Save model weights"
   ]
  },
  {
   "cell_type": "code",
   "execution_count": 52,
   "metadata": {},
   "outputs": [],
   "source": [
    "# make sure that this path exists!\n",
    "model.save('../models/tinynet.pt')"
   ]
  },
  {
   "attachments": {},
   "cell_type": "markdown",
   "metadata": {},
   "source": [
    "## Create a new model and load weights"
   ]
  },
  {
   "cell_type": "code",
   "execution_count": 53,
   "metadata": {},
   "outputs": [],
   "source": [
    "other_model = TinyNet(204, 8, 301, 10, 8)\n",
    "other_model.load('../models/tinynet.pt')"
   ]
  },
  {
   "attachments": {},
   "cell_type": "markdown",
   "metadata": {},
   "source": [
    "## Evaluate the loaded model"
   ]
  },
  {
   "cell_type": "code",
   "execution_count": 55,
   "metadata": {},
   "outputs": [
    {
     "name": "stdout",
     "output_type": "stream",
     "text": [
      "train_loss: 0.4911928854205392\n",
      "train_binary_accuracy: 0.7855550700967963\n",
      "loss: 0.5828646475618536\n",
      "binary_accuracy: 0.6903409145095132\n"
     ]
    }
   ],
   "source": [
    "loss = torch.nn.BCEWithLogitsLoss()\n",
    "metric = torchmetrics.functional.classification.binary_accuracy\n",
    "\n",
    "# To make predictions and estimate loss, we only need to compile them. We don't need the rest of the parameters\n",
    "other_model.compile(\n",
    "    loss=loss,\n",
    "    metrics=metric\n",
    ")\n",
    "\n",
    "train_result = other_model.evaluate(train)\n",
    "result = other_model.evaluate(test)\n",
    "\n",
    "for measure, value in train_result.items():\n",
    "    print(f'train_{measure}: {value}')\n",
    "\n",
    "for measure, value in result.items():\n",
    "    print(f'{measure}: {value}')"
   ]
  },
  {
   "attachments": {},
   "cell_type": "markdown",
   "metadata": {},
   "source": [
    "## Continue training"
   ]
  },
  {
   "attachments": {},
   "cell_type": "markdown",
   "metadata": {},
   "source": [
    "#### Recompile the model with new parameters"
   ]
  },
  {
   "cell_type": "code",
   "execution_count": 58,
   "metadata": {},
   "outputs": [],
   "source": [
    "optimizer = torch.optim.AdamW(other_model.parameters(), lr=3e-3, eps=1e-10) # Let's make another optimizer, and define it\n",
    "loss = torch.nn.CrossEntropyLoss() # Let's try another loss function\n",
    "\n",
    "other_model.compile(\n",
    "    optimizer,\n",
    "    loss,\n",
    "    metric, # We do not change metric\n",
    "    callbacks=[\n",
    "        PrintingCallback(), # Callback for printing\n",
    "        EarlyStopping(\n",
    "            monitor='loss_val'\n",
    "        ), # Callback for early stopping, but with restoring weights\n",
    "        L2Reg(\n",
    "            [ # to see list of layer names use list(model.state_dict().keys())\n",
    "                'unmixing_layer.weight',\n",
    "                'fc_layer.weight',\n",
    "                'fc_layer.bias'\n",
    "            ],\n",
    "            [ # different lambda value for different layers\n",
    "                .01,\n",
    "                .005,\n",
    "                .0001\n",
    "            ]\n",
    "        ) # l2 regularization for specified layers\n",
    "    ]\n",
    ")"
   ]
  },
  {
   "attachments": {},
   "cell_type": "markdown",
   "metadata": {},
   "source": [
    "#### Fit the model with new training parameters"
   ]
  },
  {
   "cell_type": "code",
   "execution_count": 59,
   "metadata": {},
   "outputs": [
    {
     "name": "stdout",
     "output_type": "stream",
     "text": [
      "Epoch 0:  loss_train:  0.5246   |    binary_accuracy_train:  0.7828   |    loss_val:  0.4643   |    binary_accuracy_val:  0.7699\n",
      "Epoch 1:  loss_train:  0.3635   |    binary_accuracy_train:  0.7753   |    loss_val:  0.4525   |    binary_accuracy_val:  0.7519\n",
      "Epoch 2:  loss_train:  0.2779   |    binary_accuracy_train:  0.7723   |    loss_val:  0.4481   |    binary_accuracy_val:  0.7368\n",
      "Epoch 3:  loss_train:  0.2218   |    binary_accuracy_train:  0.7697   |    loss_val:  0.4466   |    binary_accuracy_val:  0.7328\n",
      "Epoch 4:  loss_train:  0.1819   |    binary_accuracy_train:  0.7647   |    loss_val:  0.4490   |    binary_accuracy_val:  0.7274\n",
      "Epoch 5:  loss_train:  0.1526   |    binary_accuracy_train:  0.7656   |    loss_val:  0.4531   |    binary_accuracy_val:  0.7192\n",
      "Epoch 6:  loss_train:  0.1308   |    binary_accuracy_train:  0.7631   |    loss_val:  0.4558   |    binary_accuracy_val:  0.7163\n",
      "Epoch 7:  loss_train:  0.1143   |    binary_accuracy_train:  0.7665   |    loss_val:  0.4573   |    binary_accuracy_val:  0.7149\n",
      "Epoch 8:  loss_train:  0.1019   |    binary_accuracy_train:  0.7651   |    loss_val:  0.4603   |    binary_accuracy_val:  0.7135\n",
      "The training loop was completed at epoch 10 due to an interruption\n",
      "  6%|▌         | 9/150 [00:05<01:26,  1.63it/s]\n"
     ]
    },
    {
     "data": {
      "image/png": "[encoded data removed]",
      "text/plain": [
       "<Figure size 640x480 with 1 Axes>"
      ]
     },
     "metadata": {},
     "output_type": "display_data"
    },
    {
     "data": {
      "image/png": "[encoded data removed]",
      "text/plain": [
       "<Figure size 640x480 with 1 Axes>"
      ]
     },
     "metadata": {},
     "output_type": "display_data"
    }
   ],
   "source": [
    "history = other_model.fit(train, n_epochs=150, batch_size=200, val_batch_size=60)\n",
    "plot_metrics(history)"
   ]
  },
  {
   "attachments": {},
   "cell_type": "markdown",
   "metadata": {},
   "source": [
    "## Evaluate the model"
   ]
  },
  {
   "cell_type": "code",
   "execution_count": 60,
   "metadata": {},
   "outputs": [
    {
     "name": "stdout",
     "output_type": "stream",
     "text": [
      "train_loss: 0.2420384558764371\n",
      "train_binary_accuracy: 0.7594624107534235\n",
      "loss: 0.626438623124903\n",
      "binary_accuracy: 0.7065746730024164\n"
     ]
    }
   ],
   "source": [
    "train_result = other_model.evaluate(train)\n",
    "result = other_model.evaluate(test)\n",
    "\n",
    "for measure, value in train_result.items():\n",
    "    print(f'train_{measure}: {value}')\n",
    "\n",
    "for measure, value in result.items():\n",
    "    print(f'{measure}: {value}')"
   ]
  }
 ],
 "metadata": {
  "kernelspec": {
   "display_name": "venv",
   "language": "python",
   "name": "python3"
  },
  "language_info": {
   "codemirror_mode": {
    "name": "ipython",
    "version": 3
   },
   "file_extension": ".py",
   "mimetype": "text/x-python",
   "name": "python",
   "nbconvert_exporter": "python",
   "pygments_lexer": "ipython3",
   "version": "3.10.9"
  },
  "orig_nbformat": 4,
  "vscode": {
   "interpreter": {
    "hash": "5aa6b5b1e62fd42c97f5a6f6ec4ad4127e5c64e36f9f889d8836a95a9cc1eb4c"
   }
  }
 },
 "nbformat": 4,
 "nbformat_minor": 2
}
